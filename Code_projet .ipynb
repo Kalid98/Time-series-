{
  "nbformat": 4,
  "nbformat_minor": 0,
  "metadata": {
    "colab": {
      "provenance": [],
      "toc_visible": true,
      "authorship_tag": "ABX9TyP+4rr9lXYsOZC9INIqG931",
      "include_colab_link": true
    },
    "kernelspec": {
      "name": "python3",
      "display_name": "Python 3"
    },
    "language_info": {
      "name": "python"
    },
    "widgets": {
      "application/vnd.jupyter.widget-state+json": {
        "80d12976ee5940239c60e6c270e468ce": {
          "model_module": "@jupyter-widgets/controls",
          "model_name": "VBoxModel",
          "model_module_version": "1.5.0",
          "state": {
            "_dom_classes": [
              "widget-interact"
            ],
            "_model_module": "@jupyter-widgets/controls",
            "_model_module_version": "1.5.0",
            "_model_name": "VBoxModel",
            "_view_count": null,
            "_view_module": "@jupyter-widgets/controls",
            "_view_module_version": "1.5.0",
            "_view_name": "VBoxView",
            "box_style": "",
            "children": [
              "IPY_MODEL_ca1c4c14e83447e6b3cfe94d488fd05c",
              "IPY_MODEL_9576689abaa24016aa5a2a7e3edc3b80"
            ],
            "layout": "IPY_MODEL_f18a1d44a51d4da796fd2de6edbdb0ee"
          }
        },
        "ca1c4c14e83447e6b3cfe94d488fd05c": {
          "model_module": "@jupyter-widgets/controls",
          "model_name": "DropdownModel",
          "model_module_version": "1.5.0",
          "state": {
            "_dom_classes": [],
            "_model_module": "@jupyter-widgets/controls",
            "_model_module_version": "1.5.0",
            "_model_name": "DropdownModel",
            "_options_labels": [
              "Complains",
              "Age Group",
              "Tariff Plan",
              "Status",
              "Age",
              "Churn"
            ],
            "_view_count": null,
            "_view_module": "@jupyter-widgets/controls",
            "_view_module_version": "1.5.0",
            "_view_name": "DropdownView",
            "description": "a",
            "description_tooltip": null,
            "disabled": false,
            "index": 0,
            "layout": "IPY_MODEL_98e3e04bceed4f6b8bf55b5e27b3a2cf",
            "style": "IPY_MODEL_3367cf1e1ae64961901c9b483d79a28d"
          }
        },
        "9576689abaa24016aa5a2a7e3edc3b80": {
          "model_module": "@jupyter-widgets/output",
          "model_name": "OutputModel",
          "model_module_version": "1.0.0",
          "state": {
            "_dom_classes": [],
            "_model_module": "@jupyter-widgets/output",
            "_model_module_version": "1.0.0",
            "_model_name": "OutputModel",
            "_view_count": null,
            "_view_module": "@jupyter-widgets/output",
            "_view_module_version": "1.0.0",
            "_view_name": "OutputView",
            "layout": "IPY_MODEL_90939612ad6e4911b4a183db9716b527",
            "msg_id": "",
            "outputs": [
              {
                "output_type": "display_data",
                "data": {
                  "text/plain": "<Figure size 640x480 with 1 Axes>",
                  "image/png": "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\n"
                },
                "metadata": {}
              }
            ]
          }
        },
        "f18a1d44a51d4da796fd2de6edbdb0ee": {
          "model_module": "@jupyter-widgets/base",
          "model_name": "LayoutModel",
          "model_module_version": "1.2.0",
          "state": {
            "_model_module": "@jupyter-widgets/base",
            "_model_module_version": "1.2.0",
            "_model_name": "LayoutModel",
            "_view_count": null,
            "_view_module": "@jupyter-widgets/base",
            "_view_module_version": "1.2.0",
            "_view_name": "LayoutView",
            "align_content": null,
            "align_items": null,
            "align_self": null,
            "border": null,
            "bottom": null,
            "display": null,
            "flex": null,
            "flex_flow": null,
            "grid_area": null,
            "grid_auto_columns": null,
            "grid_auto_flow": null,
            "grid_auto_rows": null,
            "grid_column": null,
            "grid_gap": null,
            "grid_row": null,
            "grid_template_areas": null,
            "grid_template_columns": null,
            "grid_template_rows": null,
            "height": null,
            "justify_content": null,
            "justify_items": null,
            "left": null,
            "margin": null,
            "max_height": null,
            "max_width": null,
            "min_height": null,
            "min_width": null,
            "object_fit": null,
            "object_position": null,
            "order": null,
            "overflow": null,
            "overflow_x": null,
            "overflow_y": null,
            "padding": null,
            "right": null,
            "top": null,
            "visibility": null,
            "width": null
          }
        },
        "98e3e04bceed4f6b8bf55b5e27b3a2cf": {
          "model_module": "@jupyter-widgets/base",
          "model_name": "LayoutModel",
          "model_module_version": "1.2.0",
          "state": {
            "_model_module": "@jupyter-widgets/base",
            "_model_module_version": "1.2.0",
            "_model_name": "LayoutModel",
            "_view_count": null,
            "_view_module": "@jupyter-widgets/base",
            "_view_module_version": "1.2.0",
            "_view_name": "LayoutView",
            "align_content": null,
            "align_items": null,
            "align_self": null,
            "border": null,
            "bottom": null,
            "display": null,
            "flex": null,
            "flex_flow": null,
            "grid_area": null,
            "grid_auto_columns": null,
            "grid_auto_flow": null,
            "grid_auto_rows": null,
            "grid_column": null,
            "grid_gap": null,
            "grid_row": null,
            "grid_template_areas": null,
            "grid_template_columns": null,
            "grid_template_rows": null,
            "height": null,
            "justify_content": null,
            "justify_items": null,
            "left": null,
            "margin": null,
            "max_height": null,
            "max_width": null,
            "min_height": null,
            "min_width": null,
            "object_fit": null,
            "object_position": null,
            "order": null,
            "overflow": null,
            "overflow_x": null,
            "overflow_y": null,
            "padding": null,
            "right": null,
            "top": null,
            "visibility": null,
            "width": null
          }
        },
        "3367cf1e1ae64961901c9b483d79a28d": {
          "model_module": "@jupyter-widgets/controls",
          "model_name": "DescriptionStyleModel",
          "model_module_version": "1.5.0",
          "state": {
            "_model_module": "@jupyter-widgets/controls",
            "_model_module_version": "1.5.0",
            "_model_name": "DescriptionStyleModel",
            "_view_count": null,
            "_view_module": "@jupyter-widgets/base",
            "_view_module_version": "1.2.0",
            "_view_name": "StyleView",
            "description_width": ""
          }
        },
        "90939612ad6e4911b4a183db9716b527": {
          "model_module": "@jupyter-widgets/base",
          "model_name": "LayoutModel",
          "model_module_version": "1.2.0",
          "state": {
            "_model_module": "@jupyter-widgets/base",
            "_model_module_version": "1.2.0",
            "_model_name": "LayoutModel",
            "_view_count": null,
            "_view_module": "@jupyter-widgets/base",
            "_view_module_version": "1.2.0",
            "_view_name": "LayoutView",
            "align_content": null,
            "align_items": null,
            "align_self": null,
            "border": null,
            "bottom": null,
            "display": null,
            "flex": null,
            "flex_flow": null,
            "grid_area": null,
            "grid_auto_columns": null,
            "grid_auto_flow": null,
            "grid_auto_rows": null,
            "grid_column": null,
            "grid_gap": null,
            "grid_row": null,
            "grid_template_areas": null,
            "grid_template_columns": null,
            "grid_template_rows": null,
            "height": null,
            "justify_content": null,
            "justify_items": null,
            "left": null,
            "margin": null,
            "max_height": null,
            "max_width": null,
            "min_height": null,
            "min_width": null,
            "object_fit": null,
            "object_position": null,
            "order": null,
            "overflow": null,
            "overflow_x": null,
            "overflow_y": null,
            "padding": null,
            "right": null,
            "top": null,
            "visibility": null,
            "width": null
          }
        },
        "862d266cd9a147a396ba0f79e24b2c91": {
          "model_module": "@jupyter-widgets/controls",
          "model_name": "VBoxModel",
          "model_module_version": "1.5.0",
          "state": {
            "_dom_classes": [
              "widget-interact"
            ],
            "_model_module": "@jupyter-widgets/controls",
            "_model_module_version": "1.5.0",
            "_model_name": "VBoxModel",
            "_view_count": null,
            "_view_module": "@jupyter-widgets/controls",
            "_view_module_version": "1.5.0",
            "_view_name": "VBoxView",
            "box_style": "",
            "children": [
              "IPY_MODEL_ba64d119f7ca43bfb89d662b4a963b0d",
              "IPY_MODEL_a1e78971dd1d45afa859b266e1158953"
            ],
            "layout": "IPY_MODEL_26546f4d8c4147f494aa74affd42108c"
          }
        },
        "ba64d119f7ca43bfb89d662b4a963b0d": {
          "model_module": "@jupyter-widgets/controls",
          "model_name": "DropdownModel",
          "model_module_version": "1.5.0",
          "state": {
            "_dom_classes": [],
            "_model_module": "@jupyter-widgets/controls",
            "_model_module_version": "1.5.0",
            "_model_name": "DropdownModel",
            "_options_labels": [
              "Frequency of use",
              "Frequency of SMS",
              "Customer Value",
              "Seconds of Use"
            ],
            "_view_count": null,
            "_view_module": "@jupyter-widgets/controls",
            "_view_module_version": "1.5.0",
            "_view_name": "DropdownView",
            "description": "b",
            "description_tooltip": null,
            "disabled": false,
            "index": 0,
            "layout": "IPY_MODEL_19711e6864c343c9b204df3c5f7e2a94",
            "style": "IPY_MODEL_277309e552074416a796ccf3dc586bd7"
          }
        },
        "a1e78971dd1d45afa859b266e1158953": {
          "model_module": "@jupyter-widgets/output",
          "model_name": "OutputModel",
          "model_module_version": "1.0.0",
          "state": {
            "_dom_classes": [],
            "_model_module": "@jupyter-widgets/output",
            "_model_module_version": "1.0.0",
            "_model_name": "OutputModel",
            "_view_count": null,
            "_view_module": "@jupyter-widgets/output",
            "_view_module_version": "1.0.0",
            "_view_name": "OutputView",
            "layout": "IPY_MODEL_031a12c0237d493aa595b2557d217c5b",
            "msg_id": "",
            "outputs": [
              {
                "output_type": "stream",
                "name": "stderr",
                "text": [
                  "<ipython-input-19-1ea8e7a53c8f>:6: UserWarning: \n",
                  "\n",
                  "`distplot` is a deprecated function and will be removed in seaborn v0.14.0.\n",
                  "\n",
                  "Please adapt your code to use either `displot` (a figure-level function with\n",
                  "similar flexibility) or `histplot` (an axes-level function for histograms).\n",
                  "\n",
                  "For a guide to updating your code to use the new functions, please see\n",
                  "https://gist.github.com/mwaskom/de44147ed2974457ad6372750bbe5751\n",
                  "\n",
                  "  sns.distplot(data[b], kde=False)\n"
                ]
              },
              {
                "output_type": "display_data",
                "data": {
                  "text/plain": "<Figure size 640x480 with 1 Axes>",
                  "image/png": "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\n"
                },
                "metadata": {}
              }
            ]
          }
        },
        "26546f4d8c4147f494aa74affd42108c": {
          "model_module": "@jupyter-widgets/base",
          "model_name": "LayoutModel",
          "model_module_version": "1.2.0",
          "state": {
            "_model_module": "@jupyter-widgets/base",
            "_model_module_version": "1.2.0",
            "_model_name": "LayoutModel",
            "_view_count": null,
            "_view_module": "@jupyter-widgets/base",
            "_view_module_version": "1.2.0",
            "_view_name": "LayoutView",
            "align_content": null,
            "align_items": null,
            "align_self": null,
            "border": null,
            "bottom": null,
            "display": null,
            "flex": null,
            "flex_flow": null,
            "grid_area": null,
            "grid_auto_columns": null,
            "grid_auto_flow": null,
            "grid_auto_rows": null,
            "grid_column": null,
            "grid_gap": null,
            "grid_row": null,
            "grid_template_areas": null,
            "grid_template_columns": null,
            "grid_template_rows": null,
            "height": null,
            "justify_content": null,
            "justify_items": null,
            "left": null,
            "margin": null,
            "max_height": null,
            "max_width": null,
            "min_height": null,
            "min_width": null,
            "object_fit": null,
            "object_position": null,
            "order": null,
            "overflow": null,
            "overflow_x": null,
            "overflow_y": null,
            "padding": null,
            "right": null,
            "top": null,
            "visibility": null,
            "width": null
          }
        },
        "19711e6864c343c9b204df3c5f7e2a94": {
          "model_module": "@jupyter-widgets/base",
          "model_name": "LayoutModel",
          "model_module_version": "1.2.0",
          "state": {
            "_model_module": "@jupyter-widgets/base",
            "_model_module_version": "1.2.0",
            "_model_name": "LayoutModel",
            "_view_count": null,
            "_view_module": "@jupyter-widgets/base",
            "_view_module_version": "1.2.0",
            "_view_name": "LayoutView",
            "align_content": null,
            "align_items": null,
            "align_self": null,
            "border": null,
            "bottom": null,
            "display": null,
            "flex": null,
            "flex_flow": null,
            "grid_area": null,
            "grid_auto_columns": null,
            "grid_auto_flow": null,
            "grid_auto_rows": null,
            "grid_column": null,
            "grid_gap": null,
            "grid_row": null,
            "grid_template_areas": null,
            "grid_template_columns": null,
            "grid_template_rows": null,
            "height": null,
            "justify_content": null,
            "justify_items": null,
            "left": null,
            "margin": null,
            "max_height": null,
            "max_width": null,
            "min_height": null,
            "min_width": null,
            "object_fit": null,
            "object_position": null,
            "order": null,
            "overflow": null,
            "overflow_x": null,
            "overflow_y": null,
            "padding": null,
            "right": null,
            "top": null,
            "visibility": null,
            "width": null
          }
        },
        "277309e552074416a796ccf3dc586bd7": {
          "model_module": "@jupyter-widgets/controls",
          "model_name": "DescriptionStyleModel",
          "model_module_version": "1.5.0",
          "state": {
            "_model_module": "@jupyter-widgets/controls",
            "_model_module_version": "1.5.0",
            "_model_name": "DescriptionStyleModel",
            "_view_count": null,
            "_view_module": "@jupyter-widgets/base",
            "_view_module_version": "1.2.0",
            "_view_name": "StyleView",
            "description_width": ""
          }
        },
        "031a12c0237d493aa595b2557d217c5b": {
          "model_module": "@jupyter-widgets/base",
          "model_name": "LayoutModel",
          "model_module_version": "1.2.0",
          "state": {
            "_model_module": "@jupyter-widgets/base",
            "_model_module_version": "1.2.0",
            "_model_name": "LayoutModel",
            "_view_count": null,
            "_view_module": "@jupyter-widgets/base",
            "_view_module_version": "1.2.0",
            "_view_name": "LayoutView",
            "align_content": null,
            "align_items": null,
            "align_self": null,
            "border": null,
            "bottom": null,
            "display": null,
            "flex": null,
            "flex_flow": null,
            "grid_area": null,
            "grid_auto_columns": null,
            "grid_auto_flow": null,
            "grid_auto_rows": null,
            "grid_column": null,
            "grid_gap": null,
            "grid_row": null,
            "grid_template_areas": null,
            "grid_template_columns": null,
            "grid_template_rows": null,
            "height": null,
            "justify_content": null,
            "justify_items": null,
            "left": null,
            "margin": null,
            "max_height": null,
            "max_width": null,
            "min_height": null,
            "min_width": null,
            "object_fit": null,
            "object_position": null,
            "order": null,
            "overflow": null,
            "overflow_x": null,
            "overflow_y": null,
            "padding": null,
            "right": null,
            "top": null,
            "visibility": null,
            "width": null
          }
        },
        "7a298598d2de4a6689f823792e157040": {
          "model_module": "@jupyter-widgets/controls",
          "model_name": "VBoxModel",
          "model_module_version": "1.5.0",
          "state": {
            "_dom_classes": [
              "widget-interact"
            ],
            "_model_module": "@jupyter-widgets/controls",
            "_model_module_version": "1.5.0",
            "_model_name": "VBoxModel",
            "_view_count": null,
            "_view_module": "@jupyter-widgets/controls",
            "_view_module_version": "1.5.0",
            "_view_name": "VBoxView",
            "box_style": "",
            "children": [
              "IPY_MODEL_9254d0deafb7420ab67b67515c32605d",
              "IPY_MODEL_9857d03ff7044c7b8ced74c8ab813237"
            ],
            "layout": "IPY_MODEL_51edc63aade84060b643d7c189764994"
          }
        },
        "9254d0deafb7420ab67b67515c32605d": {
          "model_module": "@jupyter-widgets/controls",
          "model_name": "DropdownModel",
          "model_module_version": "1.5.0",
          "state": {
            "_dom_classes": [],
            "_model_module": "@jupyter-widgets/controls",
            "_model_module_version": "1.5.0",
            "_model_name": "DropdownModel",
            "_options_labels": [
              "Frequency of use",
              "Frequency of SMS",
              "Customer Value",
              "Seconds of Use"
            ],
            "_view_count": null,
            "_view_module": "@jupyter-widgets/controls",
            "_view_module_version": "1.5.0",
            "_view_name": "DropdownView",
            "description": "b",
            "description_tooltip": null,
            "disabled": false,
            "index": 0,
            "layout": "IPY_MODEL_ac7829485f8e4fd6a7f855254102ddd1",
            "style": "IPY_MODEL_41bc7bbbb5d94a4bb87dc3c3fc1f1be7"
          }
        },
        "9857d03ff7044c7b8ced74c8ab813237": {
          "model_module": "@jupyter-widgets/output",
          "model_name": "OutputModel",
          "model_module_version": "1.0.0",
          "state": {
            "_dom_classes": [],
            "_model_module": "@jupyter-widgets/output",
            "_model_module_version": "1.0.0",
            "_model_name": "OutputModel",
            "_view_count": null,
            "_view_module": "@jupyter-widgets/output",
            "_view_module_version": "1.0.0",
            "_view_name": "OutputView",
            "layout": "IPY_MODEL_0d70b3e1022c4b078c39451d609bb21a",
            "msg_id": "",
            "outputs": [
              {
                "output_type": "display_data",
                "data": {
                  "text/plain": "<Figure size 640x480 with 1 Axes>",
                  "image/png": "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\n"
                },
                "metadata": {}
              }
            ]
          }
        },
        "51edc63aade84060b643d7c189764994": {
          "model_module": "@jupyter-widgets/base",
          "model_name": "LayoutModel",
          "model_module_version": "1.2.0",
          "state": {
            "_model_module": "@jupyter-widgets/base",
            "_model_module_version": "1.2.0",
            "_model_name": "LayoutModel",
            "_view_count": null,
            "_view_module": "@jupyter-widgets/base",
            "_view_module_version": "1.2.0",
            "_view_name": "LayoutView",
            "align_content": null,
            "align_items": null,
            "align_self": null,
            "border": null,
            "bottom": null,
            "display": null,
            "flex": null,
            "flex_flow": null,
            "grid_area": null,
            "grid_auto_columns": null,
            "grid_auto_flow": null,
            "grid_auto_rows": null,
            "grid_column": null,
            "grid_gap": null,
            "grid_row": null,
            "grid_template_areas": null,
            "grid_template_columns": null,
            "grid_template_rows": null,
            "height": null,
            "justify_content": null,
            "justify_items": null,
            "left": null,
            "margin": null,
            "max_height": null,
            "max_width": null,
            "min_height": null,
            "min_width": null,
            "object_fit": null,
            "object_position": null,
            "order": null,
            "overflow": null,
            "overflow_x": null,
            "overflow_y": null,
            "padding": null,
            "right": null,
            "top": null,
            "visibility": null,
            "width": null
          }
        },
        "ac7829485f8e4fd6a7f855254102ddd1": {
          "model_module": "@jupyter-widgets/base",
          "model_name": "LayoutModel",
          "model_module_version": "1.2.0",
          "state": {
            "_model_module": "@jupyter-widgets/base",
            "_model_module_version": "1.2.0",
            "_model_name": "LayoutModel",
            "_view_count": null,
            "_view_module": "@jupyter-widgets/base",
            "_view_module_version": "1.2.0",
            "_view_name": "LayoutView",
            "align_content": null,
            "align_items": null,
            "align_self": null,
            "border": null,
            "bottom": null,
            "display": null,
            "flex": null,
            "flex_flow": null,
            "grid_area": null,
            "grid_auto_columns": null,
            "grid_auto_flow": null,
            "grid_auto_rows": null,
            "grid_column": null,
            "grid_gap": null,
            "grid_row": null,
            "grid_template_areas": null,
            "grid_template_columns": null,
            "grid_template_rows": null,
            "height": null,
            "justify_content": null,
            "justify_items": null,
            "left": null,
            "margin": null,
            "max_height": null,
            "max_width": null,
            "min_height": null,
            "min_width": null,
            "object_fit": null,
            "object_position": null,
            "order": null,
            "overflow": null,
            "overflow_x": null,
            "overflow_y": null,
            "padding": null,
            "right": null,
            "top": null,
            "visibility": null,
            "width": null
          }
        },
        "41bc7bbbb5d94a4bb87dc3c3fc1f1be7": {
          "model_module": "@jupyter-widgets/controls",
          "model_name": "DescriptionStyleModel",
          "model_module_version": "1.5.0",
          "state": {
            "_model_module": "@jupyter-widgets/controls",
            "_model_module_version": "1.5.0",
            "_model_name": "DescriptionStyleModel",
            "_view_count": null,
            "_view_module": "@jupyter-widgets/base",
            "_view_module_version": "1.2.0",
            "_view_name": "StyleView",
            "description_width": ""
          }
        },
        "0d70b3e1022c4b078c39451d609bb21a": {
          "model_module": "@jupyter-widgets/base",
          "model_name": "LayoutModel",
          "model_module_version": "1.2.0",
          "state": {
            "_model_module": "@jupyter-widgets/base",
            "_model_module_version": "1.2.0",
            "_model_name": "LayoutModel",
            "_view_count": null,
            "_view_module": "@jupyter-widgets/base",
            "_view_module_version": "1.2.0",
            "_view_name": "LayoutView",
            "align_content": null,
            "align_items": null,
            "align_self": null,
            "border": null,
            "bottom": null,
            "display": null,
            "flex": null,
            "flex_flow": null,
            "grid_area": null,
            "grid_auto_columns": null,
            "grid_auto_flow": null,
            "grid_auto_rows": null,
            "grid_column": null,
            "grid_gap": null,
            "grid_row": null,
            "grid_template_areas": null,
            "grid_template_columns": null,
            "grid_template_rows": null,
            "height": null,
            "justify_content": null,
            "justify_items": null,
            "left": null,
            "margin": null,
            "max_height": null,
            "max_width": null,
            "min_height": null,
            "min_width": null,
            "object_fit": null,
            "object_position": null,
            "order": null,
            "overflow": null,
            "overflow_x": null,
            "overflow_y": null,
            "padding": null,
            "right": null,
            "top": null,
            "visibility": null,
            "width": null
          }
        }
      }
    }
  },
  "cells": [
    {
      "cell_type": "markdown",
      "metadata": {
        "id": "view-in-github",
        "colab_type": "text"
      },
      "source": [
        "<a href=\"https://colab.research.google.com/github/Kalid98/Talatou/blob/main/Customer_churn.ipynb\" target=\"_parent\"><img src=\"https://colab.research.google.com/assets/colab-badge.svg\" alt=\"Open In Colab\"/></a>"
      ]
    },
    {
      "cell_type": "markdown",
      "source": [],
      "metadata": {
        "id": "TH2CM2O8MsLT"
      }
    },
    {
      "cell_type": "code",
      "source": [
        "# Importation de librairies\n",
        "import numpy as np\n",
        "import pandas as pd\n",
        "import matplotlib.pyplot as plt\n",
        "import seaborn as sns\n",
        "from numpy.lib.function_base import median\n",
        "#Pour rendre le graphique interactif, on importe les élements de la librairie ipywidgets\n",
        "import ipywidgets as widgets\n",
        "from ipywidgets import interact, interactive, fixed, interact_manual\n",
        "\n",
        "# Les differents algorithmes nécessaires :\n",
        "from sklearn.linear_model import LogisticRegression # regression logistic\n",
        "from sklearn.ensemble import RandomForestClassifier # Foret aléatoire\n",
        "from sklearn.neural_network import MLPClassifier   # Réseau de neurone artificielle\n",
        "from sklearn .svm import SVC                        #support vector machine : le classificateur pour trouver\n",
        "                                                    # le meilleur hyperplan de la variable cible\n",
        "\n",
        "from sklearn.model_selection import GridSearchCV    # chercher les meilleurs hyper-paramètres pour nos algorithmes\n",
        "from sklearn.metrics import classification_report   # Qui stock plusierus métriques comme la precision du modele, le F1 score\n",
        "from sklearn.feature_selection import RFE           # Selection de variables predictrices importante :reduire la dimentionalité\n",
        "                                                    #de notre jeux de donnée tout en preservant la performance des algorithlmes"
      ],
      "metadata": {
        "id": "pegS8wbLUSbf"
      },
      "execution_count": null,
      "outputs": []
    },
    {
      "cell_type": "code",
      "source": [
        "#Importation de données\n",
        "data = pd.read_csv('/content/Customer Churn.csv')\n",
        "data"
      ],
      "metadata": {
        "colab": {
          "base_uri": "https://localhost:8080/",
          "height": 458
        },
        "id": "V7wgMrieT-qn",
        "outputId": "0adf46c7-8283-4f60-c6e1-fd6537f22bf3"
      },
      "execution_count": null,
      "outputs": [
        {
          "output_type": "execute_result",
          "data": {
            "text/plain": [
              "      Call  Failure  Complains  Subscription  Length  Charge  Amount  \\\n",
              "0                 8          0                    38               0   \n",
              "1                 0          0                    39               0   \n",
              "2                10          0                    37               0   \n",
              "3                10          0                    38               0   \n",
              "4                 3          0                    38               0   \n",
              "...             ...        ...                   ...             ...   \n",
              "3145             21          0                    19               2   \n",
              "3146             17          0                    17               1   \n",
              "3147             13          0                    18               4   \n",
              "3148              7          0                    11               2   \n",
              "3149              8          1                    11               2   \n",
              "\n",
              "      Seconds of Use  Frequency of use  Frequency of SMS  \\\n",
              "0               4370                71                 5   \n",
              "1                318                 5                 7   \n",
              "2               2453                60               359   \n",
              "3               4198                66                 1   \n",
              "4               2393                58                 2   \n",
              "...              ...               ...               ...   \n",
              "3145            6697               147                92   \n",
              "3146            9237               177                80   \n",
              "3147            3157                51                38   \n",
              "3148            4695                46               222   \n",
              "3149            1792                25                 7   \n",
              "\n",
              "      Distinct Called Numbers  Age Group  Tariff Plan  Status  Age  \\\n",
              "0                          17          3            1       1   30   \n",
              "1                           4          2            1       2   25   \n",
              "2                          24          3            1       1   30   \n",
              "3                          35          1            1       1   15   \n",
              "4                          33          1            1       1   15   \n",
              "...                       ...        ...          ...     ...  ...   \n",
              "3145                       44          2            2       1   25   \n",
              "3146                       42          5            1       1   55   \n",
              "3147                       21          3            1       1   30   \n",
              "3148                       12          3            1       1   30   \n",
              "3149                        9          3            1       1   30   \n",
              "\n",
              "      Customer Value  Churn  \n",
              "0            197.640      0  \n",
              "1             46.035      0  \n",
              "2           1536.520      0  \n",
              "3            240.020      0  \n",
              "4            145.805      0  \n",
              "...              ...    ...  \n",
              "3145         721.980      0  \n",
              "3146         261.210      0  \n",
              "3147         280.320      0  \n",
              "3148        1077.640      0  \n",
              "3149         100.680      1  \n",
              "\n",
              "[3150 rows x 14 columns]"
            ],
            "text/html": [
              "\n",
              "  <div id=\"df-9f375941-2ae4-4d76-8ff1-402b4ed4041e\" class=\"colab-df-container\">\n",
              "    <div>\n",
              "<style scoped>\n",
              "    .dataframe tbody tr th:only-of-type {\n",
              "        vertical-align: middle;\n",
              "    }\n",
              "\n",
              "    .dataframe tbody tr th {\n",
              "        vertical-align: top;\n",
              "    }\n",
              "\n",
              "    .dataframe thead th {\n",
              "        text-align: right;\n",
              "    }\n",
              "</style>\n",
              "<table border=\"1\" class=\"dataframe\">\n",
              "  <thead>\n",
              "    <tr style=\"text-align: right;\">\n",
              "      <th></th>\n",
              "      <th>Call  Failure</th>\n",
              "      <th>Complains</th>\n",
              "      <th>Subscription  Length</th>\n",
              "      <th>Charge  Amount</th>\n",
              "      <th>Seconds of Use</th>\n",
              "      <th>Frequency of use</th>\n",
              "      <th>Frequency of SMS</th>\n",
              "      <th>Distinct Called Numbers</th>\n",
              "      <th>Age Group</th>\n",
              "      <th>Tariff Plan</th>\n",
              "      <th>Status</th>\n",
              "      <th>Age</th>\n",
              "      <th>Customer Value</th>\n",
              "      <th>Churn</th>\n",
              "    </tr>\n",
              "  </thead>\n",
              "  <tbody>\n",
              "    <tr>\n",
              "      <th>0</th>\n",
              "      <td>8</td>\n",
              "      <td>0</td>\n",
              "      <td>38</td>\n",
              "      <td>0</td>\n",
              "      <td>4370</td>\n",
              "      <td>71</td>\n",
              "      <td>5</td>\n",
              "      <td>17</td>\n",
              "      <td>3</td>\n",
              "      <td>1</td>\n",
              "      <td>1</td>\n",
              "      <td>30</td>\n",
              "      <td>197.640</td>\n",
              "      <td>0</td>\n",
              "    </tr>\n",
              "    <tr>\n",
              "      <th>1</th>\n",
              "      <td>0</td>\n",
              "      <td>0</td>\n",
              "      <td>39</td>\n",
              "      <td>0</td>\n",
              "      <td>318</td>\n",
              "      <td>5</td>\n",
              "      <td>7</td>\n",
              "      <td>4</td>\n",
              "      <td>2</td>\n",
              "      <td>1</td>\n",
              "      <td>2</td>\n",
              "      <td>25</td>\n",
              "      <td>46.035</td>\n",
              "      <td>0</td>\n",
              "    </tr>\n",
              "    <tr>\n",
              "      <th>2</th>\n",
              "      <td>10</td>\n",
              "      <td>0</td>\n",
              "      <td>37</td>\n",
              "      <td>0</td>\n",
              "      <td>2453</td>\n",
              "      <td>60</td>\n",
              "      <td>359</td>\n",
              "      <td>24</td>\n",
              "      <td>3</td>\n",
              "      <td>1</td>\n",
              "      <td>1</td>\n",
              "      <td>30</td>\n",
              "      <td>1536.520</td>\n",
              "      <td>0</td>\n",
              "    </tr>\n",
              "    <tr>\n",
              "      <th>3</th>\n",
              "      <td>10</td>\n",
              "      <td>0</td>\n",
              "      <td>38</td>\n",
              "      <td>0</td>\n",
              "      <td>4198</td>\n",
              "      <td>66</td>\n",
              "      <td>1</td>\n",
              "      <td>35</td>\n",
              "      <td>1</td>\n",
              "      <td>1</td>\n",
              "      <td>1</td>\n",
              "      <td>15</td>\n",
              "      <td>240.020</td>\n",
              "      <td>0</td>\n",
              "    </tr>\n",
              "    <tr>\n",
              "      <th>4</th>\n",
              "      <td>3</td>\n",
              "      <td>0</td>\n",
              "      <td>38</td>\n",
              "      <td>0</td>\n",
              "      <td>2393</td>\n",
              "      <td>58</td>\n",
              "      <td>2</td>\n",
              "      <td>33</td>\n",
              "      <td>1</td>\n",
              "      <td>1</td>\n",
              "      <td>1</td>\n",
              "      <td>15</td>\n",
              "      <td>145.805</td>\n",
              "      <td>0</td>\n",
              "    </tr>\n",
              "    <tr>\n",
              "      <th>...</th>\n",
              "      <td>...</td>\n",
              "      <td>...</td>\n",
              "      <td>...</td>\n",
              "      <td>...</td>\n",
              "      <td>...</td>\n",
              "      <td>...</td>\n",
              "      <td>...</td>\n",
              "      <td>...</td>\n",
              "      <td>...</td>\n",
              "      <td>...</td>\n",
              "      <td>...</td>\n",
              "      <td>...</td>\n",
              "      <td>...</td>\n",
              "      <td>...</td>\n",
              "    </tr>\n",
              "    <tr>\n",
              "      <th>3145</th>\n",
              "      <td>21</td>\n",
              "      <td>0</td>\n",
              "      <td>19</td>\n",
              "      <td>2</td>\n",
              "      <td>6697</td>\n",
              "      <td>147</td>\n",
              "      <td>92</td>\n",
              "      <td>44</td>\n",
              "      <td>2</td>\n",
              "      <td>2</td>\n",
              "      <td>1</td>\n",
              "      <td>25</td>\n",
              "      <td>721.980</td>\n",
              "      <td>0</td>\n",
              "    </tr>\n",
              "    <tr>\n",
              "      <th>3146</th>\n",
              "      <td>17</td>\n",
              "      <td>0</td>\n",
              "      <td>17</td>\n",
              "      <td>1</td>\n",
              "      <td>9237</td>\n",
              "      <td>177</td>\n",
              "      <td>80</td>\n",
              "      <td>42</td>\n",
              "      <td>5</td>\n",
              "      <td>1</td>\n",
              "      <td>1</td>\n",
              "      <td>55</td>\n",
              "      <td>261.210</td>\n",
              "      <td>0</td>\n",
              "    </tr>\n",
              "    <tr>\n",
              "      <th>3147</th>\n",
              "      <td>13</td>\n",
              "      <td>0</td>\n",
              "      <td>18</td>\n",
              "      <td>4</td>\n",
              "      <td>3157</td>\n",
              "      <td>51</td>\n",
              "      <td>38</td>\n",
              "      <td>21</td>\n",
              "      <td>3</td>\n",
              "      <td>1</td>\n",
              "      <td>1</td>\n",
              "      <td>30</td>\n",
              "      <td>280.320</td>\n",
              "      <td>0</td>\n",
              "    </tr>\n",
              "    <tr>\n",
              "      <th>3148</th>\n",
              "      <td>7</td>\n",
              "      <td>0</td>\n",
              "      <td>11</td>\n",
              "      <td>2</td>\n",
              "      <td>4695</td>\n",
              "      <td>46</td>\n",
              "      <td>222</td>\n",
              "      <td>12</td>\n",
              "      <td>3</td>\n",
              "      <td>1</td>\n",
              "      <td>1</td>\n",
              "      <td>30</td>\n",
              "      <td>1077.640</td>\n",
              "      <td>0</td>\n",
              "    </tr>\n",
              "    <tr>\n",
              "      <th>3149</th>\n",
              "      <td>8</td>\n",
              "      <td>1</td>\n",
              "      <td>11</td>\n",
              "      <td>2</td>\n",
              "      <td>1792</td>\n",
              "      <td>25</td>\n",
              "      <td>7</td>\n",
              "      <td>9</td>\n",
              "      <td>3</td>\n",
              "      <td>1</td>\n",
              "      <td>1</td>\n",
              "      <td>30</td>\n",
              "      <td>100.680</td>\n",
              "      <td>1</td>\n",
              "    </tr>\n",
              "  </tbody>\n",
              "</table>\n",
              "<p>3150 rows × 14 columns</p>\n",
              "</div>\n",
              "    <div class=\"colab-df-buttons\">\n",
              "\n",
              "  <div class=\"colab-df-container\">\n",
              "    <button class=\"colab-df-convert\" onclick=\"convertToInteractive('df-9f375941-2ae4-4d76-8ff1-402b4ed4041e')\"\n",
              "            title=\"Convert this dataframe to an interactive table.\"\n",
              "            style=\"display:none;\">\n",
              "\n",
              "  <svg xmlns=\"http://www.w3.org/2000/svg\" height=\"24px\" viewBox=\"0 -960 960 960\">\n",
              "    <path d=\"M120-120v-720h720v720H120Zm60-500h600v-160H180v160Zm220 220h160v-160H400v160Zm0 220h160v-160H400v160ZM180-400h160v-160H180v160Zm440 0h160v-160H620v160ZM180-180h160v-160H180v160Zm440 0h160v-160H620v160Z\"/>\n",
              "  </svg>\n",
              "    </button>\n",
              "\n",
              "  <style>\n",
              "    .colab-df-container {\n",
              "      display:flex;\n",
              "      gap: 12px;\n",
              "    }\n",
              "\n",
              "    .colab-df-convert {\n",
              "      background-color: #E8F0FE;\n",
              "      border: none;\n",
              "      border-radius: 50%;\n",
              "      cursor: pointer;\n",
              "      display: none;\n",
              "      fill: #1967D2;\n",
              "      height: 32px;\n",
              "      padding: 0 0 0 0;\n",
              "      width: 32px;\n",
              "    }\n",
              "\n",
              "    .colab-df-convert:hover {\n",
              "      background-color: #E2EBFA;\n",
              "      box-shadow: 0px 1px 2px rgba(60, 64, 67, 0.3), 0px 1px 3px 1px rgba(60, 64, 67, 0.15);\n",
              "      fill: #174EA6;\n",
              "    }\n",
              "\n",
              "    .colab-df-buttons div {\n",
              "      margin-bottom: 4px;\n",
              "    }\n",
              "\n",
              "    [theme=dark] .colab-df-convert {\n",
              "      background-color: #3B4455;\n",
              "      fill: #D2E3FC;\n",
              "    }\n",
              "\n",
              "    [theme=dark] .colab-df-convert:hover {\n",
              "      background-color: #434B5C;\n",
              "      box-shadow: 0px 1px 3px 1px rgba(0, 0, 0, 0.15);\n",
              "      filter: drop-shadow(0px 1px 2px rgba(0, 0, 0, 0.3));\n",
              "      fill: #FFFFFF;\n",
              "    }\n",
              "  </style>\n",
              "\n",
              "    <script>\n",
              "      const buttonEl =\n",
              "        document.querySelector('#df-9f375941-2ae4-4d76-8ff1-402b4ed4041e button.colab-df-convert');\n",
              "      buttonEl.style.display =\n",
              "        google.colab.kernel.accessAllowed ? 'block' : 'none';\n",
              "\n",
              "      async function convertToInteractive(key) {\n",
              "        const element = document.querySelector('#df-9f375941-2ae4-4d76-8ff1-402b4ed4041e');\n",
              "        const dataTable =\n",
              "          await google.colab.kernel.invokeFunction('convertToInteractive',\n",
              "                                                    [key], {});\n",
              "        if (!dataTable) return;\n",
              "\n",
              "        const docLinkHtml = 'Like what you see? Visit the ' +\n",
              "          '<a target=\"_blank\" href=https://colab.research.google.com/notebooks/data_table.ipynb>data table notebook</a>'\n",
              "          + ' to learn more about interactive tables.';\n",
              "        element.innerHTML = '';\n",
              "        dataTable['output_type'] = 'display_data';\n",
              "        await google.colab.output.renderOutput(dataTable, element);\n",
              "        const docLink = document.createElement('div');\n",
              "        docLink.innerHTML = docLinkHtml;\n",
              "        element.appendChild(docLink);\n",
              "      }\n",
              "    </script>\n",
              "  </div>\n",
              "\n",
              "\n",
              "<div id=\"df-1b230ddd-9239-45da-880b-2349504c3dc3\">\n",
              "  <button class=\"colab-df-quickchart\" onclick=\"quickchart('df-1b230ddd-9239-45da-880b-2349504c3dc3')\"\n",
              "            title=\"Suggest charts.\"\n",
              "            style=\"display:none;\">\n",
              "\n",
              "<svg xmlns=\"http://www.w3.org/2000/svg\" height=\"24px\"viewBox=\"0 0 24 24\"\n",
              "     width=\"24px\">\n",
              "    <g>\n",
              "        <path d=\"M19 3H5c-1.1 0-2 .9-2 2v14c0 1.1.9 2 2 2h14c1.1 0 2-.9 2-2V5c0-1.1-.9-2-2-2zM9 17H7v-7h2v7zm4 0h-2V7h2v10zm4 0h-2v-4h2v4z\"/>\n",
              "    </g>\n",
              "</svg>\n",
              "  </button>\n",
              "\n",
              "<style>\n",
              "  .colab-df-quickchart {\n",
              "    background-color: #E8F0FE;\n",
              "    border: none;\n",
              "    border-radius: 50%;\n",
              "    cursor: pointer;\n",
              "    display: none;\n",
              "    fill: #1967D2;\n",
              "    height: 32px;\n",
              "    padding: 0 0 0 0;\n",
              "    width: 32px;\n",
              "  }\n",
              "\n",
              "  .colab-df-quickchart:hover {\n",
              "    background-color: #E2EBFA;\n",
              "    box-shadow: 0px 1px 2px rgba(60, 64, 67, 0.3), 0px 1px 3px 1px rgba(60, 64, 67, 0.15);\n",
              "    fill: #174EA6;\n",
              "  }\n",
              "\n",
              "  [theme=dark] .colab-df-quickchart {\n",
              "    background-color: #3B4455;\n",
              "    fill: #D2E3FC;\n",
              "  }\n",
              "\n",
              "  [theme=dark] .colab-df-quickchart:hover {\n",
              "    background-color: #434B5C;\n",
              "    box-shadow: 0px 1px 3px 1px rgba(0, 0, 0, 0.15);\n",
              "    filter: drop-shadow(0px 1px 2px rgba(0, 0, 0, 0.3));\n",
              "    fill: #FFFFFF;\n",
              "  }\n",
              "</style>\n",
              "\n",
              "  <script>\n",
              "    async function quickchart(key) {\n",
              "      const charts = await google.colab.kernel.invokeFunction(\n",
              "          'suggestCharts', [key], {});\n",
              "    }\n",
              "    (() => {\n",
              "      let quickchartButtonEl =\n",
              "        document.querySelector('#df-1b230ddd-9239-45da-880b-2349504c3dc3 button');\n",
              "      quickchartButtonEl.style.display =\n",
              "        google.colab.kernel.accessAllowed ? 'block' : 'none';\n",
              "    })();\n",
              "  </script>\n",
              "</div>\n",
              "    </div>\n",
              "  </div>\n"
            ]
          },
          "metadata": {},
          "execution_count": 4
        }
      ]
    },
    {
      "cell_type": "markdown",
      "source": [
        "ANALYSE EXPLORATOIRE DE NOS DONNEES : elle permet de mieux comprendre les données et de comprendre le type de prétraitement de données à éffectuer ."
      ],
      "metadata": {
        "id": "xd_r28EKrSIH"
      }
    },
    {
      "cell_type": "code",
      "source": [
        "# Voir l'étendue de notre base de données\n",
        "data.shape"
      ],
      "metadata": {
        "id": "M9FoSkcVUZUB",
        "colab": {
          "base_uri": "https://localhost:8080/"
        },
        "outputId": "a8adcac6-487c-4378-f169-468b86fbd150"
      },
      "execution_count": null,
      "outputs": [
        {
          "output_type": "execute_result",
          "data": {
            "text/plain": [
              "(3150, 14)"
            ]
          },
          "metadata": {},
          "execution_count": 5
        }
      ]
    },
    {
      "cell_type": "code",
      "source": [
        "data.info()"
      ],
      "metadata": {
        "id": "DoWLtIR9rRDU",
        "colab": {
          "base_uri": "https://localhost:8080/"
        },
        "outputId": "d920707c-2d57-46b5-8c2b-ad5527d33827"
      },
      "execution_count": null,
      "outputs": [
        {
          "output_type": "stream",
          "name": "stdout",
          "text": [
            "<class 'pandas.core.frame.DataFrame'>\n",
            "RangeIndex: 3150 entries, 0 to 3149\n",
            "Data columns (total 14 columns):\n",
            " #   Column                   Non-Null Count  Dtype  \n",
            "---  ------                   --------------  -----  \n",
            " 0   Call  Failure            3150 non-null   int64  \n",
            " 1   Complains                3150 non-null   int64  \n",
            " 2   Subscription  Length     3150 non-null   int64  \n",
            " 3   Charge  Amount           3150 non-null   int64  \n",
            " 4   Seconds of Use           3150 non-null   int64  \n",
            " 5   Frequency of use         3150 non-null   int64  \n",
            " 6   Frequency of SMS         3150 non-null   int64  \n",
            " 7   Distinct Called Numbers  3150 non-null   int64  \n",
            " 8   Age Group                3150 non-null   int64  \n",
            " 9   Tariff Plan              3150 non-null   int64  \n",
            " 10  Status                   3150 non-null   int64  \n",
            " 11  Age                      3150 non-null   int64  \n",
            " 12  Customer Value           3150 non-null   float64\n",
            " 13  Churn                    3150 non-null   int64  \n",
            "dtypes: float64(1), int64(13)\n",
            "memory usage: 344.7 KB\n"
          ]
        }
      ]
    },
    {
      "cell_type": "code",
      "source": [
        "#Voir le nombre de vzriables manquantes par variables\n",
        "data.isna().sum()"
      ],
      "metadata": {
        "id": "V0PBFEmpVW_w",
        "colab": {
          "base_uri": "https://localhost:8080/"
        },
        "outputId": "cdb04a86-7fa5-414d-c90e-0716dec7faa3"
      },
      "execution_count": null,
      "outputs": [
        {
          "output_type": "execute_result",
          "data": {
            "text/plain": [
              "Call  Failure              0\n",
              "Complains                  0\n",
              "Subscription  Length       0\n",
              "Charge  Amount             0\n",
              "Seconds of Use             0\n",
              "Frequency of use           0\n",
              "Frequency of SMS           0\n",
              "Distinct Called Numbers    0\n",
              "Age Group                  0\n",
              "Tariff Plan                0\n",
              "Status                     0\n",
              "Age                        0\n",
              "Customer Value             0\n",
              "Churn                      0\n",
              "dtype: int64"
            ]
          },
          "metadata": {},
          "execution_count": 7
        }
      ]
    },
    {
      "cell_type": "code",
      "source": [
        "data.head()"
      ],
      "metadata": {
        "id": "JLDKnty4hTKF",
        "colab": {
          "base_uri": "https://localhost:8080/",
          "height": 241
        },
        "outputId": "1972cc7b-c811-4d42-b5e6-25a48f644e2c"
      },
      "execution_count": null,
      "outputs": [
        {
          "output_type": "execute_result",
          "data": {
            "text/plain": [
              "   Call  Failure  Complains  Subscription  Length  Charge  Amount  \\\n",
              "0              8          0                    38               0   \n",
              "1              0          0                    39               0   \n",
              "2             10          0                    37               0   \n",
              "3             10          0                    38               0   \n",
              "4              3          0                    38               0   \n",
              "\n",
              "   Seconds of Use  Frequency of use  Frequency of SMS  \\\n",
              "0            4370                71                 5   \n",
              "1             318                 5                 7   \n",
              "2            2453                60               359   \n",
              "3            4198                66                 1   \n",
              "4            2393                58                 2   \n",
              "\n",
              "   Distinct Called Numbers  Age Group  Tariff Plan  Status  Age  \\\n",
              "0                       17          3            1       1   30   \n",
              "1                        4          2            1       2   25   \n",
              "2                       24          3            1       1   30   \n",
              "3                       35          1            1       1   15   \n",
              "4                       33          1            1       1   15   \n",
              "\n",
              "   Customer Value  Churn  \n",
              "0         197.640      0  \n",
              "1          46.035      0  \n",
              "2        1536.520      0  \n",
              "3         240.020      0  \n",
              "4         145.805      0  "
            ],
            "text/html": [
              "\n",
              "  <div id=\"df-cdc7e722-372b-47c6-beef-50802a662458\" class=\"colab-df-container\">\n",
              "    <div>\n",
              "<style scoped>\n",
              "    .dataframe tbody tr th:only-of-type {\n",
              "        vertical-align: middle;\n",
              "    }\n",
              "\n",
              "    .dataframe tbody tr th {\n",
              "        vertical-align: top;\n",
              "    }\n",
              "\n",
              "    .dataframe thead th {\n",
              "        text-align: right;\n",
              "    }\n",
              "</style>\n",
              "<table border=\"1\" class=\"dataframe\">\n",
              "  <thead>\n",
              "    <tr style=\"text-align: right;\">\n",
              "      <th></th>\n",
              "      <th>Call  Failure</th>\n",
              "      <th>Complains</th>\n",
              "      <th>Subscription  Length</th>\n",
              "      <th>Charge  Amount</th>\n",
              "      <th>Seconds of Use</th>\n",
              "      <th>Frequency of use</th>\n",
              "      <th>Frequency of SMS</th>\n",
              "      <th>Distinct Called Numbers</th>\n",
              "      <th>Age Group</th>\n",
              "      <th>Tariff Plan</th>\n",
              "      <th>Status</th>\n",
              "      <th>Age</th>\n",
              "      <th>Customer Value</th>\n",
              "      <th>Churn</th>\n",
              "    </tr>\n",
              "  </thead>\n",
              "  <tbody>\n",
              "    <tr>\n",
              "      <th>0</th>\n",
              "      <td>8</td>\n",
              "      <td>0</td>\n",
              "      <td>38</td>\n",
              "      <td>0</td>\n",
              "      <td>4370</td>\n",
              "      <td>71</td>\n",
              "      <td>5</td>\n",
              "      <td>17</td>\n",
              "      <td>3</td>\n",
              "      <td>1</td>\n",
              "      <td>1</td>\n",
              "      <td>30</td>\n",
              "      <td>197.640</td>\n",
              "      <td>0</td>\n",
              "    </tr>\n",
              "    <tr>\n",
              "      <th>1</th>\n",
              "      <td>0</td>\n",
              "      <td>0</td>\n",
              "      <td>39</td>\n",
              "      <td>0</td>\n",
              "      <td>318</td>\n",
              "      <td>5</td>\n",
              "      <td>7</td>\n",
              "      <td>4</td>\n",
              "      <td>2</td>\n",
              "      <td>1</td>\n",
              "      <td>2</td>\n",
              "      <td>25</td>\n",
              "      <td>46.035</td>\n",
              "      <td>0</td>\n",
              "    </tr>\n",
              "    <tr>\n",
              "      <th>2</th>\n",
              "      <td>10</td>\n",
              "      <td>0</td>\n",
              "      <td>37</td>\n",
              "      <td>0</td>\n",
              "      <td>2453</td>\n",
              "      <td>60</td>\n",
              "      <td>359</td>\n",
              "      <td>24</td>\n",
              "      <td>3</td>\n",
              "      <td>1</td>\n",
              "      <td>1</td>\n",
              "      <td>30</td>\n",
              "      <td>1536.520</td>\n",
              "      <td>0</td>\n",
              "    </tr>\n",
              "    <tr>\n",
              "      <th>3</th>\n",
              "      <td>10</td>\n",
              "      <td>0</td>\n",
              "      <td>38</td>\n",
              "      <td>0</td>\n",
              "      <td>4198</td>\n",
              "      <td>66</td>\n",
              "      <td>1</td>\n",
              "      <td>35</td>\n",
              "      <td>1</td>\n",
              "      <td>1</td>\n",
              "      <td>1</td>\n",
              "      <td>15</td>\n",
              "      <td>240.020</td>\n",
              "      <td>0</td>\n",
              "    </tr>\n",
              "    <tr>\n",
              "      <th>4</th>\n",
              "      <td>3</td>\n",
              "      <td>0</td>\n",
              "      <td>38</td>\n",
              "      <td>0</td>\n",
              "      <td>2393</td>\n",
              "      <td>58</td>\n",
              "      <td>2</td>\n",
              "      <td>33</td>\n",
              "      <td>1</td>\n",
              "      <td>1</td>\n",
              "      <td>1</td>\n",
              "      <td>15</td>\n",
              "      <td>145.805</td>\n",
              "      <td>0</td>\n",
              "    </tr>\n",
              "  </tbody>\n",
              "</table>\n",
              "</div>\n",
              "    <div class=\"colab-df-buttons\">\n",
              "\n",
              "  <div class=\"colab-df-container\">\n",
              "    <button class=\"colab-df-convert\" onclick=\"convertToInteractive('df-cdc7e722-372b-47c6-beef-50802a662458')\"\n",
              "            title=\"Convert this dataframe to an interactive table.\"\n",
              "            style=\"display:none;\">\n",
              "\n",
              "  <svg xmlns=\"http://www.w3.org/2000/svg\" height=\"24px\" viewBox=\"0 -960 960 960\">\n",
              "    <path d=\"M120-120v-720h720v720H120Zm60-500h600v-160H180v160Zm220 220h160v-160H400v160Zm0 220h160v-160H400v160ZM180-400h160v-160H180v160Zm440 0h160v-160H620v160ZM180-180h160v-160H180v160Zm440 0h160v-160H620v160Z\"/>\n",
              "  </svg>\n",
              "    </button>\n",
              "\n",
              "  <style>\n",
              "    .colab-df-container {\n",
              "      display:flex;\n",
              "      gap: 12px;\n",
              "    }\n",
              "\n",
              "    .colab-df-convert {\n",
              "      background-color: #E8F0FE;\n",
              "      border: none;\n",
              "      border-radius: 50%;\n",
              "      cursor: pointer;\n",
              "      display: none;\n",
              "      fill: #1967D2;\n",
              "      height: 32px;\n",
              "      padding: 0 0 0 0;\n",
              "      width: 32px;\n",
              "    }\n",
              "\n",
              "    .colab-df-convert:hover {\n",
              "      background-color: #E2EBFA;\n",
              "      box-shadow: 0px 1px 2px rgba(60, 64, 67, 0.3), 0px 1px 3px 1px rgba(60, 64, 67, 0.15);\n",
              "      fill: #174EA6;\n",
              "    }\n",
              "\n",
              "    .colab-df-buttons div {\n",
              "      margin-bottom: 4px;\n",
              "    }\n",
              "\n",
              "    [theme=dark] .colab-df-convert {\n",
              "      background-color: #3B4455;\n",
              "      fill: #D2E3FC;\n",
              "    }\n",
              "\n",
              "    [theme=dark] .colab-df-convert:hover {\n",
              "      background-color: #434B5C;\n",
              "      box-shadow: 0px 1px 3px 1px rgba(0, 0, 0, 0.15);\n",
              "      filter: drop-shadow(0px 1px 2px rgba(0, 0, 0, 0.3));\n",
              "      fill: #FFFFFF;\n",
              "    }\n",
              "  </style>\n",
              "\n",
              "    <script>\n",
              "      const buttonEl =\n",
              "        document.querySelector('#df-cdc7e722-372b-47c6-beef-50802a662458 button.colab-df-convert');\n",
              "      buttonEl.style.display =\n",
              "        google.colab.kernel.accessAllowed ? 'block' : 'none';\n",
              "\n",
              "      async function convertToInteractive(key) {\n",
              "        const element = document.querySelector('#df-cdc7e722-372b-47c6-beef-50802a662458');\n",
              "        const dataTable =\n",
              "          await google.colab.kernel.invokeFunction('convertToInteractive',\n",
              "                                                    [key], {});\n",
              "        if (!dataTable) return;\n",
              "\n",
              "        const docLinkHtml = 'Like what you see? Visit the ' +\n",
              "          '<a target=\"_blank\" href=https://colab.research.google.com/notebooks/data_table.ipynb>data table notebook</a>'\n",
              "          + ' to learn more about interactive tables.';\n",
              "        element.innerHTML = '';\n",
              "        dataTable['output_type'] = 'display_data';\n",
              "        await google.colab.output.renderOutput(dataTable, element);\n",
              "        const docLink = document.createElement('div');\n",
              "        docLink.innerHTML = docLinkHtml;\n",
              "        element.appendChild(docLink);\n",
              "      }\n",
              "    </script>\n",
              "  </div>\n",
              "\n",
              "\n",
              "<div id=\"df-5b7748d7-3cf6-4b3b-981f-d2d3576adf5e\">\n",
              "  <button class=\"colab-df-quickchart\" onclick=\"quickchart('df-5b7748d7-3cf6-4b3b-981f-d2d3576adf5e')\"\n",
              "            title=\"Suggest charts.\"\n",
              "            style=\"display:none;\">\n",
              "\n",
              "<svg xmlns=\"http://www.w3.org/2000/svg\" height=\"24px\"viewBox=\"0 0 24 24\"\n",
              "     width=\"24px\">\n",
              "    <g>\n",
              "        <path d=\"M19 3H5c-1.1 0-2 .9-2 2v14c0 1.1.9 2 2 2h14c1.1 0 2-.9 2-2V5c0-1.1-.9-2-2-2zM9 17H7v-7h2v7zm4 0h-2V7h2v10zm4 0h-2v-4h2v4z\"/>\n",
              "    </g>\n",
              "</svg>\n",
              "  </button>\n",
              "\n",
              "<style>\n",
              "  .colab-df-quickchart {\n",
              "    background-color: #E8F0FE;\n",
              "    border: none;\n",
              "    border-radius: 50%;\n",
              "    cursor: pointer;\n",
              "    display: none;\n",
              "    fill: #1967D2;\n",
              "    height: 32px;\n",
              "    padding: 0 0 0 0;\n",
              "    width: 32px;\n",
              "  }\n",
              "\n",
              "  .colab-df-quickchart:hover {\n",
              "    background-color: #E2EBFA;\n",
              "    box-shadow: 0px 1px 2px rgba(60, 64, 67, 0.3), 0px 1px 3px 1px rgba(60, 64, 67, 0.15);\n",
              "    fill: #174EA6;\n",
              "  }\n",
              "\n",
              "  [theme=dark] .colab-df-quickchart {\n",
              "    background-color: #3B4455;\n",
              "    fill: #D2E3FC;\n",
              "  }\n",
              "\n",
              "  [theme=dark] .colab-df-quickchart:hover {\n",
              "    background-color: #434B5C;\n",
              "    box-shadow: 0px 1px 3px 1px rgba(0, 0, 0, 0.15);\n",
              "    filter: drop-shadow(0px 1px 2px rgba(0, 0, 0, 0.3));\n",
              "    fill: #FFFFFF;\n",
              "  }\n",
              "</style>\n",
              "\n",
              "  <script>\n",
              "    async function quickchart(key) {\n",
              "      const charts = await google.colab.kernel.invokeFunction(\n",
              "          'suggestCharts', [key], {});\n",
              "    }\n",
              "    (() => {\n",
              "      let quickchartButtonEl =\n",
              "        document.querySelector('#df-5b7748d7-3cf6-4b3b-981f-d2d3576adf5e button');\n",
              "      quickchartButtonEl.style.display =\n",
              "        google.colab.kernel.accessAllowed ? 'block' : 'none';\n",
              "    })();\n",
              "  </script>\n",
              "</div>\n",
              "    </div>\n",
              "  </div>\n"
            ]
          },
          "metadata": {},
          "execution_count": 8
        }
      ]
    },
    {
      "cell_type": "code",
      "source": [
        "#Pour voir  le nombre de valeur unique par colonne : elle nous donne le nombre\n",
        "#de valeurs dictinctes au niveau de chaque colonne\n",
        "data.nunique()"
      ],
      "metadata": {
        "id": "EMdtfbIGhYie",
        "colab": {
          "base_uri": "https://localhost:8080/"
        },
        "outputId": "949b801a-3f7d-4774-9b1f-712b421a93e9"
      },
      "execution_count": null,
      "outputs": [
        {
          "output_type": "execute_result",
          "data": {
            "text/plain": [
              "Call  Failure                37\n",
              "Complains                     2\n",
              "Subscription  Length         45\n",
              "Charge  Amount               11\n",
              "Seconds of Use             1756\n",
              "Frequency of use            242\n",
              "Frequency of SMS            405\n",
              "Distinct Called Numbers      92\n",
              "Age Group                     5\n",
              "Tariff Plan                   2\n",
              "Status                        2\n",
              "Age                           5\n",
              "Customer Value             2654\n",
              "Churn                         2\n",
              "dtype: int64"
            ]
          },
          "metadata": {},
          "execution_count": 9
        }
      ]
    },
    {
      "cell_type": "markdown",
      "source": [
        "STATISTIQUES DESCRIPTIVE"
      ],
      "metadata": {
        "id": "sxH4gAIpkNhJ"
      }
    },
    {
      "cell_type": "code",
      "source": [
        "# Calcul des moyennes pour les colonnes spécifiées\n",
        "columns_to_calculate_mean = ['Seconds of Use','Frequency of use','Frequency of SMS','Age','Customer Value']\n",
        "mean_values = data[columns_to_calculate_mean].mean()\n",
        "\n",
        "print(\"Moyennes :\\n\", mean_values)"
      ],
      "metadata": {
        "id": "VR_gLWEVlOZS",
        "colab": {
          "base_uri": "https://localhost:8080/"
        },
        "outputId": "01478b98-27d1-4c87-8124-6886dde4c78d"
      },
      "execution_count": null,
      "outputs": [
        {
          "output_type": "stream",
          "name": "stdout",
          "text": [
            "Moyennes :\n",
            " Seconds of Use      4472.459683\n",
            "Frequency of use      69.460635\n",
            "Frequency of SMS      73.174921\n",
            "Age                   30.998413\n",
            "Customer Value       470.972916\n",
            "dtype: float64\n"
          ]
        }
      ]
    },
    {
      "cell_type": "code",
      "source": [
        "#Calcul de mediane\n",
        "columns_to_calculate_median= ['Seconds of Use','Frequency of use','Frequency of SMS','Age','Customer Value']\n",
        "median_values = data[columns_to_calculate_median].median()\n",
        "\n",
        "print(\"Medianes:\\n\", median_values)"
      ],
      "metadata": {
        "id": "FBDQnv3gyjHs",
        "colab": {
          "base_uri": "https://localhost:8080/"
        },
        "outputId": "1faba967-10dd-4209-ac3f-6216e65e02bf"
      },
      "execution_count": null,
      "outputs": [
        {
          "output_type": "stream",
          "name": "stdout",
          "text": [
            "Medianes:\n",
            " Seconds of Use      2990.00\n",
            "Frequency of use      54.00\n",
            "Frequency of SMS      21.00\n",
            "Age                   30.00\n",
            "Customer Value       228.48\n",
            "dtype: float64\n"
          ]
        }
      ]
    },
    {
      "cell_type": "code",
      "source": [
        "#Calcul de l'écart type\n",
        "column_ecart_types = ['Seconds of Use','Frequency of use','Frequency of SMS','Age','Customer Value']\n",
        "ecart_type_values = data[column_ecart_types].std()\n",
        "\n",
        "print(\"Ecart_types:\\n\", ecart_type_values)"
      ],
      "metadata": {
        "id": "0FP11dUwzBUk",
        "colab": {
          "base_uri": "https://localhost:8080/"
        },
        "outputId": "83e0d9bb-534b-4bb4-d2db-6620a9ba170d"
      },
      "execution_count": null,
      "outputs": [
        {
          "output_type": "stream",
          "name": "stdout",
          "text": [
            "Ecart_types:\n",
            " Seconds of Use      4197.908687\n",
            "Frequency of use      57.413308\n",
            "Frequency of SMS     112.237560\n",
            "Age                    8.831095\n",
            "Customer Value       517.015433\n",
            "dtype: float64\n"
          ]
        }
      ]
    },
    {
      "cell_type": "code",
      "source": [
        "# Colonnes pour lesquelles vous voulez calculer les quantiles\n",
        "columns_to_calculate_quantiles = ['Seconds of Use', 'Frequency of use', 'Frequency of SMS', 'Age', 'Customer Value']\n",
        "\n",
        "# Calcul des quantiles pour les colonnes spécifiées\n",
        "quantiles = data[columns_to_calculate_quantiles].quantile([0.25, 0.5, 0.75])\n",
        "\n",
        "print(\"Quantiles :\\n\", quantiles)"
      ],
      "metadata": {
        "id": "vPdGU_7R1_QD",
        "colab": {
          "base_uri": "https://localhost:8080/"
        },
        "outputId": "936af4c7-0734-4376-c590-9bbafc706aa9"
      },
      "execution_count": null,
      "outputs": [
        {
          "output_type": "stream",
          "name": "stdout",
          "text": [
            "Quantiles :\n",
            "       Seconds of Use  Frequency of use  Frequency of SMS   Age  Customer Value\n",
            "0.25         1391.25              27.0               6.0  25.0       113.80125\n",
            "0.50         2990.00              54.0              21.0  30.0       228.48000\n",
            "0.75         6478.25              95.0              87.0  30.0       788.38875\n"
          ]
        }
      ]
    },
    {
      "cell_type": "markdown",
      "source": [
        "VISUALISATIONS"
      ],
      "metadata": {
        "id": "bHHDQeHJ2tBA"
      }
    },
    {
      "cell_type": "code",
      "source": [
        "#Variables catégorielles : celles ayant moins de 5 modalités\n",
        "#NB: to_list() pour convertir les noms de colonnes en une liste\n",
        "categorical_columns = data.nunique()[data.nunique()<6].keys().to_list()\n",
        "categorical_columns"
      ],
      "metadata": {
        "id": "JsFTzvPtrCDQ",
        "colab": {
          "base_uri": "https://localhost:8080/"
        },
        "outputId": "1eee32b4-f9c6-49eb-e65c-1f87b33119bf"
      },
      "execution_count": null,
      "outputs": [
        {
          "output_type": "execute_result",
          "data": {
            "text/plain": [
              "['Complains', 'Age Group', 'Tariff Plan', 'Status', 'Age', 'Churn']"
            ]
          },
          "metadata": {},
          "execution_count": 14
        }
      ]
    },
    {
      "cell_type": "code",
      "source": [
        "#Presenter les variables sous forme de colonne :\n",
        "for column in categorical_columns:\n",
        "    print(column)"
      ],
      "metadata": {
        "id": "XaFJNsKgrCGr",
        "colab": {
          "base_uri": "https://localhost:8080/"
        },
        "outputId": "a3746171-b890-486a-b545-5918b2ff56b5"
      },
      "execution_count": null,
      "outputs": [
        {
          "output_type": "stream",
          "name": "stdout",
          "text": [
            "Complains\n",
            "Age Group\n",
            "Tariff Plan\n",
            "Status\n",
            "Age\n",
            "Churn\n"
          ]
        }
      ]
    },
    {
      "cell_type": "code",
      "source": [
        "# Créons une fonction permettant de construire un diagramme à barre pour ces variables\n",
        "# Puis qu'elles sont nombreuses, on va le faire de manière inter-active en utilisant les outils de la librairie (itywidgets)\n",
        "def bar_plot(a):\n",
        "  data[a].value_counts(normalize = True).plot(kind = 'bar')\n",
        "  plt.ylabel('proportion')\n",
        "  plt.title('Distribution of'+ str(a))\n",
        "  return plt.show()"
      ],
      "metadata": {
        "id": "lapXBmpbrCSB"
      },
      "execution_count": null,
      "outputs": []
    },
    {
      "cell_type": "markdown",
      "source": [
        "**# Utiliser la fonction interact pour créer nos graphes inter-actives**"
      ],
      "metadata": {
        "id": "Xy3RxMm37Fdv"
      }
    },
    {
      "cell_type": "code",
      "source": [
        "# Pour réaliser des graphiques\n",
        "import seaborn as sns\n",
        "import matplotlib.pyplot as plt\n",
        "# Pour inclure les graphes à notre notebook et ne pas les avoirs separées\n",
        "%matplotlib inline\n",
        "\n",
        "#Pour rendre le graphique interactif, on importe les élements de la librairie ipywidgets\n",
        "import ipywidgets as widgets\n",
        "from ipywidgets import interact, interactive, fixed, interact_manual"
      ],
      "metadata": {
        "id": "SARO6Phi70IR"
      },
      "execution_count": null,
      "outputs": []
    },
    {
      "cell_type": "code",
      "source": [
        "#on met a= puis on liste les elements que l'on veut tracer\n",
        "interact(bar_plot, a = categorical_columns)"
      ],
      "metadata": {
        "id": "ZH-l0gIo7EQa",
        "colab": {
          "base_uri": "https://localhost:8080/",
          "height": 496,
          "referenced_widgets": [
            "80d12976ee5940239c60e6c270e468ce",
            "ca1c4c14e83447e6b3cfe94d488fd05c",
            "9576689abaa24016aa5a2a7e3edc3b80",
            "f18a1d44a51d4da796fd2de6edbdb0ee",
            "98e3e04bceed4f6b8bf55b5e27b3a2cf",
            "3367cf1e1ae64961901c9b483d79a28d",
            "90939612ad6e4911b4a183db9716b527"
          ]
        },
        "outputId": "92040898-954c-4e4b-f4ce-e585aa9916a4"
      },
      "execution_count": null,
      "outputs": [
        {
          "output_type": "display_data",
          "data": {
            "text/plain": [
              "interactive(children=(Dropdown(description='a', options=('Complains', 'Age Group', 'Tariff Plan', 'Status', 'A…"
            ],
            "application/vnd.jupyter.widget-view+json": {
              "version_major": 2,
              "version_minor": 0,
              "model_id": "80d12976ee5940239c60e6c270e468ce"
            }
          },
          "metadata": {}
        },
        {
          "output_type": "execute_result",
          "data": {
            "text/plain": [
              "<function __main__.bar_plot(a)>"
            ]
          },
          "metadata": {},
          "execution_count": 18
        }
      ]
    },
    {
      "cell_type": "markdown",
      "source": [
        "Le pourcentage de clients fidèles est superieur à celui de clients non fidèles (plus de 85% contre moins de 15%).\n",
        "On remarque qu'au niveau de notre target (churn) il ya un probleme de desequilibre de classe qu'il faut resoudre car cela peut affecter negativement notre modèle."
      ],
      "metadata": {
        "id": "wrx9lRSN_7Nc"
      }
    },
    {
      "cell_type": "markdown",
      "source": [
        "ANALYSE UNIVARIEE DE VARIABLES QUANTITATIVES"
      ],
      "metadata": {
        "id": "BDdL_IZk9RVM"
      }
    },
    {
      "cell_type": "code",
      "source": [
        "#Variables quantitatives\n",
        "numerical_columns = ['Frequency of use','Frequency of SMS','Customer Value','Seconds of Use']\n",
        "\n",
        "# Création d'une fonction de construction d'histogramme de manière interactive\n",
        "def hist_plot (b):\n",
        "  sns.distplot(data[b], kde=False)\n",
        "  plt.title('Histogram of'+str(b))\n",
        "  return plt.show()\n",
        "#Avant d'afficher l'histogramme, il faut convertir le type de la variable 'TotalCharges' en float\n",
        "#data['Customer Value'] = data['Customer Value'].replace(' ',np.nan).astype(float)"
      ],
      "metadata": {
        "id": "yGE2CiJQ8bOc"
      },
      "execution_count": null,
      "outputs": []
    },
    {
      "cell_type": "code",
      "source": [
        "#Voir le nombre de variables manquantes par variables\n",
        "data.isna().sum()"
      ],
      "metadata": {
        "id": "Br5OZJIuI2RC",
        "colab": {
          "base_uri": "https://localhost:8080/"
        },
        "outputId": "ec400fe6-9eb1-4636-dd19-946a7bc6479d"
      },
      "execution_count": null,
      "outputs": [
        {
          "output_type": "execute_result",
          "data": {
            "text/plain": [
              "Call  Failure              0\n",
              "Complains                  0\n",
              "Subscription  Length       0\n",
              "Charge  Amount             0\n",
              "Seconds of Use             0\n",
              "Frequency of use           0\n",
              "Frequency of SMS           0\n",
              "Distinct Called Numbers    0\n",
              "Age Group                  0\n",
              "Tariff Plan                0\n",
              "Status                     0\n",
              "Age                        0\n",
              "Customer Value             0\n",
              "Churn                      0\n",
              "dtype: int64"
            ]
          },
          "metadata": {},
          "execution_count": 20
        }
      ]
    },
    {
      "cell_type": "code",
      "source": [
        "#Afficher les histogrammes avec la fonction (interact)\n",
        "interact(hist_plot, b = numerical_columns);"
      ],
      "metadata": {
        "id": "sCFy9ELyI0gP",
        "colab": {
          "base_uri": "https://localhost:8080/",
          "height": 695,
          "referenced_widgets": [
            "862d266cd9a147a396ba0f79e24b2c91",
            "ba64d119f7ca43bfb89d662b4a963b0d",
            "a1e78971dd1d45afa859b266e1158953",
            "26546f4d8c4147f494aa74affd42108c",
            "19711e6864c343c9b204df3c5f7e2a94",
            "277309e552074416a796ccf3dc586bd7",
            "031a12c0237d493aa595b2557d217c5b"
          ]
        },
        "outputId": "8ab68331-d0d0-4f25-863f-8b11c22fa035"
      },
      "execution_count": null,
      "outputs": [
        {
          "output_type": "display_data",
          "data": {
            "text/plain": [
              "interactive(children=(Dropdown(description='b', options=('Frequency of use', 'Frequency of SMS', 'Customer Val…"
            ],
            "application/vnd.jupyter.widget-view+json": {
              "version_major": 2,
              "version_minor": 0,
              "model_id": "862d266cd9a147a396ba0f79e24b2c91"
            }
          },
          "metadata": {}
        }
      ]
    },
    {
      "cell_type": "code",
      "source": [
        "#Coefficient d'asymetrie de la variable customer Value\n",
        "data['Seconds of Use'].skew()\n",
        "# On voit que ce coef est très grand(tend vers 1) donc Asymétrique\n",
        " #il faut transformer la variable afin de la rendre plus symétrique (Dans le prétraitement)"
      ],
      "metadata": {
        "id": "fyfCm_Su3ckY",
        "colab": {
          "base_uri": "https://localhost:8080/"
        },
        "outputId": "0ef54f61-ee85-4959-aab3-90aeb2fe9b63"
      },
      "execution_count": null,
      "outputs": [
        {
          "output_type": "execute_result",
          "data": {
            "text/plain": [
              "1.3219428645354965"
            ]
          },
          "metadata": {},
          "execution_count": 22
        }
      ]
    },
    {
      "cell_type": "code",
      "source": [
        "#Coefficient d'asymetrie de la variable customer Value\n",
        "data['Frequency of SMS'].skew()\n",
        "# On voit que ce coef est très grand(tend vers 1) donc Asymétrique\n",
        " #il faut transformer la variable afin de la rendre plus symétrique (Dans le prétraitement)"
      ],
      "metadata": {
        "id": "yOW3Vhw53cWV",
        "colab": {
          "base_uri": "https://localhost:8080/"
        },
        "outputId": "9cf78c79-7b8a-4829-9107-63962f5636d4"
      },
      "execution_count": null,
      "outputs": [
        {
          "output_type": "execute_result",
          "data": {
            "text/plain": [
              "1.9741417670137227"
            ]
          },
          "metadata": {},
          "execution_count": 23
        }
      ]
    },
    {
      "cell_type": "code",
      "source": [
        "#Coefficient d'asymetrie de la variable customer Value\n",
        "data['Frequency of use'].skew()\n",
        "# On voit que ce coef est très grand(tend vers 1) donc Asymétrique\n",
        " #il faut transformer la variable afin de la rendre plus symétrique (Dans le prétraitement)"
      ],
      "metadata": {
        "id": "-7D0-WXT31ez",
        "colab": {
          "base_uri": "https://localhost:8080/"
        },
        "outputId": "b8ef8446-6321-40df-e73d-fd2ca813d8bc"
      },
      "execution_count": null,
      "outputs": [
        {
          "output_type": "execute_result",
          "data": {
            "text/plain": [
              "1.1441664249623964"
            ]
          },
          "metadata": {},
          "execution_count": 24
        }
      ]
    },
    {
      "cell_type": "code",
      "source": [
        "#Coefficient d'asymetrie de la variable customer Value\n",
        "data['Customer Value'].skew()\n",
        "# On voit que ce coef est très grand(tend vers 1) donc Asymétrique\n",
        " #il faut transformer la variable afin de la rendre plus symétrique (Dans le prétraitement)"
      ],
      "metadata": {
        "id": "7kwdmIR_TZeb",
        "colab": {
          "base_uri": "https://localhost:8080/"
        },
        "outputId": "63893901-5ba2-46e2-cdcc-fdf676809462"
      },
      "execution_count": null,
      "outputs": [
        {
          "output_type": "execute_result",
          "data": {
            "text/plain": [
              "1.4272916100327098"
            ]
          },
          "metadata": {},
          "execution_count": 25
        }
      ]
    },
    {
      "cell_type": "markdown",
      "source": [
        "Vérifions à présent l'existance ou non de valeurs abérantes grace aux boites à moustaches."
      ],
      "metadata": {
        "id": "_wTEyAEyV1u9"
      }
    },
    {
      "cell_type": "code",
      "source": [
        "import seaborn as sns\n",
        "import matplotlib.pyplot as plt\n",
        "\n",
        "# Construction de la fonction de création de boîtes à moustaches\n",
        "def box_plot(b):\n",
        "    sns.boxplot(y=data[b])\n",
        "    plt.title('Boxplot of ' + str(b))\n",
        "    plt.show()  # Affiche le graphique au lieu d'utiliser plt.shox()\n",
        "\n",
        "# Interact\n",
        "interact(box_plot, b=numerical_columns)"
      ],
      "metadata": {
        "id": "j716g3IfVZYo",
        "colab": {
          "base_uri": "https://localhost:8080/",
          "height": 482,
          "referenced_widgets": [
            "7a298598d2de4a6689f823792e157040",
            "9254d0deafb7420ab67b67515c32605d",
            "9857d03ff7044c7b8ced74c8ab813237",
            "51edc63aade84060b643d7c189764994",
            "ac7829485f8e4fd6a7f855254102ddd1",
            "41bc7bbbb5d94a4bb87dc3c3fc1f1be7",
            "0d70b3e1022c4b078c39451d609bb21a"
          ]
        },
        "outputId": "41208472-f0b3-49a3-97c1-c3e1fd91809c"
      },
      "execution_count": null,
      "outputs": [
        {
          "output_type": "display_data",
          "data": {
            "text/plain": [
              "interactive(children=(Dropdown(description='b', options=('Frequency of use', 'Frequency of SMS', 'Customer Val…"
            ],
            "application/vnd.jupyter.widget-view+json": {
              "version_major": 2,
              "version_minor": 0,
              "model_id": "7a298598d2de4a6689f823792e157040"
            }
          },
          "metadata": {}
        },
        {
          "output_type": "execute_result",
          "data": {
            "text/plain": [
              "<function __main__.box_plot(b)>"
            ]
          },
          "metadata": {},
          "execution_count": 26
        }
      ]
    },
    {
      "cell_type": "markdown",
      "source": [
        "On remarque que ces variables continues non seulement sont fortement asymétriques , mais aussi contiennet des valeurs abérrantes .\n",
        "\n"
      ],
      "metadata": {
        "id": "GnF-xw1V5LJJ"
      }
    },
    {
      "cell_type": "markdown",
      "source": [
        "MATRICE DE CORRELATION"
      ],
      "metadata": {
        "id": "DCtI3UyW5TOX"
      }
    },
    {
      "cell_type": "code",
      "source": [
        "#Matrice de correlation : plus la couleur est proche de 1 , plus les avriables ont une fortes correlation .\n",
        "sns.heatmap(data.corr()).set_title('Carte de correlation de Pearson');"
      ],
      "metadata": {
        "id": "mEd_eunj2O0J",
        "colab": {
          "base_uri": "https://localhost:8080/",
          "height": 606
        },
        "outputId": "2f3dee13-60c6-4f9e-f30f-2354a220949c"
      },
      "execution_count": null,
      "outputs": [
        {
          "output_type": "display_data",
          "data": {
            "text/plain": [
              "<Figure size 640x480 with 2 Axes>"
            ],
            "image/png": "[encoded data removed]"
          },
          "metadata": {}
        }
      ]
    },
    {
      "cell_type": "code",
      "source": [
        "#La matrice optimale : masquer la seconde moitier de la matrice\n",
        "# Créez un masque pour masquer le triangle inférieur\n",
        "mask = np.triu(np.ones_like(data.corr(), dtype=bool))\n",
        "\n",
        "# Créez la carte de chaleur avec des annotations ajustées\n",
        "plt.figure(figsize=(8, 8))\n",
        "sns.heatmap(data.corr(), mask=mask, center=0, cmap='RdBu',\n",
        "            linewidths=0.5, annot=True, fmt=\".2f\", vmin=-1, vmax=1,\n",
        "            annot_kws={\"size\": 8})  # Ajustez la taille de la police ici\n",
        "plt.title('Carte des corrélations', fontsize=15, fontweight='bold')\n",
        "plt.show()"
      ],
      "metadata": {
        "id": "asRBDkQ95tM2",
        "colab": {
          "base_uri": "https://localhost:8080/",
          "height": 855
        },
        "outputId": "97d34589-5afd-46a6-c7cc-6a5fb0ef10b7"
      },
      "execution_count": null,
      "outputs": [
        {
          "output_type": "display_data",
          "data": {
            "text/plain": [
              "<Figure size 800x800 with 2 Axes>"
            ],
            "image/png": "[encoded data removed]"
          },
          "metadata": {}
        }
      ]
    },
    {
      "cell_type": "markdown",
      "source": [
        "ANALYSE BIVARIEES\n"
      ],
      "metadata": {
        "id": "LjAf8ckpWqmC"
      }
    },
    {
      "cell_type": "code",
      "source": [
        " # Age vs Churn : on voit que l'age n'a aucun impact sur le desabonnement ou non du client.\n",
        "\n",
        " sns.boxplot(x= 'Churn', y= 'Age', data=data)\n",
        " plt.xlabel('Désabonnement')\n",
        " plt.ylabel('Age')\n",
        " plt.title('Age total du client')\n",
        " plt.show()"
      ],
      "metadata": {
        "id": "EeE7KrVlWPVB",
        "colab": {
          "base_uri": "https://localhost:8080/",
          "height": 472
        },
        "outputId": "c16b1b6e-6cfc-46ff-e7ab-8158417837fc"
      },
      "execution_count": null,
      "outputs": [
        {
          "output_type": "display_data",
          "data": {
            "text/plain": [
              "<Figure size 640x480 with 1 Axes>"
            ],
            "image/png": "[encoded data removed]"
          },
          "metadata": {}
        }
      ]
    },
    {
      "cell_type": "code",
      "source": [
        " # Complains vs Churn : on remarque que seul les client qui se sont plaints se sont desabonné.\n",
        "\n",
        " sns.boxplot(x= 'Churn', y= 'Complains', data=data)\n",
        " plt.xlabel('Désabonnement')\n",
        " plt.ylabel('Plaintes')\n",
        " plt.title('Total des plaintes de clients')\n",
        " plt.show()"
      ],
      "metadata": {
        "id": "wJD67O_aCQEx",
        "colab": {
          "base_uri": "https://localhost:8080/",
          "height": 472
        },
        "outputId": "50a2aeed-f191-4fe0-d7c2-e2ca8120f0e8"
      },
      "execution_count": null,
      "outputs": [
        {
          "output_type": "display_data",
          "data": {
            "text/plain": [
              "<Figure size 640x480 with 1 Axes>"
            ],
            "image/png": "[encoded data removed]"
          },
          "metadata": {}
        }
      ]
    },
    {
      "cell_type": "code",
      "source": [
        "# Customer Value vs churn : les clients qui se désabonnent sont ceux qui ont une valeur moindre\n",
        "sns.boxplot(x='Churn', y='Customer Value', data=data)\n",
        "plt.xlabel('Désabonnement')\n",
        "plt.ylabel('Valeur')\n",
        "plt.title('Valeur du client')\n",
        "plt.show()"
      ],
      "metadata": {
        "id": "XeydEBtrGUos",
        "colab": {
          "base_uri": "https://localhost:8080/",
          "height": 472
        },
        "outputId": "7a9dfb16-3458-4e2b-a72d-7465c2b0a6c2"
      },
      "execution_count": null,
      "outputs": [
        {
          "output_type": "display_data",
          "data": {
            "text/plain": [
              "<Figure size 640x480 with 1 Axes>"
            ],
            "image/png": "[encoded data removed]"
          },
          "metadata": {}
        }
      ]
    },
    {
      "cell_type": "code",
      "source": [
        "#Customer Value vs churn : les clients avec le moins de secondes d'usage sont cexu qui se desabonnent le plus et ils sont moins nombreux\n",
        "\n",
        "sns.boxplot(x='Churn', y='Seconds of Use', data=data)\n",
        "plt.xlabel('Désabonnement')\n",
        "plt.ylabel('Frequence')\n",
        "plt.title('Frequence total d\\'usage en seconde')\n",
        "plt.show()"
      ],
      "metadata": {
        "id": "dqtSU1Q2GCA1",
        "colab": {
          "base_uri": "https://localhost:8080/",
          "height": 472
        },
        "outputId": "26bc09b1-937e-4b15-a09a-ed5cc9b9a17c"
      },
      "execution_count": null,
      "outputs": [
        {
          "output_type": "display_data",
          "data": {
            "text/plain": [
              "<Figure size 640x480 with 1 Axes>"
            ],
            "image/png": "[encoded data removed]"
          },
          "metadata": {}
        }
      ]
    },
    {
      "cell_type": "code",
      "source": [
        "# Frequency of SMS vs Churn : meme conclusion que l'analyse précedente\n",
        "sns.boxplot(x='Churn', y='Frequency of SMS', data=data)\n",
        "plt.xlabel('Désabonnement')\n",
        "plt.ylabel('Tarif')\n",
        "plt.title('Coût d\\'abonnement')\n",
        "plt.show()"
      ],
      "metadata": {
        "id": "a1jBN14cqmu5",
        "colab": {
          "base_uri": "https://localhost:8080/",
          "height": 472
        },
        "outputId": "d0ee82eb-57dd-4a07-c554-deb05ac9d415"
      },
      "execution_count": null,
      "outputs": [
        {
          "output_type": "display_data",
          "data": {
            "text/plain": [
              "<Figure size 640x480 with 1 Axes>"
            ],
            "image/png": "[encoded data removed]"
          },
          "metadata": {}
        }
      ]
    },
    {
      "cell_type": "markdown",
      "source": [
        "A la suite de ces analyses , on relève 2 problèmes majeurs : Asymétrie des données et présence de valeurs abérrantes .\n",
        "\n",
        "L'asymétrie dans les données peut affecter la performance des modèles, en particulier des modèles basés sur des hypothèses de normalité. Pour traiter l'asymétrie, vous pouvez envisager : La transformation et la standardisation des données.\n",
        "\n",
        "Les valeurs aberrantes peuvent fausser les résultats et la robustesse du modèle. Voici quelques étapes pour traiter les valeurs aberrantes :\n",
        "\n",
        "•\tIdentification : Utilisez des méthodes comme les diagrammes de boîte à moustaches (box plots), les diagrammes de dispersion ou des méthodes statistiques pour identifier les valeurs aberrantes dans vos données.\n",
        "\n",
        "•\tTraitement : Vous pouvez choisir de supprimer les valeurs aberrantes si elles sont vraiment des erreurs ou si elles ne représentent pas bien le comportement général. Sinon, vous pouvez utiliser des techniques de transformation comme la troncature ou la capping pour réduire leur impact.\n",
        "\n",
        "•\tUtilisation de modèles robustes : Certains modèles sont moins sensibles aux valeurs aberrantes que d'autres. Par exemple, les modèles basés sur les arbres de décision et les mo-dèles de forêt aléatoire peuvent mieux gérer les valeurs aberrantes car ils effectuent des coupures binaires répétées.\n"
      ],
      "metadata": {
        "id": "pfw_rcdO9_bY"
      }
    },
    {
      "cell_type": "markdown",
      "source": [
        "RESUMES STATISTIQUES"
      ],
      "metadata": {
        "id": "s5FyAcTvEl3R"
      }
    },
    {
      "cell_type": "code",
      "source": [
        "#\n",
        "data.describe()"
      ],
      "metadata": {
        "id": "N90cT1Wuqm23",
        "colab": {
          "base_uri": "https://localhost:8080/",
          "height": 355
        },
        "outputId": "beb5648c-0745-40cb-f49c-8e4b43819075"
      },
      "execution_count": null,
      "outputs": [
        {
          "output_type": "execute_result",
          "data": {
            "text/plain": [
              "       Call  Failure    Complains  Subscription  Length  Charge  Amount  \\\n",
              "count    3150.000000  3150.000000           3150.000000     3150.000000   \n",
              "mean        7.627937     0.076508             32.541905        0.942857   \n",
              "std         7.263886     0.265851              8.573482        1.521072   \n",
              "min         0.000000     0.000000              3.000000        0.000000   \n",
              "25%         1.000000     0.000000             30.000000        0.000000   \n",
              "50%         6.000000     0.000000             35.000000        0.000000   \n",
              "75%        12.000000     0.000000             38.000000        1.000000   \n",
              "max        36.000000     1.000000             47.000000       10.000000   \n",
              "\n",
              "       Seconds of Use  Frequency of use  Frequency of SMS  \\\n",
              "count     3150.000000       3150.000000       3150.000000   \n",
              "mean      4472.459683         69.460635         73.174921   \n",
              "std       4197.908687         57.413308        112.237560   \n",
              "min          0.000000          0.000000          0.000000   \n",
              "25%       1391.250000         27.000000          6.000000   \n",
              "50%       2990.000000         54.000000         21.000000   \n",
              "75%       6478.250000         95.000000         87.000000   \n",
              "max      17090.000000        255.000000        522.000000   \n",
              "\n",
              "       Distinct Called Numbers    Age Group  Tariff Plan       Status  \\\n",
              "count              3150.000000  3150.000000  3150.000000  3150.000000   \n",
              "mean                 23.509841     2.826032     1.077778     1.248254   \n",
              "std                  17.217337     0.892555     0.267864     0.432069   \n",
              "min                   0.000000     1.000000     1.000000     1.000000   \n",
              "25%                  10.000000     2.000000     1.000000     1.000000   \n",
              "50%                  21.000000     3.000000     1.000000     1.000000   \n",
              "75%                  34.000000     3.000000     1.000000     1.000000   \n",
              "max                  97.000000     5.000000     2.000000     2.000000   \n",
              "\n",
              "               Age  Customer Value        Churn  \n",
              "count  3150.000000     3150.000000  3150.000000  \n",
              "mean     30.998413      470.972916     0.157143  \n",
              "std       8.831095      517.015433     0.363993  \n",
              "min      15.000000        0.000000     0.000000  \n",
              "25%      25.000000      113.801250     0.000000  \n",
              "50%      30.000000      228.480000     0.000000  \n",
              "75%      30.000000      788.388750     0.000000  \n",
              "max      55.000000     2165.280000     1.000000  "
            ],
            "text/html": [
              "\n",
              "  <div id=\"df-009bf00f-3a61-45c3-b1b7-ca7f3221de14\" class=\"colab-df-container\">\n",
              "    <div>\n",
              "<style scoped>\n",
              "    .dataframe tbody tr th:only-of-type {\n",
              "        vertical-align: middle;\n",
              "    }\n",
              "\n",
              "    .dataframe tbody tr th {\n",
              "        vertical-align: top;\n",
              "    }\n",
              "\n",
              "    .dataframe thead th {\n",
              "        text-align: right;\n",
              "    }\n",
              "</style>\n",
              "<table border=\"1\" class=\"dataframe\">\n",
              "  <thead>\n",
              "    <tr style=\"text-align: right;\">\n",
              "      <th></th>\n",
              "      <th>Call  Failure</th>\n",
              "      <th>Complains</th>\n",
              "      <th>Subscription  Length</th>\n",
              "      <th>Charge  Amount</th>\n",
              "      <th>Seconds of Use</th>\n",
              "      <th>Frequency of use</th>\n",
              "      <th>Frequency of SMS</th>\n",
              "      <th>Distinct Called Numbers</th>\n",
              "      <th>Age Group</th>\n",
              "      <th>Tariff Plan</th>\n",
              "      <th>Status</th>\n",
              "      <th>Age</th>\n",
              "      <th>Customer Value</th>\n",
              "      <th>Churn</th>\n",
              "    </tr>\n",
              "  </thead>\n",
              "  <tbody>\n",
              "    <tr>\n",
              "      <th>count</th>\n",
              "      <td>3150.000000</td>\n",
              "      <td>3150.000000</td>\n",
              "      <td>3150.000000</td>\n",
              "      <td>3150.000000</td>\n",
              "      <td>3150.000000</td>\n",
              "      <td>3150.000000</td>\n",
              "      <td>3150.000000</td>\n",
              "      <td>3150.000000</td>\n",
              "      <td>3150.000000</td>\n",
              "      <td>3150.000000</td>\n",
              "      <td>3150.000000</td>\n",
              "      <td>3150.000000</td>\n",
              "      <td>3150.000000</td>\n",
              "      <td>3150.000000</td>\n",
              "    </tr>\n",
              "    <tr>\n",
              "      <th>mean</th>\n",
              "      <td>7.627937</td>\n",
              "      <td>0.076508</td>\n",
              "      <td>32.541905</td>\n",
              "      <td>0.942857</td>\n",
              "      <td>4472.459683</td>\n",
              "      <td>69.460635</td>\n",
              "      <td>73.174921</td>\n",
              "      <td>23.509841</td>\n",
              "      <td>2.826032</td>\n",
              "      <td>1.077778</td>\n",
              "      <td>1.248254</td>\n",
              "      <td>30.998413</td>\n",
              "      <td>470.972916</td>\n",
              "      <td>0.157143</td>\n",
              "    </tr>\n",
              "    <tr>\n",
              "      <th>std</th>\n",
              "      <td>7.263886</td>\n",
              "      <td>0.265851</td>\n",
              "      <td>8.573482</td>\n",
              "      <td>1.521072</td>\n",
              "      <td>4197.908687</td>\n",
              "      <td>57.413308</td>\n",
              "      <td>112.237560</td>\n",
              "      <td>17.217337</td>\n",
              "      <td>0.892555</td>\n",
              "      <td>0.267864</td>\n",
              "      <td>0.432069</td>\n",
              "      <td>8.831095</td>\n",
              "      <td>517.015433</td>\n",
              "      <td>0.363993</td>\n",
              "    </tr>\n",
              "    <tr>\n",
              "      <th>min</th>\n",
              "      <td>0.000000</td>\n",
              "      <td>0.000000</td>\n",
              "      <td>3.000000</td>\n",
              "      <td>0.000000</td>\n",
              "      <td>0.000000</td>\n",
              "      <td>0.000000</td>\n",
              "      <td>0.000000</td>\n",
              "      <td>0.000000</td>\n",
              "      <td>1.000000</td>\n",
              "      <td>1.000000</td>\n",
              "      <td>1.000000</td>\n",
              "      <td>15.000000</td>\n",
              "      <td>0.000000</td>\n",
              "      <td>0.000000</td>\n",
              "    </tr>\n",
              "    <tr>\n",
              "      <th>25%</th>\n",
              "      <td>1.000000</td>\n",
              "      <td>0.000000</td>\n",
              "      <td>30.000000</td>\n",
              "      <td>0.000000</td>\n",
              "      <td>1391.250000</td>\n",
              "      <td>27.000000</td>\n",
              "      <td>6.000000</td>\n",
              "      <td>10.000000</td>\n",
              "      <td>2.000000</td>\n",
              "      <td>1.000000</td>\n",
              "      <td>1.000000</td>\n",
              "      <td>25.000000</td>\n",
              "      <td>113.801250</td>\n",
              "      <td>0.000000</td>\n",
              "    </tr>\n",
              "    <tr>\n",
              "      <th>50%</th>\n",
              "      <td>6.000000</td>\n",
              "      <td>0.000000</td>\n",
              "      <td>35.000000</td>\n",
              "      <td>0.000000</td>\n",
              "      <td>2990.000000</td>\n",
              "      <td>54.000000</td>\n",
              "      <td>21.000000</td>\n",
              "      <td>21.000000</td>\n",
              "      <td>3.000000</td>\n",
              "      <td>1.000000</td>\n",
              "      <td>1.000000</td>\n",
              "      <td>30.000000</td>\n",
              "      <td>228.480000</td>\n",
              "      <td>0.000000</td>\n",
              "    </tr>\n",
              "    <tr>\n",
              "      <th>75%</th>\n",
              "      <td>12.000000</td>\n",
              "      <td>0.000000</td>\n",
              "      <td>38.000000</td>\n",
              "      <td>1.000000</td>\n",
              "      <td>6478.250000</td>\n",
              "      <td>95.000000</td>\n",
              "      <td>87.000000</td>\n",
              "      <td>34.000000</td>\n",
              "      <td>3.000000</td>\n",
              "      <td>1.000000</td>\n",
              "      <td>1.000000</td>\n",
              "      <td>30.000000</td>\n",
              "      <td>788.388750</td>\n",
              "      <td>0.000000</td>\n",
              "    </tr>\n",
              "    <tr>\n",
              "      <th>max</th>\n",
              "      <td>36.000000</td>\n",
              "      <td>1.000000</td>\n",
              "      <td>47.000000</td>\n",
              "      <td>10.000000</td>\n",
              "      <td>17090.000000</td>\n",
              "      <td>255.000000</td>\n",
              "      <td>522.000000</td>\n",
              "      <td>97.000000</td>\n",
              "      <td>5.000000</td>\n",
              "      <td>2.000000</td>\n",
              "      <td>2.000000</td>\n",
              "      <td>55.000000</td>\n",
              "      <td>2165.280000</td>\n",
              "      <td>1.000000</td>\n",
              "    </tr>\n",
              "  </tbody>\n",
              "</table>\n",
              "</div>\n",
              "    <div class=\"colab-df-buttons\">\n",
              "\n",
              "  <div class=\"colab-df-container\">\n",
              "    <button class=\"colab-df-convert\" onclick=\"convertToInteractive('df-009bf00f-3a61-45c3-b1b7-ca7f3221de14')\"\n",
              "            title=\"Convert this dataframe to an interactive table.\"\n",
              "            style=\"display:none;\">\n",
              "\n",
              "  <svg xmlns=\"http://www.w3.org/2000/svg\" height=\"24px\" viewBox=\"0 -960 960 960\">\n",
              "    <path d=\"M120-120v-720h720v720H120Zm60-500h600v-160H180v160Zm220 220h160v-160H400v160Zm0 220h160v-160H400v160ZM180-400h160v-160H180v160Zm440 0h160v-160H620v160ZM180-180h160v-160H180v160Zm440 0h160v-160H620v160Z\"/>\n",
              "  </svg>\n",
              "    </button>\n",
              "\n",
              "  <style>\n",
              "    .colab-df-container {\n",
              "      display:flex;\n",
              "      gap: 12px;\n",
              "    }\n",
              "\n",
              "    .colab-df-convert {\n",
              "      background-color: #E8F0FE;\n",
              "      border: none;\n",
              "      border-radius: 50%;\n",
              "      cursor: pointer;\n",
              "      display: none;\n",
              "      fill: #1967D2;\n",
              "      height: 32px;\n",
              "      padding: 0 0 0 0;\n",
              "      width: 32px;\n",
              "    }\n",
              "\n",
              "    .colab-df-convert:hover {\n",
              "      background-color: #E2EBFA;\n",
              "      box-shadow: 0px 1px 2px rgba(60, 64, 67, 0.3), 0px 1px 3px 1px rgba(60, 64, 67, 0.15);\n",
              "      fill: #174EA6;\n",
              "    }\n",
              "\n",
              "    .colab-df-buttons div {\n",
              "      margin-bottom: 4px;\n",
              "    }\n",
              "\n",
              "    [theme=dark] .colab-df-convert {\n",
              "      background-color: #3B4455;\n",
              "      fill: #D2E3FC;\n",
              "    }\n",
              "\n",
              "    [theme=dark] .colab-df-convert:hover {\n",
              "      background-color: #434B5C;\n",
              "      box-shadow: 0px 1px 3px 1px rgba(0, 0, 0, 0.15);\n",
              "      filter: drop-shadow(0px 1px 2px rgba(0, 0, 0, 0.3));\n",
              "      fill: #FFFFFF;\n",
              "    }\n",
              "  </style>\n",
              "\n",
              "    <script>\n",
              "      const buttonEl =\n",
              "        document.querySelector('#df-009bf00f-3a61-45c3-b1b7-ca7f3221de14 button.colab-df-convert');\n",
              "      buttonEl.style.display =\n",
              "        google.colab.kernel.accessAllowed ? 'block' : 'none';\n",
              "\n",
              "      async function convertToInteractive(key) {\n",
              "        const element = document.querySelector('#df-009bf00f-3a61-45c3-b1b7-ca7f3221de14');\n",
              "        const dataTable =\n",
              "          await google.colab.kernel.invokeFunction('convertToInteractive',\n",
              "                                                    [key], {});\n",
              "        if (!dataTable) return;\n",
              "\n",
              "        const docLinkHtml = 'Like what you see? Visit the ' +\n",
              "          '<a target=\"_blank\" href=https://colab.research.google.com/notebooks/data_table.ipynb>data table notebook</a>'\n",
              "          + ' to learn more about interactive tables.';\n",
              "        element.innerHTML = '';\n",
              "        dataTable['output_type'] = 'display_data';\n",
              "        await google.colab.output.renderOutput(dataTable, element);\n",
              "        const docLink = document.createElement('div');\n",
              "        docLink.innerHTML = docLinkHtml;\n",
              "        element.appendChild(docLink);\n",
              "      }\n",
              "    </script>\n",
              "  </div>\n",
              "\n",
              "\n",
              "<div id=\"df-2a959486-6f48-417a-9bbe-fff2061f0f32\">\n",
              "  <button class=\"colab-df-quickchart\" onclick=\"quickchart('df-2a959486-6f48-417a-9bbe-fff2061f0f32')\"\n",
              "            title=\"Suggest charts.\"\n",
              "            style=\"display:none;\">\n",
              "\n",
              "<svg xmlns=\"http://www.w3.org/2000/svg\" height=\"24px\"viewBox=\"0 0 24 24\"\n",
              "     width=\"24px\">\n",
              "    <g>\n",
              "        <path d=\"M19 3H5c-1.1 0-2 .9-2 2v14c0 1.1.9 2 2 2h14c1.1 0 2-.9 2-2V5c0-1.1-.9-2-2-2zM9 17H7v-7h2v7zm4 0h-2V7h2v10zm4 0h-2v-4h2v4z\"/>\n",
              "    </g>\n",
              "</svg>\n",
              "  </button>\n",
              "\n",
              "<style>\n",
              "  .colab-df-quickchart {\n",
              "    background-color: #E8F0FE;\n",
              "    border: none;\n",
              "    border-radius: 50%;\n",
              "    cursor: pointer;\n",
              "    display: none;\n",
              "    fill: #1967D2;\n",
              "    height: 32px;\n",
              "    padding: 0 0 0 0;\n",
              "    width: 32px;\n",
              "  }\n",
              "\n",
              "  .colab-df-quickchart:hover {\n",
              "    background-color: #E2EBFA;\n",
              "    box-shadow: 0px 1px 2px rgba(60, 64, 67, 0.3), 0px 1px 3px 1px rgba(60, 64, 67, 0.15);\n",
              "    fill: #174EA6;\n",
              "  }\n",
              "\n",
              "  [theme=dark] .colab-df-quickchart {\n",
              "    background-color: #3B4455;\n",
              "    fill: #D2E3FC;\n",
              "  }\n",
              "\n",
              "  [theme=dark] .colab-df-quickchart:hover {\n",
              "    background-color: #434B5C;\n",
              "    box-shadow: 0px 1px 3px 1px rgba(0, 0, 0, 0.15);\n",
              "    filter: drop-shadow(0px 1px 2px rgba(0, 0, 0, 0.3));\n",
              "    fill: #FFFFFF;\n",
              "  }\n",
              "</style>\n",
              "\n",
              "  <script>\n",
              "    async function quickchart(key) {\n",
              "      const charts = await google.colab.kernel.invokeFunction(\n",
              "          'suggestCharts', [key], {});\n",
              "    }\n",
              "    (() => {\n",
              "      let quickchartButtonEl =\n",
              "        document.querySelector('#df-2a959486-6f48-417a-9bbe-fff2061f0f32 button');\n",
              "      quickchartButtonEl.style.display =\n",
              "        google.colab.kernel.accessAllowed ? 'block' : 'none';\n",
              "    })();\n",
              "  </script>\n",
              "</div>\n",
              "    </div>\n",
              "  </div>\n"
            ]
          },
          "metadata": {},
          "execution_count": 34
        }
      ]
    },
    {
      "cell_type": "code",
      "source": [
        "#La description de nos 4 variables quantitatives\n",
        "\n",
        "# Liste des noms de colonnes que vous souhaitez inclure dans la description\n",
        "colonnes_a_inclure = ['Frequency of use','Customer Value','Complains','Age']\n",
        "\n",
        "# Générer les statistiques uniquement pour les colonnes spécifiées\n",
        "description_limitée = data[colonnes_a_inclure].describe()\n",
        "\n",
        "print(description_limitée)"
      ],
      "metadata": {
        "id": "ZmD-uQWIqm6t",
        "colab": {
          "base_uri": "https://localhost:8080/"
        },
        "outputId": "c0e3e194-46c2-4431-9f05-b2fbb3d07764"
      },
      "execution_count": null,
      "outputs": [
        {
          "output_type": "stream",
          "name": "stdout",
          "text": [
            "       Frequency of use  Customer Value    Complains          Age\n",
            "count       3150.000000     3150.000000  3150.000000  3150.000000\n",
            "mean          69.460635      470.972916     0.076508    30.998413\n",
            "std           57.413308      517.015433     0.265851     8.831095\n",
            "min            0.000000        0.000000     0.000000    15.000000\n",
            "25%           27.000000      113.801250     0.000000    25.000000\n",
            "50%           54.000000      228.480000     0.000000    30.000000\n",
            "75%           95.000000      788.388750     0.000000    30.000000\n",
            "max          255.000000     2165.280000     1.000000    55.000000\n"
          ]
        }
      ]
    },
    {
      "cell_type": "markdown",
      "source": [
        "Les  trois variables quantitatives (Frequency of use,Customer Value,Age) ont differentes échelles . Frequency of use varie de 0 à 255 , Customer Value varie de 0 à 2165 , Age varie de 15 à 55 . De nombreux modèles de Machine learning et de Deep learning fonctionnent mieux avec des variables standardisées ou normalisées.\n",
        "Donc  il faudra penser à standardiser les données dans la section de prétraitement des données ."
      ],
      "metadata": {
        "id": "EUVSqab8I4rV"
      }
    },
    {
      "cell_type": "markdown",
      "source": [
        "PRETRAITEMENT DE DONNEES"
      ],
      "metadata": {
        "id": "KdzChYdbNMyN"
      }
    },
    {
      "cell_type": "code",
      "source": [
        "from sklearn.preprocessing import MinMaxScaler       # MinMaxscaler est une fonction de normalisation de données"
      ],
      "metadata": {
        "id": "hdb3oZotk3lZ"
      },
      "execution_count": null,
      "outputs": []
    },
    {
      "cell_type": "code",
      "source": [
        "##1-Gestion de valeurs manquantes\n",
        "\n",
        "#Créons une copie de notre base de données afin de la dataframe originelle (data) intacte .\n",
        "data_copie = data.copy()\n",
        "#Vérification d'absence ou non de valeur abérrante\n",
        "data_copie.isna().sum()\n"
      ],
      "metadata": {
        "id": "Cw9OH1Arqm-C",
        "colab": {
          "base_uri": "https://localhost:8080/"
        },
        "outputId": "0a9abeb3-3b7a-4f87-f3a0-f983d3d3cc0c"
      },
      "execution_count": null,
      "outputs": [
        {
          "output_type": "execute_result",
          "data": {
            "text/plain": [
              "Call  Failure              0\n",
              "Complains                  0\n",
              "Subscription  Length       0\n",
              "Charge  Amount             0\n",
              "Seconds of Use             0\n",
              "Frequency of use           0\n",
              "Frequency of SMS           0\n",
              "Distinct Called Numbers    0\n",
              "Age Group                  0\n",
              "Tariff Plan                0\n",
              "Status                     0\n",
              "Age                        0\n",
              "Customer Value             0\n",
              "Churn                      0\n",
              "dtype: int64"
            ]
          },
          "metadata": {},
          "execution_count": 37
        }
      ]
    },
    {
      "cell_type": "markdown",
      "source": [
        "Remarque : Absence de valeurs manquantes"
      ],
      "metadata": {
        "id": "uYsEWfX05P2w"
      }
    },
    {
      "cell_type": "markdown",
      "source": [
        "2-ENCODAGE DES VARIABLES : On remarque que toutes les variables contiennnent uniquement des valeurs numériques et non des valeurs chaines de caractères  .Donc on a pas besoin d'encoder quoique ce soit ."
      ],
      "metadata": {
        "id": "o6kF4pNQwIuM"
      }
    },
    {
      "cell_type": "markdown",
      "source": [
        "TRANSFORMATION DE VARIABLES"
      ],
      "metadata": {
        "id": "v4SMPq6HGFK_"
      }
    },
    {
      "cell_type": "code",
      "source": [
        "# La variable Customer Value étant asymétrique , utilisons la transformation racine carrée pour réduire l'asymétrie .\n",
        "\n",
        "data['Customer Value'] = np.sqrt(data['Customer Value'])\n",
        "\n",
        "##Histogramme de la variable transformée : on remarque qu'il est moins asymétrique\n",
        "\n",
        "sns.distplot(data['Customer Value'], kde=False); # L'argument kde=False indique que vous ne souhaitez pas tracer la fonction de densité estimée (Kernel Density Estimation) par-dessus l'histogramme"
      ],
      "metadata": {
        "id": "nObcIToS4sda",
        "colab": {
          "base_uri": "https://localhost:8080/",
          "height": 660
        },
        "outputId": "a190a69f-6033-47f7-936c-7f5f0d29e0f3"
      },
      "execution_count": null,
      "outputs": [
        {
          "output_type": "stream",
          "name": "stderr",
          "text": [
            "<ipython-input-38-fb182e9b3586>:7: UserWarning: \n",
            "\n",
            "`distplot` is a deprecated function and will be removed in seaborn v0.14.0.\n",
            "\n",
            "Please adapt your code to use either `displot` (a figure-level function with\n",
            "similar flexibility) or `histplot` (an axes-level function for histograms).\n",
            "\n",
            "For a guide to updating your code to use the new functions, please see\n",
            "https://gist.github.com/mwaskom/de44147ed2974457ad6372750bbe5751\n",
            "\n",
            "  sns.distplot(data['Customer Value'], kde=False); # L'argument kde=False indique que vous ne souhaitez pas tracer la fonction de densité estimée (Kernel Density Estimation) par-dessus l'histogramme\n"
          ]
        },
        {
          "output_type": "display_data",
          "data": {
            "text/plain": [
              "<Figure size 640x480 with 1 Axes>"
            ],
            "image/png": "[encoded data removed]"
          },
          "metadata": {}
        }
      ]
    },
    {
      "cell_type": "markdown",
      "source": [
        "Remarque :  La distribution est mois asymétrique."
      ],
      "metadata": {
        "id": "XPUcNK9zIrKQ"
      }
    },
    {
      "cell_type": "code",
      "source": [
        "# revefions celà en calculant le coefficient d'asymétrie de cette variable\n",
        "data['Customer Value'].skew()   # on a quitté de 1.4 à 0.6 donc une réduction de presque la moitié"
      ],
      "metadata": {
        "id": "LAyteveqIyTP",
        "colab": {
          "base_uri": "https://localhost:8080/"
        },
        "outputId": "d2086578-6e2b-4e73-92ac-058579512a4d"
      },
      "execution_count": null,
      "outputs": [
        {
          "output_type": "execute_result",
          "data": {
            "text/plain": [
              "0.6237200901031904"
            ]
          },
          "metadata": {},
          "execution_count": 39
        }
      ]
    },
    {
      "cell_type": "markdown",
      "source": [
        "**DIVISION** DE NOS DONNEES : entreinnement , validation et test ."
      ],
      "metadata": {
        "id": "15FzF-7oJRKs"
      }
    },
    {
      "cell_type": "code",
      "source": [
        "from sklearn.model_selection import train_test_split # Pour diviser notre dataset en 3 : Trainning , Validation et test\n",
        "from sklearn.utils import resample                   # réechantillonner les données"
      ],
      "metadata": {
        "id": "3QdyKoQek_8s"
      },
      "execution_count": null,
      "outputs": []
    },
    {
      "cell_type": "code",
      "source": [
        "#Données d'entrainement (60%) , de validation (20%) et de test (20%) : Double vérification ou double sécutrité\n",
        "#Les données de validation : pour pouvoir selectionner le meilleur modèle sur  lequel on va enfin tester\n",
        "#Données d'entrainement : pour entrainner le modèle, Validation : pour selectionner le mailleur modèle ,\n",
        "# test : pour évaluer le modèle selectionné .Donc il sagit d'une double vérification.\n",
        "\n",
        "x = data.drop('Churn', axis = 1)    # Notre variable endogène ou indépendante (qui est la dataframe sans churn)\n",
        "\n",
        "y = data['Churn']                    # Notre variable indépendante ou expliquée (qui est churn)\n",
        "\n",
        "seed=111 #La méthode seed() est utilisée pour initialiser le générateur de nombres aléatoires.\n",
        "\n",
        "x_train, x_test, y_train, y_test = train_test_split(x, y, test_size = 0.4, random_state = seed, stratify = y)\n",
        "\n",
        "#stratify = y permet de s'assurer qu'on a la meme proportion de classe au niveau de la variable cible.\n",
        "\n",
        "#Divisons le données de test créées en 2 parties égales pour former les données de validation et de test.\n",
        "\n",
        "x_val, x_test, y_val, y_test = train_test_split(x_test, y_test, test_size = 0.5, random_state = seed, stratify = y_test)"
      ],
      "metadata": {
        "id": "S1LqfEZLJXQg"
      },
      "execution_count": null,
      "outputs": []
    },
    {
      "cell_type": "markdown",
      "source": [
        "Il faut s'assurer que la proportion de personnes ayant résiliées ou non leur contrat soit=eent les meme dans les différents ensembles de données."
      ],
      "metadata": {
        "id": "OjfrZ4BNmRJK"
      }
    },
    {
      "cell_type": "code",
      "source": [
        "#Fréquence des classes dasn y\n",
        "pd.DataFrame (y).value_counts(normalize=True)"
      ],
      "metadata": {
        "id": "SGwcPuIXlkFh",
        "colab": {
          "base_uri": "https://localhost:8080/"
        },
        "outputId": "6b9c63ea-7bca-4a91-f9dd-ddaa7950eefd"
      },
      "execution_count": null,
      "outputs": [
        {
          "output_type": "execute_result",
          "data": {
            "text/plain": [
              "Churn\n",
              "0        0.842857\n",
              "1        0.157143\n",
              "dtype: float64"
            ]
          },
          "metadata": {},
          "execution_count": 42
        }
      ]
    },
    {
      "cell_type": "code",
      "source": [
        "#Fréquence des classes dasn y_train\n",
        "pd.DataFrame (y_train).value_counts(normalize=True)"
      ],
      "metadata": {
        "id": "bC_r9-tsqD83",
        "colab": {
          "base_uri": "https://localhost:8080/"
        },
        "outputId": "8494e65d-6e1f-4be0-9f39-5219ec34fd4b"
      },
      "execution_count": null,
      "outputs": [
        {
          "output_type": "execute_result",
          "data": {
            "text/plain": [
              "Churn\n",
              "0        0.842857\n",
              "1        0.157143\n",
              "dtype: float64"
            ]
          },
          "metadata": {},
          "execution_count": 43
        }
      ]
    },
    {
      "cell_type": "code",
      "source": [
        "#Fréquence des classes dasn y_val\n",
        "pd.DataFrame (y_val).value_counts(normalize=True)"
      ],
      "metadata": {
        "id": "BEU4gM_BqIkX",
        "colab": {
          "base_uri": "https://localhost:8080/"
        },
        "outputId": "5006b627-d344-4a12-8059-daea6393afea"
      },
      "execution_count": null,
      "outputs": [
        {
          "output_type": "execute_result",
          "data": {
            "text/plain": [
              "Churn\n",
              "0        0.842857\n",
              "1        0.157143\n",
              "dtype: float64"
            ]
          },
          "metadata": {},
          "execution_count": 44
        }
      ]
    },
    {
      "cell_type": "code",
      "source": [
        "#Fréquence des classes dans y_test\n",
        "pd.DataFrame (y_test).value_counts(normalize=True)"
      ],
      "metadata": {
        "id": "e-ughEovqOic",
        "colab": {
          "base_uri": "https://localhost:8080/"
        },
        "outputId": "0420c16c-3e5f-4dc6-c02f-80e4efe06c9c"
      },
      "execution_count": null,
      "outputs": [
        {
          "output_type": "execute_result",
          "data": {
            "text/plain": [
              "Churn\n",
              "0        0.842857\n",
              "1        0.157143\n",
              "dtype: float64"
            ]
          },
          "metadata": {},
          "execution_count": 45
        }
      ]
    },
    {
      "cell_type": "markdown",
      "source": [
        "On remarque qu'on a les memes proportions partout"
      ],
      "metadata": {
        "id": "gJRY-_dEvGO5"
      }
    },
    {
      "cell_type": "markdown",
      "source": [
        "NORMALISATION DES VARIABLES : Résolvons le probleme de désequilibre"
      ],
      "metadata": {
        "id": "j3lAYFBfvPwv"
      }
    },
    {
      "cell_type": "markdown",
      "source": [
        "Attaquons nous au problème de désequilibre de classes dans les données . Lorsqu'il ya une très grande difference entre le nombre d'observations dans chaque categories de la variable target, cela peut entrainnner des erreurs de modélisation. Ici il ya plus de 80% des personnes qui n'oint pas résiliés leur abvonnement contre 15% qui l'on fait. Il ya donc un très grand déséquilibre de classes. On peut donc utiliser le réechantillonnage pour réequilibrer les classes . Soit on fait su suréchantillonnage dans la classe minoritaire(modalité1), soit on fait du sous-écahntillonnage dans la classe majoritaire(modalité2)."
      ],
      "metadata": {
        "id": "2avUmm1Px_f7"
      }
    },
    {
      "cell_type": "code",
      "source": [
        "#Méthode de suréchantillonnage de la classe minorotaire.\n",
        "\n",
        "X2 = x_train                #Création de la copie de nos données d'entrainnement\n",
        "\n",
        "\n",
        "X2['Churn'] = y_train.values  #Ajout la variable cible à cette copie\n",
        "\n",
        "minority = X2[X2.Churn == 1]  #Filtrage pour obtenir uniquement les observations minoritaires\n",
        "\n",
        "majority = X2[X2.Churn == 0]  #Filtrage pour obtenir uniquement les observations majoritaires\n",
        "\n",
        "minority_upsampled = resample(minority, replace = True, n_samples = len(majority), random_state = seed) # Application de la fonction de surécantillonnage (resample)\n",
        "\n",
        "upsampled = pd.concat([majority, minority_upsampled]) # On concatene les DataFrames majority et minority_upsampled\n",
        "\n",
        "#pour créer un nouvel ensemble de données \"upsampled\" où les classes sont maintenant équilibrées.\n",
        "\n",
        "upsampled # On obtient donc la nouvelle data frame obtenue à partir de la méthode se surechantillonnage\n",
        "\n",
        "#NB: replace = False signifie tirage avec remise"
      ],
      "metadata": {
        "id": "BRPgLuOXtJyi",
        "colab": {
          "base_uri": "https://localhost:8080/",
          "height": 458
        },
        "outputId": "61a62749-5faf-4803-b285-fa69ca6d2488"
      },
      "execution_count": null,
      "outputs": [
        {
          "output_type": "execute_result",
          "data": {
            "text/plain": [
              "      Call  Failure  Complains  Subscription  Length  Charge  Amount  \\\n",
              "2041              0          0                    24               0   \n",
              "964               9          0                    37               0   \n",
              "1600              3          0                    37               0   \n",
              "1697              3          0                    13               1   \n",
              "163               5          0                    42               2   \n",
              "...             ...        ...                   ...             ...   \n",
              "349               0          1                     3               0   \n",
              "2078              0          1                    34               0   \n",
              "2074              8          0                    34               0   \n",
              "2777             16          1                    38               0   \n",
              "2999             14          1                    12               3   \n",
              "\n",
              "      Seconds of Use  Frequency of use  Frequency of SMS  \\\n",
              "2041             520                 4                14   \n",
              "964            15485               182               150   \n",
              "1600            4180                71                30   \n",
              "1697            2433                33                 0   \n",
              "163             3175                29               493   \n",
              "...              ...               ...               ...   \n",
              "349             1228                 9                 0   \n",
              "2078               0                 0                 0   \n",
              "2074            5513                92                19   \n",
              "2777            2763                51                50   \n",
              "2999            2502                36                15   \n",
              "\n",
              "      Distinct Called Numbers  Age Group  Tariff Plan  Status  Age  \\\n",
              "2041                        1          4            1       2   45   \n",
              "964                        30          2            1       1   25   \n",
              "1600                       19          3            1       1   30   \n",
              "1697                       13          3            1       1   30   \n",
              "163                        12          3            1       1   30   \n",
              "...                       ...        ...          ...     ...  ...   \n",
              "349                         1          2            1       1   25   \n",
              "2078                        0          3            1       2   30   \n",
              "2074                       22          2            1       1   25   \n",
              "2777                       36          4            1       2   45   \n",
              "2999                        9          3            1       1   30   \n",
              "\n",
              "      Customer Value  Churn  \n",
              "2041        6.935416      0  \n",
              "964        37.148553      0  \n",
              "1600       17.030561      0  \n",
              "1697        9.931767      0  \n",
              "163        45.827503      0  \n",
              "...              ...    ...  \n",
              "349         7.460898      1  \n",
              "2078        0.000000      1  \n",
              "2074       18.377296      1  \n",
              "2777       13.976766      1  \n",
              "2999       12.709052      1  \n",
              "\n",
              "[3186 rows x 14 columns]"
            ],
            "text/html": [
              "\n",
              "  <div id=\"df-e2a83f73-807b-47ef-a807-56cde887268c\" class=\"colab-df-container\">\n",
              "    <div>\n",
              "<style scoped>\n",
              "    .dataframe tbody tr th:only-of-type {\n",
              "        vertical-align: middle;\n",
              "    }\n",
              "\n",
              "    .dataframe tbody tr th {\n",
              "        vertical-align: top;\n",
              "    }\n",
              "\n",
              "    .dataframe thead th {\n",
              "        text-align: right;\n",
              "    }\n",
              "</style>\n",
              "<table border=\"1\" class=\"dataframe\">\n",
              "  <thead>\n",
              "    <tr style=\"text-align: right;\">\n",
              "      <th></th>\n",
              "      <th>Call  Failure</th>\n",
              "      <th>Complains</th>\n",
              "      <th>Subscription  Length</th>\n",
              "      <th>Charge  Amount</th>\n",
              "      <th>Seconds of Use</th>\n",
              "      <th>Frequency of use</th>\n",
              "      <th>Frequency of SMS</th>\n",
              "      <th>Distinct Called Numbers</th>\n",
              "      <th>Age Group</th>\n",
              "      <th>Tariff Plan</th>\n",
              "      <th>Status</th>\n",
              "      <th>Age</th>\n",
              "      <th>Customer Value</th>\n",
              "      <th>Churn</th>\n",
              "    </tr>\n",
              "  </thead>\n",
              "  <tbody>\n",
              "    <tr>\n",
              "      <th>2041</th>\n",
              "      <td>0</td>\n",
              "      <td>0</td>\n",
              "      <td>24</td>\n",
              "      <td>0</td>\n",
              "      <td>520</td>\n",
              "      <td>4</td>\n",
              "      <td>14</td>\n",
              "      <td>1</td>\n",
              "      <td>4</td>\n",
              "      <td>1</td>\n",
              "      <td>2</td>\n",
              "      <td>45</td>\n",
              "      <td>6.935416</td>\n",
              "      <td>0</td>\n",
              "    </tr>\n",
              "    <tr>\n",
              "      <th>964</th>\n",
              "      <td>9</td>\n",
              "      <td>0</td>\n",
              "      <td>37</td>\n",
              "      <td>0</td>\n",
              "      <td>15485</td>\n",
              "      <td>182</td>\n",
              "      <td>150</td>\n",
              "      <td>30</td>\n",
              "      <td>2</td>\n",
              "      <td>1</td>\n",
              "      <td>1</td>\n",
              "      <td>25</td>\n",
              "      <td>37.148553</td>\n",
              "      <td>0</td>\n",
              "    </tr>\n",
              "    <tr>\n",
              "      <th>1600</th>\n",
              "      <td>3</td>\n",
              "      <td>0</td>\n",
              "      <td>37</td>\n",
              "      <td>0</td>\n",
              "      <td>4180</td>\n",
              "      <td>71</td>\n",
              "      <td>30</td>\n",
              "      <td>19</td>\n",
              "      <td>3</td>\n",
              "      <td>1</td>\n",
              "      <td>1</td>\n",
              "      <td>30</td>\n",
              "      <td>17.030561</td>\n",
              "      <td>0</td>\n",
              "    </tr>\n",
              "    <tr>\n",
              "      <th>1697</th>\n",
              "      <td>3</td>\n",
              "      <td>0</td>\n",
              "      <td>13</td>\n",
              "      <td>1</td>\n",
              "      <td>2433</td>\n",
              "      <td>33</td>\n",
              "      <td>0</td>\n",
              "      <td>13</td>\n",
              "      <td>3</td>\n",
              "      <td>1</td>\n",
              "      <td>1</td>\n",
              "      <td>30</td>\n",
              "      <td>9.931767</td>\n",
              "      <td>0</td>\n",
              "    </tr>\n",
              "    <tr>\n",
              "      <th>163</th>\n",
              "      <td>5</td>\n",
              "      <td>0</td>\n",
              "      <td>42</td>\n",
              "      <td>2</td>\n",
              "      <td>3175</td>\n",
              "      <td>29</td>\n",
              "      <td>493</td>\n",
              "      <td>12</td>\n",
              "      <td>3</td>\n",
              "      <td>1</td>\n",
              "      <td>1</td>\n",
              "      <td>30</td>\n",
              "      <td>45.827503</td>\n",
              "      <td>0</td>\n",
              "    </tr>\n",
              "    <tr>\n",
              "      <th>...</th>\n",
              "      <td>...</td>\n",
              "      <td>...</td>\n",
              "      <td>...</td>\n",
              "      <td>...</td>\n",
              "      <td>...</td>\n",
              "      <td>...</td>\n",
              "      <td>...</td>\n",
              "      <td>...</td>\n",
              "      <td>...</td>\n",
              "      <td>...</td>\n",
              "      <td>...</td>\n",
              "      <td>...</td>\n",
              "      <td>...</td>\n",
              "      <td>...</td>\n",
              "    </tr>\n",
              "    <tr>\n",
              "      <th>349</th>\n",
              "      <td>0</td>\n",
              "      <td>1</td>\n",
              "      <td>3</td>\n",
              "      <td>0</td>\n",
              "      <td>1228</td>\n",
              "      <td>9</td>\n",
              "      <td>0</td>\n",
              "      <td>1</td>\n",
              "      <td>2</td>\n",
              "      <td>1</td>\n",
              "      <td>1</td>\n",
              "      <td>25</td>\n",
              "      <td>7.460898</td>\n",
              "      <td>1</td>\n",
              "    </tr>\n",
              "    <tr>\n",
              "      <th>2078</th>\n",
              "      <td>0</td>\n",
              "      <td>1</td>\n",
              "      <td>34</td>\n",
              "      <td>0</td>\n",
              "      <td>0</td>\n",
              "      <td>0</td>\n",
              "      <td>0</td>\n",
              "      <td>0</td>\n",
              "      <td>3</td>\n",
              "      <td>1</td>\n",
              "      <td>2</td>\n",
              "      <td>30</td>\n",
              "      <td>0.000000</td>\n",
              "      <td>1</td>\n",
              "    </tr>\n",
              "    <tr>\n",
              "      <th>2074</th>\n",
              "      <td>8</td>\n",
              "      <td>0</td>\n",
              "      <td>34</td>\n",
              "      <td>0</td>\n",
              "      <td>5513</td>\n",
              "      <td>92</td>\n",
              "      <td>19</td>\n",
              "      <td>22</td>\n",
              "      <td>2</td>\n",
              "      <td>1</td>\n",
              "      <td>1</td>\n",
              "      <td>25</td>\n",
              "      <td>18.377296</td>\n",
              "      <td>1</td>\n",
              "    </tr>\n",
              "    <tr>\n",
              "      <th>2777</th>\n",
              "      <td>16</td>\n",
              "      <td>1</td>\n",
              "      <td>38</td>\n",
              "      <td>0</td>\n",
              "      <td>2763</td>\n",
              "      <td>51</td>\n",
              "      <td>50</td>\n",
              "      <td>36</td>\n",
              "      <td>4</td>\n",
              "      <td>1</td>\n",
              "      <td>2</td>\n",
              "      <td>45</td>\n",
              "      <td>13.976766</td>\n",
              "      <td>1</td>\n",
              "    </tr>\n",
              "    <tr>\n",
              "      <th>2999</th>\n",
              "      <td>14</td>\n",
              "      <td>1</td>\n",
              "      <td>12</td>\n",
              "      <td>3</td>\n",
              "      <td>2502</td>\n",
              "      <td>36</td>\n",
              "      <td>15</td>\n",
              "      <td>9</td>\n",
              "      <td>3</td>\n",
              "      <td>1</td>\n",
              "      <td>1</td>\n",
              "      <td>30</td>\n",
              "      <td>12.709052</td>\n",
              "      <td>1</td>\n",
              "    </tr>\n",
              "  </tbody>\n",
              "</table>\n",
              "<p>3186 rows × 14 columns</p>\n",
              "</div>\n",
              "    <div class=\"colab-df-buttons\">\n",
              "\n",
              "  <div class=\"colab-df-container\">\n",
              "    <button class=\"colab-df-convert\" onclick=\"convertToInteractive('df-e2a83f73-807b-47ef-a807-56cde887268c')\"\n",
              "            title=\"Convert this dataframe to an interactive table.\"\n",
              "            style=\"display:none;\">\n",
              "\n",
              "  <svg xmlns=\"http://www.w3.org/2000/svg\" height=\"24px\" viewBox=\"0 -960 960 960\">\n",
              "    <path d=\"M120-120v-720h720v720H120Zm60-500h600v-160H180v160Zm220 220h160v-160H400v160Zm0 220h160v-160H400v160ZM180-400h160v-160H180v160Zm440 0h160v-160H620v160ZM180-180h160v-160H180v160Zm440 0h160v-160H620v160Z\"/>\n",
              "  </svg>\n",
              "    </button>\n",
              "\n",
              "  <style>\n",
              "    .colab-df-container {\n",
              "      display:flex;\n",
              "      gap: 12px;\n",
              "    }\n",
              "\n",
              "    .colab-df-convert {\n",
              "      background-color: #E8F0FE;\n",
              "      border: none;\n",
              "      border-radius: 50%;\n",
              "      cursor: pointer;\n",
              "      display: none;\n",
              "      fill: #1967D2;\n",
              "      height: 32px;\n",
              "      padding: 0 0 0 0;\n",
              "      width: 32px;\n",
              "    }\n",
              "\n",
              "    .colab-df-convert:hover {\n",
              "      background-color: #E2EBFA;\n",
              "      box-shadow: 0px 1px 2px rgba(60, 64, 67, 0.3), 0px 1px 3px 1px rgba(60, 64, 67, 0.15);\n",
              "      fill: #174EA6;\n",
              "    }\n",
              "\n",
              "    .colab-df-buttons div {\n",
              "      margin-bottom: 4px;\n",
              "    }\n",
              "\n",
              "    [theme=dark] .colab-df-convert {\n",
              "      background-color: #3B4455;\n",
              "      fill: #D2E3FC;\n",
              "    }\n",
              "\n",
              "    [theme=dark] .colab-df-convert:hover {\n",
              "      background-color: #434B5C;\n",
              "      box-shadow: 0px 1px 3px 1px rgba(0, 0, 0, 0.15);\n",
              "      filter: drop-shadow(0px 1px 2px rgba(0, 0, 0, 0.3));\n",
              "      fill: #FFFFFF;\n",
              "    }\n",
              "  </style>\n",
              "\n",
              "    <script>\n",
              "      const buttonEl =\n",
              "        document.querySelector('#df-e2a83f73-807b-47ef-a807-56cde887268c button.colab-df-convert');\n",
              "      buttonEl.style.display =\n",
              "        google.colab.kernel.accessAllowed ? 'block' : 'none';\n",
              "\n",
              "      async function convertToInteractive(key) {\n",
              "        const element = document.querySelector('#df-e2a83f73-807b-47ef-a807-56cde887268c');\n",
              "        const dataTable =\n",
              "          await google.colab.kernel.invokeFunction('convertToInteractive',\n",
              "                                                    [key], {});\n",
              "        if (!dataTable) return;\n",
              "\n",
              "        const docLinkHtml = 'Like what you see? Visit the ' +\n",
              "          '<a target=\"_blank\" href=https://colab.research.google.com/notebooks/data_table.ipynb>data table notebook</a>'\n",
              "          + ' to learn more about interactive tables.';\n",
              "        element.innerHTML = '';\n",
              "        dataTable['output_type'] = 'display_data';\n",
              "        await google.colab.output.renderOutput(dataTable, element);\n",
              "        const docLink = document.createElement('div');\n",
              "        docLink.innerHTML = docLinkHtml;\n",
              "        element.appendChild(docLink);\n",
              "      }\n",
              "    </script>\n",
              "  </div>\n",
              "\n",
              "\n",
              "<div id=\"df-b68e38ca-42cc-444d-83ab-38885e6414f6\">\n",
              "  <button class=\"colab-df-quickchart\" onclick=\"quickchart('df-b68e38ca-42cc-444d-83ab-38885e6414f6')\"\n",
              "            title=\"Suggest charts.\"\n",
              "            style=\"display:none;\">\n",
              "\n",
              "<svg xmlns=\"http://www.w3.org/2000/svg\" height=\"24px\"viewBox=\"0 0 24 24\"\n",
              "     width=\"24px\">\n",
              "    <g>\n",
              "        <path d=\"M19 3H5c-1.1 0-2 .9-2 2v14c0 1.1.9 2 2 2h14c1.1 0 2-.9 2-2V5c0-1.1-.9-2-2-2zM9 17H7v-7h2v7zm4 0h-2V7h2v10zm4 0h-2v-4h2v4z\"/>\n",
              "    </g>\n",
              "</svg>\n",
              "  </button>\n",
              "\n",
              "<style>\n",
              "  .colab-df-quickchart {\n",
              "    background-color: #E8F0FE;\n",
              "    border: none;\n",
              "    border-radius: 50%;\n",
              "    cursor: pointer;\n",
              "    display: none;\n",
              "    fill: #1967D2;\n",
              "    height: 32px;\n",
              "    padding: 0 0 0 0;\n",
              "    width: 32px;\n",
              "  }\n",
              "\n",
              "  .colab-df-quickchart:hover {\n",
              "    background-color: #E2EBFA;\n",
              "    box-shadow: 0px 1px 2px rgba(60, 64, 67, 0.3), 0px 1px 3px 1px rgba(60, 64, 67, 0.15);\n",
              "    fill: #174EA6;\n",
              "  }\n",
              "\n",
              "  [theme=dark] .colab-df-quickchart {\n",
              "    background-color: #3B4455;\n",
              "    fill: #D2E3FC;\n",
              "  }\n",
              "\n",
              "  [theme=dark] .colab-df-quickchart:hover {\n",
              "    background-color: #434B5C;\n",
              "    box-shadow: 0px 1px 3px 1px rgba(0, 0, 0, 0.15);\n",
              "    filter: drop-shadow(0px 1px 2px rgba(0, 0, 0, 0.3));\n",
              "    fill: #FFFFFF;\n",
              "  }\n",
              "</style>\n",
              "\n",
              "  <script>\n",
              "    async function quickchart(key) {\n",
              "      const charts = await google.colab.kernel.invokeFunction(\n",
              "          'suggestCharts', [key], {});\n",
              "    }\n",
              "    (() => {\n",
              "      let quickchartButtonEl =\n",
              "        document.querySelector('#df-b68e38ca-42cc-444d-83ab-38885e6414f6 button');\n",
              "      quickchartButtonEl.style.display =\n",
              "        google.colab.kernel.accessAllowed ? 'block' : 'none';\n",
              "    })();\n",
              "  </script>\n",
              "</div>\n",
              "    </div>\n",
              "  </div>\n"
            ]
          },
          "metadata": {},
          "execution_count": 46
        }
      ]
    },
    {
      "cell_type": "code",
      "source": [
        "# Vérification de la resolution du probleme de desequilibre\n",
        "\n",
        "upsampled['Churn'].value_counts(normalize = True) # Equilibre parfait avec 50/50"
      ],
      "metadata": {
        "id": "GtgYsmuV1vhI",
        "colab": {
          "base_uri": "https://localhost:8080/"
        },
        "outputId": "4919e6ee-e4cb-487e-b433-3a6320daa58c"
      },
      "execution_count": null,
      "outputs": [
        {
          "output_type": "execute_result",
          "data": {
            "text/plain": [
              "0    0.5\n",
              "1    0.5\n",
              "Name: Churn, dtype: float64"
            ]
          },
          "metadata": {},
          "execution_count": 47
        }
      ]
    },
    {
      "cell_type": "code",
      "source": [
        "# Données d'entrainnement sur la base de methode de surechantillonnage de la classe minoritaire\n",
        "x_train_up = upsampled.drop('Churn', axis=1)\n",
        "y_train_up = upsampled['Churn']"
      ],
      "metadata": {
        "id": "Vu-OW8sa2Ciq"
      },
      "execution_count": null,
      "outputs": []
    },
    {
      "cell_type": "code",
      "source": [
        "# Résolution du prob de desequilibre méthode de sous-échantillonnage de la classe majoritaire.\n",
        "majority_downsampled = resample(majority, replace = False, n_samples = len(minority), random_state = seed)\n",
        "downsampled = pd.concat([minority, majority_downsampled])\n",
        "downsampled\n",
        "\n",
        "#NB: replace = False signifie tirage sans remise : on aura moins d'observations"
      ],
      "metadata": {
        "id": "WJZQBeGI3f3O",
        "colab": {
          "base_uri": "https://localhost:8080/",
          "height": 458
        },
        "outputId": "be37119e-b714-498e-c716-8527beced105"
      },
      "execution_count": null,
      "outputs": [
        {
          "output_type": "execute_result",
          "data": {
            "text/plain": [
              "      Call  Failure  Complains  Subscription  Length  Charge  Amount  \\\n",
              "2477             16          1                    41               0   \n",
              "2122             28          0                    35               0   \n",
              "1068              0          0                    35               0   \n",
              "672              25          1                    33               0   \n",
              "1028              0          0                    36               0   \n",
              "...             ...        ...                   ...             ...   \n",
              "883              31          1                    32               4   \n",
              "125               0          0                    32               0   \n",
              "2188             12          0                    31               3   \n",
              "1147              6          0                    16               3   \n",
              "225               0          0                    30               0   \n",
              "\n",
              "      Seconds of Use  Frequency of use  Frequency of SMS  \\\n",
              "2477            2753                58                52   \n",
              "2122            1260                53                23   \n",
              "1068               0                 0                 0   \n",
              "672             1145                48                25   \n",
              "1028             133                 2                 0   \n",
              "...              ...               ...               ...   \n",
              "883            16785               249                 8   \n",
              "125             2780                19                 0   \n",
              "2188            1680                45               205   \n",
              "1147            2608                42                29   \n",
              "225             2760                20                 0   \n",
              "\n",
              "      Distinct Called Numbers  Age Group  Tariff Plan  Status  Age  \\\n",
              "2477                       38          4            1       2   45   \n",
              "2122                       19          3            1       2   30   \n",
              "1068                        0          2            1       2   25   \n",
              "672                        20          2            1       2   25   \n",
              "1028                        2          3            1       2   30   \n",
              "...                       ...        ...          ...     ...  ...   \n",
              "883                        80          2            1       1   25   \n",
              "125                        12          3            1       1   30   \n",
              "2188                       15          3            2       1   30   \n",
              "1147                       19          3            1       1   30   \n",
              "225                        10          3            1       1   30   \n",
              "\n",
              "      Customer Value  Churn  \n",
              "2477       14.151855      1  \n",
              "2122       12.021647      1  \n",
              "1068        0.000000      1  \n",
              "672        12.891276      1  \n",
              "1028        2.323790      1  \n",
              "...              ...    ...  \n",
              "883        28.328960      0  \n",
              "125        10.581115      0  \n",
              "2188       29.816103      0  \n",
              "1147       14.899664      0  \n",
              "225        10.545141      0  \n",
              "\n",
              "[594 rows x 14 columns]"
            ],
            "text/html": [
              "\n",
              "  <div id=\"df-50f095eb-43f5-4e0d-a3aa-39b39afb1b04\" class=\"colab-df-container\">\n",
              "    <div>\n",
              "<style scoped>\n",
              "    .dataframe tbody tr th:only-of-type {\n",
              "        vertical-align: middle;\n",
              "    }\n",
              "\n",
              "    .dataframe tbody tr th {\n",
              "        vertical-align: top;\n",
              "    }\n",
              "\n",
              "    .dataframe thead th {\n",
              "        text-align: right;\n",
              "    }\n",
              "</style>\n",
              "<table border=\"1\" class=\"dataframe\">\n",
              "  <thead>\n",
              "    <tr style=\"text-align: right;\">\n",
              "      <th></th>\n",
              "      <th>Call  Failure</th>\n",
              "      <th>Complains</th>\n",
              "      <th>Subscription  Length</th>\n",
              "      <th>Charge  Amount</th>\n",
              "      <th>Seconds of Use</th>\n",
              "      <th>Frequency of use</th>\n",
              "      <th>Frequency of SMS</th>\n",
              "      <th>Distinct Called Numbers</th>\n",
              "      <th>Age Group</th>\n",
              "      <th>Tariff Plan</th>\n",
              "      <th>Status</th>\n",
              "      <th>Age</th>\n",
              "      <th>Customer Value</th>\n",
              "      <th>Churn</th>\n",
              "    </tr>\n",
              "  </thead>\n",
              "  <tbody>\n",
              "    <tr>\n",
              "      <th>2477</th>\n",
              "      <td>16</td>\n",
              "      <td>1</td>\n",
              "      <td>41</td>\n",
              "      <td>0</td>\n",
              "      <td>2753</td>\n",
              "      <td>58</td>\n",
              "      <td>52</td>\n",
              "      <td>38</td>\n",
              "      <td>4</td>\n",
              "      <td>1</td>\n",
              "      <td>2</td>\n",
              "      <td>45</td>\n",
              "      <td>14.151855</td>\n",
              "      <td>1</td>\n",
              "    </tr>\n",
              "    <tr>\n",
              "      <th>2122</th>\n",
              "      <td>28</td>\n",
              "      <td>0</td>\n",
              "      <td>35</td>\n",
              "      <td>0</td>\n",
              "      <td>1260</td>\n",
              "      <td>53</td>\n",
              "      <td>23</td>\n",
              "      <td>19</td>\n",
              "      <td>3</td>\n",
              "      <td>1</td>\n",
              "      <td>2</td>\n",
              "      <td>30</td>\n",
              "      <td>12.021647</td>\n",
              "      <td>1</td>\n",
              "    </tr>\n",
              "    <tr>\n",
              "      <th>1068</th>\n",
              "      <td>0</td>\n",
              "      <td>0</td>\n",
              "      <td>35</td>\n",
              "      <td>0</td>\n",
              "      <td>0</td>\n",
              "      <td>0</td>\n",
              "      <td>0</td>\n",
              "      <td>0</td>\n",
              "      <td>2</td>\n",
              "      <td>1</td>\n",
              "      <td>2</td>\n",
              "      <td>25</td>\n",
              "      <td>0.000000</td>\n",
              "      <td>1</td>\n",
              "    </tr>\n",
              "    <tr>\n",
              "      <th>672</th>\n",
              "      <td>25</td>\n",
              "      <td>1</td>\n",
              "      <td>33</td>\n",
              "      <td>0</td>\n",
              "      <td>1145</td>\n",
              "      <td>48</td>\n",
              "      <td>25</td>\n",
              "      <td>20</td>\n",
              "      <td>2</td>\n",
              "      <td>1</td>\n",
              "      <td>2</td>\n",
              "      <td>25</td>\n",
              "      <td>12.891276</td>\n",
              "      <td>1</td>\n",
              "    </tr>\n",
              "    <tr>\n",
              "      <th>1028</th>\n",
              "      <td>0</td>\n",
              "      <td>0</td>\n",
              "      <td>36</td>\n",
              "      <td>0</td>\n",
              "      <td>133</td>\n",
              "      <td>2</td>\n",
              "      <td>0</td>\n",
              "      <td>2</td>\n",
              "      <td>3</td>\n",
              "      <td>1</td>\n",
              "      <td>2</td>\n",
              "      <td>30</td>\n",
              "      <td>2.323790</td>\n",
              "      <td>1</td>\n",
              "    </tr>\n",
              "    <tr>\n",
              "      <th>...</th>\n",
              "      <td>...</td>\n",
              "      <td>...</td>\n",
              "      <td>...</td>\n",
              "      <td>...</td>\n",
              "      <td>...</td>\n",
              "      <td>...</td>\n",
              "      <td>...</td>\n",
              "      <td>...</td>\n",
              "      <td>...</td>\n",
              "      <td>...</td>\n",
              "      <td>...</td>\n",
              "      <td>...</td>\n",
              "      <td>...</td>\n",
              "      <td>...</td>\n",
              "    </tr>\n",
              "    <tr>\n",
              "      <th>883</th>\n",
              "      <td>31</td>\n",
              "      <td>1</td>\n",
              "      <td>32</td>\n",
              "      <td>4</td>\n",
              "      <td>16785</td>\n",
              "      <td>249</td>\n",
              "      <td>8</td>\n",
              "      <td>80</td>\n",
              "      <td>2</td>\n",
              "      <td>1</td>\n",
              "      <td>1</td>\n",
              "      <td>25</td>\n",
              "      <td>28.328960</td>\n",
              "      <td>0</td>\n",
              "    </tr>\n",
              "    <tr>\n",
              "      <th>125</th>\n",
              "      <td>0</td>\n",
              "      <td>0</td>\n",
              "      <td>32</td>\n",
              "      <td>0</td>\n",
              "      <td>2780</td>\n",
              "      <td>19</td>\n",
              "      <td>0</td>\n",
              "      <td>12</td>\n",
              "      <td>3</td>\n",
              "      <td>1</td>\n",
              "      <td>1</td>\n",
              "      <td>30</td>\n",
              "      <td>10.581115</td>\n",
              "      <td>0</td>\n",
              "    </tr>\n",
              "    <tr>\n",
              "      <th>2188</th>\n",
              "      <td>12</td>\n",
              "      <td>0</td>\n",
              "      <td>31</td>\n",
              "      <td>3</td>\n",
              "      <td>1680</td>\n",
              "      <td>45</td>\n",
              "      <td>205</td>\n",
              "      <td>15</td>\n",
              "      <td>3</td>\n",
              "      <td>2</td>\n",
              "      <td>1</td>\n",
              "      <td>30</td>\n",
              "      <td>29.816103</td>\n",
              "      <td>0</td>\n",
              "    </tr>\n",
              "    <tr>\n",
              "      <th>1147</th>\n",
              "      <td>6</td>\n",
              "      <td>0</td>\n",
              "      <td>16</td>\n",
              "      <td>3</td>\n",
              "      <td>2608</td>\n",
              "      <td>42</td>\n",
              "      <td>29</td>\n",
              "      <td>19</td>\n",
              "      <td>3</td>\n",
              "      <td>1</td>\n",
              "      <td>1</td>\n",
              "      <td>30</td>\n",
              "      <td>14.899664</td>\n",
              "      <td>0</td>\n",
              "    </tr>\n",
              "    <tr>\n",
              "      <th>225</th>\n",
              "      <td>0</td>\n",
              "      <td>0</td>\n",
              "      <td>30</td>\n",
              "      <td>0</td>\n",
              "      <td>2760</td>\n",
              "      <td>20</td>\n",
              "      <td>0</td>\n",
              "      <td>10</td>\n",
              "      <td>3</td>\n",
              "      <td>1</td>\n",
              "      <td>1</td>\n",
              "      <td>30</td>\n",
              "      <td>10.545141</td>\n",
              "      <td>0</td>\n",
              "    </tr>\n",
              "  </tbody>\n",
              "</table>\n",
              "<p>594 rows × 14 columns</p>\n",
              "</div>\n",
              "    <div class=\"colab-df-buttons\">\n",
              "\n",
              "  <div class=\"colab-df-container\">\n",
              "    <button class=\"colab-df-convert\" onclick=\"convertToInteractive('df-50f095eb-43f5-4e0d-a3aa-39b39afb1b04')\"\n",
              "            title=\"Convert this dataframe to an interactive table.\"\n",
              "            style=\"display:none;\">\n",
              "\n",
              "  <svg xmlns=\"http://www.w3.org/2000/svg\" height=\"24px\" viewBox=\"0 -960 960 960\">\n",
              "    <path d=\"M120-120v-720h720v720H120Zm60-500h600v-160H180v160Zm220 220h160v-160H400v160Zm0 220h160v-160H400v160ZM180-400h160v-160H180v160Zm440 0h160v-160H620v160ZM180-180h160v-160H180v160Zm440 0h160v-160H620v160Z\"/>\n",
              "  </svg>\n",
              "    </button>\n",
              "\n",
              "  <style>\n",
              "    .colab-df-container {\n",
              "      display:flex;\n",
              "      gap: 12px;\n",
              "    }\n",
              "\n",
              "    .colab-df-convert {\n",
              "      background-color: #E8F0FE;\n",
              "      border: none;\n",
              "      border-radius: 50%;\n",
              "      cursor: pointer;\n",
              "      display: none;\n",
              "      fill: #1967D2;\n",
              "      height: 32px;\n",
              "      padding: 0 0 0 0;\n",
              "      width: 32px;\n",
              "    }\n",
              "\n",
              "    .colab-df-convert:hover {\n",
              "      background-color: #E2EBFA;\n",
              "      box-shadow: 0px 1px 2px rgba(60, 64, 67, 0.3), 0px 1px 3px 1px rgba(60, 64, 67, 0.15);\n",
              "      fill: #174EA6;\n",
              "    }\n",
              "\n",
              "    .colab-df-buttons div {\n",
              "      margin-bottom: 4px;\n",
              "    }\n",
              "\n",
              "    [theme=dark] .colab-df-convert {\n",
              "      background-color: #3B4455;\n",
              "      fill: #D2E3FC;\n",
              "    }\n",
              "\n",
              "    [theme=dark] .colab-df-convert:hover {\n",
              "      background-color: #434B5C;\n",
              "      box-shadow: 0px 1px 3px 1px rgba(0, 0, 0, 0.15);\n",
              "      filter: drop-shadow(0px 1px 2px rgba(0, 0, 0, 0.3));\n",
              "      fill: #FFFFFF;\n",
              "    }\n",
              "  </style>\n",
              "\n",
              "    <script>\n",
              "      const buttonEl =\n",
              "        document.querySelector('#df-50f095eb-43f5-4e0d-a3aa-39b39afb1b04 button.colab-df-convert');\n",
              "      buttonEl.style.display =\n",
              "        google.colab.kernel.accessAllowed ? 'block' : 'none';\n",
              "\n",
              "      async function convertToInteractive(key) {\n",
              "        const element = document.querySelector('#df-50f095eb-43f5-4e0d-a3aa-39b39afb1b04');\n",
              "        const dataTable =\n",
              "          await google.colab.kernel.invokeFunction('convertToInteractive',\n",
              "                                                    [key], {});\n",
              "        if (!dataTable) return;\n",
              "\n",
              "        const docLinkHtml = 'Like what you see? Visit the ' +\n",
              "          '<a target=\"_blank\" href=https://colab.research.google.com/notebooks/data_table.ipynb>data table notebook</a>'\n",
              "          + ' to learn more about interactive tables.';\n",
              "        element.innerHTML = '';\n",
              "        dataTable['output_type'] = 'display_data';\n",
              "        await google.colab.output.renderOutput(dataTable, element);\n",
              "        const docLink = document.createElement('div');\n",
              "        docLink.innerHTML = docLinkHtml;\n",
              "        element.appendChild(docLink);\n",
              "      }\n",
              "    </script>\n",
              "  </div>\n",
              "\n",
              "\n",
              "<div id=\"df-ea59811c-1f58-4a4b-8072-5074acd7a630\">\n",
              "  <button class=\"colab-df-quickchart\" onclick=\"quickchart('df-ea59811c-1f58-4a4b-8072-5074acd7a630')\"\n",
              "            title=\"Suggest charts.\"\n",
              "            style=\"display:none;\">\n",
              "\n",
              "<svg xmlns=\"http://www.w3.org/2000/svg\" height=\"24px\"viewBox=\"0 0 24 24\"\n",
              "     width=\"24px\">\n",
              "    <g>\n",
              "        <path d=\"M19 3H5c-1.1 0-2 .9-2 2v14c0 1.1.9 2 2 2h14c1.1 0 2-.9 2-2V5c0-1.1-.9-2-2-2zM9 17H7v-7h2v7zm4 0h-2V7h2v10zm4 0h-2v-4h2v4z\"/>\n",
              "    </g>\n",
              "</svg>\n",
              "  </button>\n",
              "\n",
              "<style>\n",
              "  .colab-df-quickchart {\n",
              "    background-color: #E8F0FE;\n",
              "    border: none;\n",
              "    border-radius: 50%;\n",
              "    cursor: pointer;\n",
              "    display: none;\n",
              "    fill: #1967D2;\n",
              "    height: 32px;\n",
              "    padding: 0 0 0 0;\n",
              "    width: 32px;\n",
              "  }\n",
              "\n",
              "  .colab-df-quickchart:hover {\n",
              "    background-color: #E2EBFA;\n",
              "    box-shadow: 0px 1px 2px rgba(60, 64, 67, 0.3), 0px 1px 3px 1px rgba(60, 64, 67, 0.15);\n",
              "    fill: #174EA6;\n",
              "  }\n",
              "\n",
              "  [theme=dark] .colab-df-quickchart {\n",
              "    background-color: #3B4455;\n",
              "    fill: #D2E3FC;\n",
              "  }\n",
              "\n",
              "  [theme=dark] .colab-df-quickchart:hover {\n",
              "    background-color: #434B5C;\n",
              "    box-shadow: 0px 1px 3px 1px rgba(0, 0, 0, 0.15);\n",
              "    filter: drop-shadow(0px 1px 2px rgba(0, 0, 0, 0.3));\n",
              "    fill: #FFFFFF;\n",
              "  }\n",
              "</style>\n",
              "\n",
              "  <script>\n",
              "    async function quickchart(key) {\n",
              "      const charts = await google.colab.kernel.invokeFunction(\n",
              "          'suggestCharts', [key], {});\n",
              "    }\n",
              "    (() => {\n",
              "      let quickchartButtonEl =\n",
              "        document.querySelector('#df-ea59811c-1f58-4a4b-8072-5074acd7a630 button');\n",
              "      quickchartButtonEl.style.display =\n",
              "        google.colab.kernel.accessAllowed ? 'block' : 'none';\n",
              "    })();\n",
              "  </script>\n",
              "</div>\n",
              "    </div>\n",
              "  </div>\n"
            ]
          },
          "metadata": {},
          "execution_count": 49
        }
      ]
    },
    {
      "cell_type": "code",
      "source": [
        "#Vérification\n",
        "downsampled['Churn'].value_counts(normalize=True)"
      ],
      "metadata": {
        "id": "Hcyk0PX13qpn",
        "colab": {
          "base_uri": "https://localhost:8080/"
        },
        "outputId": "e5331c3c-a571-465f-80a9-532688c78043"
      },
      "execution_count": null,
      "outputs": [
        {
          "output_type": "execute_result",
          "data": {
            "text/plain": [
              "1    0.5\n",
              "0    0.5\n",
              "Name: Churn, dtype: float64"
            ]
          },
          "metadata": {},
          "execution_count": 50
        }
      ]
    },
    {
      "cell_type": "code",
      "source": [
        "# Données d'entrainnement sur la base de methode de sousechantillonnage de la classe majoritaire\n",
        "X_train_down = downsampled.drop('Churn', axis= 1)\n",
        "y_train_down = downsampled['Churn']"
      ],
      "metadata": {
        "id": "gXEh2JLj4ABd"
      },
      "execution_count": null,
      "outputs": []
    },
    {
      "cell_type": "markdown",
      "source": [
        "Redefinissons le X_train et le y_train\n"
      ],
      "metadata": {
        "id": "dJ7wO7Zp4LhA"
      }
    },
    {
      "cell_type": "code",
      "source": [
        "y_train = x_train['Churn']               # Variable expliquée\n",
        "x_train = x_train.drop('Churn', axis=1)  #Variable explicative sans churn"
      ],
      "metadata": {
        "id": "927Udez54Kko"
      },
      "execution_count": null,
      "outputs": []
    },
    {
      "cell_type": "code",
      "source": [
        "#Définition des données d'entrainnement\n",
        " #Choix possibles de données  : (X_train, y_train), (X_train_up, y_train_up) et (X_train_down, y_train_train_down)\n",
        " #Choix numéro 1 : les données de surechantillonnage\n",
        "\n",
        "train_features = x_train_up\n",
        "train_labels = y_train_up\n",
        "\n",
        "#Pour avoir la   possibilite de pouvoir utiliser le type de données qu'on veut en changeant juste le (train_features et train_labels)"
      ],
      "metadata": {
        "id": "vezHyJ0d45lj"
      },
      "execution_count": null,
      "outputs": []
    },
    {
      "cell_type": "markdown",
      "source": [
        "NORMALIsATION DES DONNEES :\n",
        "Après le probleme de déséquilibre de classes , passons à la prochaine étape qui est celle de normalisation des données.\n",
        "\n"
      ],
      "metadata": {
        "id": "r3jrTWT96FA0"
      }
    },
    {
      "cell_type": "markdown",
      "source": [
        "La standardisation consiste à remplacer les valeurs réelles par le z_score = ((Valeur_de_la_variable - Moyenne_de_la_variable)/(ecart_type_de_la_variable))"
      ],
      "metadata": {
        "id": "W5rizFJu7enh"
      }
    },
    {
      "cell_type": "code",
      "source": [
        "#Normalisation des variables independantes des differents ensembles de données\n",
        "           # On peut choisir de standardiser au lieu de normaliser\n",
        "from sklearn.preprocessing import MinMaxScaler\n",
        "scaler  = MinMaxScaler()       # Appel à la focntion MinMaxscaler pour la normalisation\n",
        "\n",
        "#Entrainons l'algo  à partir des données d'entrainnement\n",
        "\n",
        "mod_scaler = scaler.fit(train_features)\n",
        "\n",
        "train_features = mod_scaler.transform(train_features) # Transformation des differents ensembles de données\n",
        "x_val = mod_scaler.transform(x_val)                    # Pareil pour mes données de validation\n",
        "x_test = mod_scaler.transform(x_test)                 #Pareil pour mes données de test\n",
        "\n",
        "# Retransformation  en dataframe\n",
        "\n",
        "train_features = pd.DataFrame(train_features, columns = x.columns)\n",
        "x_val= pd.DataFrame(x_val, columns = x.columns)\n",
        "x_test= pd.DataFrame(x_test, columns = x.columns)"
      ],
      "metadata": {
        "id": "oHBgJQ4L6CxQ"
      },
      "execution_count": null,
      "outputs": []
    },
    {
      "cell_type": "code",
      "source": [
        "#Vérifier que Toutes les valeurs sont maintenant entre 0 et 1\n",
        "train_features.describe()"
      ],
      "metadata": {
        "id": "KzE3Y_b1Rg-J",
        "colab": {
          "base_uri": "https://localhost:8080/",
          "height": 355
        },
        "outputId": "da532556-82a2-4639-ade0-f3d44e4c41f7"
      },
      "execution_count": null,
      "outputs": [
        {
          "output_type": "execute_result",
          "data": {
            "text/plain": [
              "       Call  Failure    Complains  Subscription  Length  Charge  Amount  \\\n",
              "count    3186.000000  3186.000000           3186.000000     3186.000000   \n",
              "mean        0.227459     0.213434              0.679156        0.064909   \n",
              "std         0.220723     0.409796              0.209305        0.126661   \n",
              "min         0.000000     0.000000              0.000000        0.000000   \n",
              "25%         0.028571     0.000000              0.627907        0.000000   \n",
              "50%         0.171429     0.000000              0.744186        0.000000   \n",
              "75%         0.342857     0.000000              0.813953        0.100000   \n",
              "max         1.000000     1.000000              1.000000        1.000000   \n",
              "\n",
              "       Seconds of Use  Frequency of use  Frequency of SMS  \\\n",
              "count     3186.000000       3186.000000       3186.000000   \n",
              "mean         0.196165          0.211203          0.093589   \n",
              "std          0.216872          0.198712          0.174109   \n",
              "min          0.000000          0.000000          0.000000   \n",
              "25%          0.050045          0.062992          0.003831   \n",
              "50%          0.124397          0.161417          0.030651   \n",
              "75%          0.260575          0.302165          0.068966   \n",
              "max          1.000000          1.000000          1.000000   \n",
              "\n",
              "       Distinct Called Numbers    Age Group  Tariff Plan       Status  \\\n",
              "count              3186.000000  3186.000000  3186.000000  3186.000000   \n",
              "mean                  0.206950     0.448368     0.047395     0.448839   \n",
              "std                   0.168827     0.204161     0.212515     0.497454   \n",
              "min                   0.000000     0.000000     0.000000     0.000000   \n",
              "25%                   0.075269     0.250000     0.000000     0.000000   \n",
              "50%                   0.182796     0.500000     0.000000     0.000000   \n",
              "75%                   0.301075     0.500000     0.000000     1.000000   \n",
              "max                   1.000000     1.000000     1.000000     1.000000   \n",
              "\n",
              "               Age  Customer Value  \n",
              "count  3186.000000     3186.000000  \n",
              "mean      0.391086        0.320461  \n",
              "std       0.199111        0.220002  \n",
              "min       0.000000        0.000000  \n",
              "25%       0.250000        0.178089  \n",
              "50%       0.375000        0.275981  \n",
              "75%       0.375000        0.385087  \n",
              "max       1.000000        1.000000  "
            ],
            "text/html": [
              "\n",
              "  <div id=\"df-7b1db201-79da-4923-808b-9c3b96d87195\" class=\"colab-df-container\">\n",
              "    <div>\n",
              "<style scoped>\n",
              "    .dataframe tbody tr th:only-of-type {\n",
              "        vertical-align: middle;\n",
              "    }\n",
              "\n",
              "    .dataframe tbody tr th {\n",
              "        vertical-align: top;\n",
              "    }\n",
              "\n",
              "    .dataframe thead th {\n",
              "        text-align: right;\n",
              "    }\n",
              "</style>\n",
              "<table border=\"1\" class=\"dataframe\">\n",
              "  <thead>\n",
              "    <tr style=\"text-align: right;\">\n",
              "      <th></th>\n",
              "      <th>Call  Failure</th>\n",
              "      <th>Complains</th>\n",
              "      <th>Subscription  Length</th>\n",
              "      <th>Charge  Amount</th>\n",
              "      <th>Seconds of Use</th>\n",
              "      <th>Frequency of use</th>\n",
              "      <th>Frequency of SMS</th>\n",
              "      <th>Distinct Called Numbers</th>\n",
              "      <th>Age Group</th>\n",
              "      <th>Tariff Plan</th>\n",
              "      <th>Status</th>\n",
              "      <th>Age</th>\n",
              "      <th>Customer Value</th>\n",
              "    </tr>\n",
              "  </thead>\n",
              "  <tbody>\n",
              "    <tr>\n",
              "      <th>count</th>\n",
              "      <td>3186.000000</td>\n",
              "      <td>3186.000000</td>\n",
              "      <td>3186.000000</td>\n",
              "      <td>3186.000000</td>\n",
              "      <td>3186.000000</td>\n",
              "      <td>3186.000000</td>\n",
              "      <td>3186.000000</td>\n",
              "      <td>3186.000000</td>\n",
              "      <td>3186.000000</td>\n",
              "      <td>3186.000000</td>\n",
              "      <td>3186.000000</td>\n",
              "      <td>3186.000000</td>\n",
              "      <td>3186.000000</td>\n",
              "    </tr>\n",
              "    <tr>\n",
              "      <th>mean</th>\n",
              "      <td>0.227459</td>\n",
              "      <td>0.213434</td>\n",
              "      <td>0.679156</td>\n",
              "      <td>0.064909</td>\n",
              "      <td>0.196165</td>\n",
              "      <td>0.211203</td>\n",
              "      <td>0.093589</td>\n",
              "      <td>0.206950</td>\n",
              "      <td>0.448368</td>\n",
              "      <td>0.047395</td>\n",
              "      <td>0.448839</td>\n",
              "      <td>0.391086</td>\n",
              "      <td>0.320461</td>\n",
              "    </tr>\n",
              "    <tr>\n",
              "      <th>std</th>\n",
              "      <td>0.220723</td>\n",
              "      <td>0.409796</td>\n",
              "      <td>0.209305</td>\n",
              "      <td>0.126661</td>\n",
              "      <td>0.216872</td>\n",
              "      <td>0.198712</td>\n",
              "      <td>0.174109</td>\n",
              "      <td>0.168827</td>\n",
              "      <td>0.204161</td>\n",
              "      <td>0.212515</td>\n",
              "      <td>0.497454</td>\n",
              "      <td>0.199111</td>\n",
              "      <td>0.220002</td>\n",
              "    </tr>\n",
              "    <tr>\n",
              "      <th>min</th>\n",
              "      <td>0.000000</td>\n",
              "      <td>0.000000</td>\n",
              "      <td>0.000000</td>\n",
              "      <td>0.000000</td>\n",
              "      <td>0.000000</td>\n",
              "      <td>0.000000</td>\n",
              "      <td>0.000000</td>\n",
              "      <td>0.000000</td>\n",
              "      <td>0.000000</td>\n",
              "      <td>0.000000</td>\n",
              "      <td>0.000000</td>\n",
              "      <td>0.000000</td>\n",
              "      <td>0.000000</td>\n",
              "    </tr>\n",
              "    <tr>\n",
              "      <th>25%</th>\n",
              "      <td>0.028571</td>\n",
              "      <td>0.000000</td>\n",
              "      <td>0.627907</td>\n",
              "      <td>0.000000</td>\n",
              "      <td>0.050045</td>\n",
              "      <td>0.062992</td>\n",
              "      <td>0.003831</td>\n",
              "      <td>0.075269</td>\n",
              "      <td>0.250000</td>\n",
              "      <td>0.000000</td>\n",
              "      <td>0.000000</td>\n",
              "      <td>0.250000</td>\n",
              "      <td>0.178089</td>\n",
              "    </tr>\n",
              "    <tr>\n",
              "      <th>50%</th>\n",
              "      <td>0.171429</td>\n",
              "      <td>0.000000</td>\n",
              "      <td>0.744186</td>\n",
              "      <td>0.000000</td>\n",
              "      <td>0.124397</td>\n",
              "      <td>0.161417</td>\n",
              "      <td>0.030651</td>\n",
              "      <td>0.182796</td>\n",
              "      <td>0.500000</td>\n",
              "      <td>0.000000</td>\n",
              "      <td>0.000000</td>\n",
              "      <td>0.375000</td>\n",
              "      <td>0.275981</td>\n",
              "    </tr>\n",
              "    <tr>\n",
              "      <th>75%</th>\n",
              "      <td>0.342857</td>\n",
              "      <td>0.000000</td>\n",
              "      <td>0.813953</td>\n",
              "      <td>0.100000</td>\n",
              "      <td>0.260575</td>\n",
              "      <td>0.302165</td>\n",
              "      <td>0.068966</td>\n",
              "      <td>0.301075</td>\n",
              "      <td>0.500000</td>\n",
              "      <td>0.000000</td>\n",
              "      <td>1.000000</td>\n",
              "      <td>0.375000</td>\n",
              "      <td>0.385087</td>\n",
              "    </tr>\n",
              "    <tr>\n",
              "      <th>max</th>\n",
              "      <td>1.000000</td>\n",
              "      <td>1.000000</td>\n",
              "      <td>1.000000</td>\n",
              "      <td>1.000000</td>\n",
              "      <td>1.000000</td>\n",
              "      <td>1.000000</td>\n",
              "      <td>1.000000</td>\n",
              "      <td>1.000000</td>\n",
              "      <td>1.000000</td>\n",
              "      <td>1.000000</td>\n",
              "      <td>1.000000</td>\n",
              "      <td>1.000000</td>\n",
              "      <td>1.000000</td>\n",
              "    </tr>\n",
              "  </tbody>\n",
              "</table>\n",
              "</div>\n",
              "    <div class=\"colab-df-buttons\">\n",
              "\n",
              "  <div class=\"colab-df-container\">\n",
              "    <button class=\"colab-df-convert\" onclick=\"convertToInteractive('df-7b1db201-79da-4923-808b-9c3b96d87195')\"\n",
              "            title=\"Convert this dataframe to an interactive table.\"\n",
              "            style=\"display:none;\">\n",
              "\n",
              "  <svg xmlns=\"http://www.w3.org/2000/svg\" height=\"24px\" viewBox=\"0 -960 960 960\">\n",
              "    <path d=\"M120-120v-720h720v720H120Zm60-500h600v-160H180v160Zm220 220h160v-160H400v160Zm0 220h160v-160H400v160ZM180-400h160v-160H180v160Zm440 0h160v-160H620v160ZM180-180h160v-160H180v160Zm440 0h160v-160H620v160Z\"/>\n",
              "  </svg>\n",
              "    </button>\n",
              "\n",
              "  <style>\n",
              "    .colab-df-container {\n",
              "      display:flex;\n",
              "      gap: 12px;\n",
              "    }\n",
              "\n",
              "    .colab-df-convert {\n",
              "      background-color: #E8F0FE;\n",
              "      border: none;\n",
              "      border-radius: 50%;\n",
              "      cursor: pointer;\n",
              "      display: none;\n",
              "      fill: #1967D2;\n",
              "      height: 32px;\n",
              "      padding: 0 0 0 0;\n",
              "      width: 32px;\n",
              "    }\n",
              "\n",
              "    .colab-df-convert:hover {\n",
              "      background-color: #E2EBFA;\n",
              "      box-shadow: 0px 1px 2px rgba(60, 64, 67, 0.3), 0px 1px 3px 1px rgba(60, 64, 67, 0.15);\n",
              "      fill: #174EA6;\n",
              "    }\n",
              "\n",
              "    .colab-df-buttons div {\n",
              "      margin-bottom: 4px;\n",
              "    }\n",
              "\n",
              "    [theme=dark] .colab-df-convert {\n",
              "      background-color: #3B4455;\n",
              "      fill: #D2E3FC;\n",
              "    }\n",
              "\n",
              "    [theme=dark] .colab-df-convert:hover {\n",
              "      background-color: #434B5C;\n",
              "      box-shadow: 0px 1px 3px 1px rgba(0, 0, 0, 0.15);\n",
              "      filter: drop-shadow(0px 1px 2px rgba(0, 0, 0, 0.3));\n",
              "      fill: #FFFFFF;\n",
              "    }\n",
              "  </style>\n",
              "\n",
              "    <script>\n",
              "      const buttonEl =\n",
              "        document.querySelector('#df-7b1db201-79da-4923-808b-9c3b96d87195 button.colab-df-convert');\n",
              "      buttonEl.style.display =\n",
              "        google.colab.kernel.accessAllowed ? 'block' : 'none';\n",
              "\n",
              "      async function convertToInteractive(key) {\n",
              "        const element = document.querySelector('#df-7b1db201-79da-4923-808b-9c3b96d87195');\n",
              "        const dataTable =\n",
              "          await google.colab.kernel.invokeFunction('convertToInteractive',\n",
              "                                                    [key], {});\n",
              "        if (!dataTable) return;\n",
              "\n",
              "        const docLinkHtml = 'Like what you see? Visit the ' +\n",
              "          '<a target=\"_blank\" href=https://colab.research.google.com/notebooks/data_table.ipynb>data table notebook</a>'\n",
              "          + ' to learn more about interactive tables.';\n",
              "        element.innerHTML = '';\n",
              "        dataTable['output_type'] = 'display_data';\n",
              "        await google.colab.output.renderOutput(dataTable, element);\n",
              "        const docLink = document.createElement('div');\n",
              "        docLink.innerHTML = docLinkHtml;\n",
              "        element.appendChild(docLink);\n",
              "      }\n",
              "    </script>\n",
              "  </div>\n",
              "\n",
              "\n",
              "<div id=\"df-3c279f06-8ab4-4594-b648-d425a187a6f3\">\n",
              "  <button class=\"colab-df-quickchart\" onclick=\"quickchart('df-3c279f06-8ab4-4594-b648-d425a187a6f3')\"\n",
              "            title=\"Suggest charts.\"\n",
              "            style=\"display:none;\">\n",
              "\n",
              "<svg xmlns=\"http://www.w3.org/2000/svg\" height=\"24px\"viewBox=\"0 0 24 24\"\n",
              "     width=\"24px\">\n",
              "    <g>\n",
              "        <path d=\"M19 3H5c-1.1 0-2 .9-2 2v14c0 1.1.9 2 2 2h14c1.1 0 2-.9 2-2V5c0-1.1-.9-2-2-2zM9 17H7v-7h2v7zm4 0h-2V7h2v10zm4 0h-2v-4h2v4z\"/>\n",
              "    </g>\n",
              "</svg>\n",
              "  </button>\n",
              "\n",
              "<style>\n",
              "  .colab-df-quickchart {\n",
              "    background-color: #E8F0FE;\n",
              "    border: none;\n",
              "    border-radius: 50%;\n",
              "    cursor: pointer;\n",
              "    display: none;\n",
              "    fill: #1967D2;\n",
              "    height: 32px;\n",
              "    padding: 0 0 0 0;\n",
              "    width: 32px;\n",
              "  }\n",
              "\n",
              "  .colab-df-quickchart:hover {\n",
              "    background-color: #E2EBFA;\n",
              "    box-shadow: 0px 1px 2px rgba(60, 64, 67, 0.3), 0px 1px 3px 1px rgba(60, 64, 67, 0.15);\n",
              "    fill: #174EA6;\n",
              "  }\n",
              "\n",
              "  [theme=dark] .colab-df-quickchart {\n",
              "    background-color: #3B4455;\n",
              "    fill: #D2E3FC;\n",
              "  }\n",
              "\n",
              "  [theme=dark] .colab-df-quickchart:hover {\n",
              "    background-color: #434B5C;\n",
              "    box-shadow: 0px 1px 3px 1px rgba(0, 0, 0, 0.15);\n",
              "    filter: drop-shadow(0px 1px 2px rgba(0, 0, 0, 0.3));\n",
              "    fill: #FFFFFF;\n",
              "  }\n",
              "</style>\n",
              "\n",
              "  <script>\n",
              "    async function quickchart(key) {\n",
              "      const charts = await google.colab.kernel.invokeFunction(\n",
              "          'suggestCharts', [key], {});\n",
              "    }\n",
              "    (() => {\n",
              "      let quickchartButtonEl =\n",
              "        document.querySelector('#df-3c279f06-8ab4-4594-b648-d425a187a6f3 button');\n",
              "      quickchartButtonEl.style.display =\n",
              "        google.colab.kernel.accessAllowed ? 'block' : 'none';\n",
              "    })();\n",
              "  </script>\n",
              "</div>\n",
              "    </div>\n",
              "  </div>\n"
            ]
          },
          "metadata": {},
          "execution_count": 55
        }
      ]
    },
    {
      "cell_type": "markdown",
      "source": [
        "MODELISATION : Après la normalisation , passons maintenant à la modélisation ."
      ],
      "metadata": {
        "id": "HYZqHsc3SABz"
      }
    },
    {
      "cell_type": "markdown",
      "source": [
        "Pour l'évaluation de la performance du modèle , nous choisissons le F1 score"
      ],
      "metadata": {
        "id": "Ub3Y0Ab-0l7P"
      }
    },
    {
      "cell_type": "code",
      "source": [
        "# Séléction des variables prédictrices pour notre algorithme\n",
        " # Foret aléatoire\n",
        "rf = RandomForestClassifier()        # Création de la classe rendomForestClassifier car ont est en face d'un probleme de classification\n",
        "\n",
        "rf.fit(train_features , train_labels)  # entrainner avec les données d'antrainement\n",
        "\n",
        "print(classification_report(y_val, rf.predict(x_val)))   #Afficher le rapport de classification qui va permetttre de visualiser le métriques"
      ],
      "metadata": {
        "id": "GEwUaqTHSH1M",
        "colab": {
          "base_uri": "https://localhost:8080/"
        },
        "outputId": "147a0e59-51e8-4c63-8ed3-3875f9d097c8"
      },
      "execution_count": null,
      "outputs": [
        {
          "output_type": "stream",
          "name": "stdout",
          "text": [
            "              precision    recall  f1-score   support\n",
            "\n",
            "           0       0.97      0.97      0.97       531\n",
            "           1       0.85      0.84      0.84        99\n",
            "\n",
            "    accuracy                           0.95       630\n",
            "   macro avg       0.91      0.91      0.91       630\n",
            "weighted avg       0.95      0.95      0.95       630\n",
            "\n"
          ]
        }
      ]
    },
    {
      "cell_type": "markdown",
      "source": [
        "Remarque : Le modèle se comporte très bien face aux observations de la classe 0 malgré le problème de desequilibre réglé."
      ],
      "metadata": {
        "id": "Zec57Es8-HM3"
      }
    },
    {
      "cell_type": "code",
      "source": [
        "#Importance des variables independante\n",
        "\n",
        "vars_imp = pd.Series(rf.feature_importances_, index = train_features.columns).sort_values(ascending = False)\n",
        "\n",
        "sns.barplot(x=vars_imp.index, y=vars_imp)\n",
        "plt.xticks(rotation = 90)        # Afficher le nom de variables  en vartical\n",
        "plt.xlabel(\"Variables\")\n",
        "plt.ylabel(\"Score d'importance des variables\")\n",
        "plt.title(\"Importance des variables prédictrices\")\n",
        "# Afficher le graphique agrandi\n",
        "plt.show()\n"
      ],
      "metadata": {
        "id": "e4kRPTS6-jB_",
        "colab": {
          "base_uri": "https://localhost:8080/",
          "height": 626
        },
        "outputId": "e1614295-2cfb-462b-a440-061b5be027d0"
      },
      "execution_count": null,
      "outputs": [
        {
          "output_type": "display_data",
          "data": {
            "text/plain": [
              "<Figure size 640x480 with 1 Axes>"
            ],
            "image/png": "[encoded data removed]"
          },
          "metadata": {}
        }
      ]
    },
    {
      "cell_type": "code",
      "source": [
        "# Autre representation Importance des variables independante\n",
        "\n",
        "vars_imp = pd.Series(rf.feature_importances_, index = train_features.columns).sort_values(ascending = False)\n",
        "\n",
        "sns.barplot(x=vars_imp.index, y=vars_imp, palette=\"viridis\", ci=None, width=1.5)    # Modifiez la valeur de width selon vos préférences\n",
        "\n",
        "plt.xticks(rotation = 90)\n",
        "plt.xlabel(\"Variables\")\n",
        "plt.ylabel(\"Score d'importance des variables\")\n",
        "plt.title(\"Importance des variables prédictrices\")\n",
        "# Afficher le graphique agrandi\n",
        "plt.show()"
      ],
      "metadata": {
        "id": "uJWfOok6EfKt",
        "colab": {
          "base_uri": "https://localhost:8080/",
          "height": 713
        },
        "outputId": "7f903fcd-dbb6-48bb-c681-5d08b8ca4361"
      },
      "execution_count": null,
      "outputs": [
        {
          "output_type": "stream",
          "name": "stderr",
          "text": [
            "<ipython-input-58-4beeb7c6b31e>:5: FutureWarning: \n",
            "\n",
            "The `ci` parameter is deprecated. Use `errorbar=None` for the same effect.\n",
            "\n",
            "  sns.barplot(x=vars_imp.index, y=vars_imp, palette=\"viridis\", ci=None, width=1.5)    # Modifiez la valeur de width selon vos préférences\n"
          ]
        },
        {
          "output_type": "display_data",
          "data": {
            "text/plain": [
              "<Figure size 640x480 with 1 Axes>"
            ],
            "image/png": "[encoded data removed]"
          },
          "metadata": {}
        }
      ]
    },
    {
      "cell_type": "code",
      "source": [
        "#Affichage des variables importantes  (vars_imp) selon leur coefficients d'importance.\n",
        "vars_imp"
      ],
      "metadata": {
        "id": "Z67QI9BYHoob",
        "colab": {
          "base_uri": "https://localhost:8080/"
        },
        "outputId": "d893c10e-0166-4e56-e00a-1523e03d1657"
      },
      "execution_count": null,
      "outputs": [
        {
          "output_type": "execute_result",
          "data": {
            "text/plain": [
              "Status                     0.174654\n",
              "Seconds of Use             0.125841\n",
              "Complains                  0.115964\n",
              "Frequency of use           0.115787\n",
              "Customer Value             0.109245\n",
              "Subscription  Length       0.096755\n",
              "Frequency of SMS           0.071949\n",
              "Distinct Called Numbers    0.071448\n",
              "Call  Failure              0.042908\n",
              "Age Group                  0.027238\n",
              "Age                        0.025041\n",
              "Charge  Amount             0.021599\n",
              "Tariff Plan                0.001571\n",
              "dtype: float64"
            ]
          },
          "metadata": {},
          "execution_count": 59
        }
      ]
    },
    {
      "cell_type": "code",
      "source": [
        "#Rétention de variables dant le seuil d'importance est inférieur à 0.03 pour nos algorithmes\n",
        "\n",
        "seuil = 0.03\n",
        "\n",
        "vars_selected = vars_imp[vars_imp>0.03].index.to_list()\n",
        "\n",
        "train_features = train_features[vars_selected]\n",
        "\n",
        "x_val = x_val[vars_selected]\n",
        "x_test = x_test[vars_selected]"
      ],
      "metadata": {
        "id": "fEkf_ZaCIp6E"
      },
      "execution_count": null,
      "outputs": []
    },
    {
      "cell_type": "code",
      "source": [
        "#Nombre de variables prédictrices\n",
        "\n",
        "len(vars_selected)  # ou len(tran_features.columns)"
      ],
      "metadata": {
        "id": "S1g6WdAHMv9J",
        "colab": {
          "base_uri": "https://localhost:8080/"
        },
        "outputId": "17bb6b43-47e4-46d1-cd18-a487ceb4e9d1"
      },
      "execution_count": null,
      "outputs": [
        {
          "output_type": "execute_result",
          "data": {
            "text/plain": [
              "9"
            ]
          },
          "metadata": {},
          "execution_count": 61
        }
      ]
    },
    {
      "cell_type": "markdown",
      "source": [
        "Finalement , 9 variables iront en modélisation"
      ],
      "metadata": {
        "id": "OxZRf9yKNE4V"
      }
    },
    {
      "cell_type": "markdown",
      "source": [
        "NOTRE OBJECTIF : Construire un modèle qui permet de predir si un client va se désabonner ou non."
      ],
      "metadata": {
        "id": "D3H3fdjbIhuf"
      }
    },
    {
      "cell_type": "markdown",
      "source": [
        "MODELISATION : Nous aurons a utiliser differents types d'algorithmes\n",
        "\n",
        "*La regression logistique * la Modèle de foret aléatoire * classificateurs perceptron multicouche * support vector Machine*"
      ],
      "metadata": {
        "id": "x2OdSB4lNO4l"
      }
    },
    {
      "cell_type": "markdown",
      "source": [
        "1-REGRESSION LOGISTIQUE"
      ],
      "metadata": {
        "id": "PdZGfwo5S4S8"
      }
    },
    {
      "cell_type": "code",
      "source": [
        "#Dictionnaires des hyperparametres\n",
        "\n",
        "param_grid = {'C':[0.001,0.01,1,10,50,100,500]}     # définition de dictionnaire des hyperparametres\n",
        "\n",
        "#Objet GridSearchCV\n",
        "\n",
        "grid_logreg_class = GridSearchCV(estimator=LogisticRegression(random_state=seed, max_iter=500),\n",
        "                                 param_grid=param_grid,\n",
        "                                 scoring='f1',\n",
        "                                 cv=5)\n",
        "#Entrainement de l'algorithme crée :\n",
        "\n",
        "logreg_model = grid_logreg_class.fit(train_features,train_labels)\n",
        "\n",
        "#Meilleur score , meilleur hyperparamètre\n",
        "\n",
        "print(round(logreg_model.best_score_,3))\n",
        "\n",
        "print(logreg_model.best_estimator_)\n"
      ],
      "metadata": {
        "id": "M4flDIymNLvI",
        "colab": {
          "base_uri": "https://localhost:8080/"
        },
        "outputId": "59caf011-d500-4e49-ab32-1242b9142fd4"
      },
      "execution_count": null,
      "outputs": [
        {
          "output_type": "stream",
          "name": "stdout",
          "text": [
            "0.874\n",
            "LogisticRegression(C=1, max_iter=500, random_state=111)\n"
          ]
        }
      ]
    },
    {
      "cell_type": "markdown",
      "source": [
        "On obtient le meilleur score qui est de 0.874 et le meilleur C=1"
      ],
      "metadata": {
        "id": "i8W1CnQGL7F5"
      }
    },
    {
      "cell_type": "markdown",
      "source": [
        "Ce code crée un objet grid_logreg_class en utilisant la classe GridSearchCV de la bibliothèque scikit-learn.\n",
        "\n",
        " GridSearchCV est une technique qui permet de rechercher les meilleurs hyperparamètres pour un modèle donné.\n",
        "\n",
        "Voici une explication détaillée de chaque argument passé à GridSearchCV :\n",
        "\n",
        "estimator=LogisticRegression(random_state=seed, max_iter=500) : C'est l'estimateur de base pour lequel nous recherchons les meilleurs hyperparamètres.\n",
        "\n",
        "Les hyperparamètres :  random_state (pour la reproductibilité) et max_iter (le nombre maximal d'itérations pour la convergence de l'algorithme de la régression logistique).\n",
        "\n",
        "param_grid=param_grid : C'est le dictionnaire qui spécifie les combinaisons d'hyperparamètres à explorer.\n",
        "\n",
        "scoring='f1' : C'est la métrique d'évaluation utilisée pour comparer les performances des différentes combinaisons d'hyperparamètres.\n",
        "\n",
        "cv=5 : C'est la stratégie de validation croisée utilisée pour évaluer les performances des modèles. Ici, la validation croisée à 5 plis est utilisée, ce qui signifie que les données seront divisées en 5 ensembles de formation et de test pour évaluer les performances de chaque modèle.\n",
        "\n",
        "\n",
        "\n",
        "\n",
        "\n",
        "\n"
      ],
      "metadata": {
        "id": "gqd_RTVWmfpe"
      }
    },
    {
      "cell_type": "markdown",
      "source": [
        "En résumé, ce code crée un objet GridSearchCV pour rechercher les meilleurs hyperparamètres pour un modèle de régression logistique en utilisant le score F1 comme métrique d'évaluation. La grille des hyperparamètres à explorer est spécifiée dans param_grid, et la validation croisée à 5 plis est utilisée pour évaluer les performances. Une fois que grid_logreg_class est créé, vous pouvez l'utiliser pour effectuer la recherche des hyperparamètres et obtenir le meilleur modèle avec les paramètres optimaux."
      ],
      "metadata": {
        "id": "hG9liDQWnS3y"
      }
    },
    {
      "cell_type": "markdown",
      "source": [
        "GENERALISATION : Le modèle a un bon score d'entrainemment , maintenant évaluons le sur nos données de validations afin de voir sa capacité de généralisation."
      ],
      "metadata": {
        "id": "dl1jgmNkMWVc"
      }
    },
    {
      "cell_type": "code",
      "source": [
        "# Fonction d'évaluation de la performance du modèle\n",
        "\n",
        "from sklearn.metrics import classification_report\n",
        "\n",
        "def model_evaluation(model, features, labels):\n",
        "  pred = model.predict(features)\n",
        "  print(classification_report(labels, pred))"
      ],
      "metadata": {
        "id": "QrZk3h1pMMU_"
      },
      "execution_count": null,
      "outputs": []
    },
    {
      "cell_type": "code",
      "source": [
        "# Evaluation du modèle de regression logistique\n",
        "\n",
        "model_evaluation(logreg_model,x_val,y_val)"
      ],
      "metadata": {
        "id": "AqWWNmWSP0SX",
        "colab": {
          "base_uri": "https://localhost:8080/"
        },
        "outputId": "3e30690a-6645-411e-a9a0-65d94693e1af"
      },
      "execution_count": null,
      "outputs": [
        {
          "output_type": "stream",
          "name": "stdout",
          "text": [
            "              precision    recall  f1-score   support\n",
            "\n",
            "           0       0.98      0.85      0.91       531\n",
            "           1       0.52      0.89      0.65        99\n",
            "\n",
            "    accuracy                           0.85       630\n",
            "   macro avg       0.75      0.87      0.78       630\n",
            "weighted avg       0.90      0.85      0.87       630\n",
            "\n"
          ]
        }
      ]
    },
    {
      "cell_type": "markdown",
      "source": [
        "On obtient un tableau de classification avec précision globale =0.85 , f1 score sur la classe positive qui est de 0.65 et le modèle qui se comporte bien avec la classe 0."
      ],
      "metadata": {
        "id": "0epPXBlbRuTe"
      }
    },
    {
      "cell_type": "markdown",
      "source": [
        "RFE :  Appliquons l'algorithme rfe (recursive feature eliminator) afin de voir s'il garde les memes performances lorsqu'on réduit le nombre de predicteurs."
      ],
      "metadata": {
        "id": "ph6dj0IdSVUr"
      }
    },
    {
      "cell_type": "code",
      "source": [
        "#Création de fonction de construction de modèle avec l'utilisation de l'algorithme RFE\n",
        "\n",
        "def model_with_rfe(model):\n",
        "  rfe_model = RFE(estimator = model,verbose = 0)\n",
        "  rfe_model.fit(train_features,train_labels)\n",
        "  mask = rfe_model.support_\n",
        "  reduced_x = train_features.loc[:, mask]\n",
        "  print(reduced_x.columns)\n",
        "  return rfe_model"
      ],
      "metadata": {
        "id": "k-9ouCboSSUV"
      },
      "execution_count": null,
      "outputs": []
    },
    {
      "cell_type": "code",
      "source": [
        "#Logistic Regression RFE\n",
        "\n",
        "rfe_logreg_model = model_with_rfe(logreg_model.best_estimator_)\n",
        "\n",
        "rfe_logreg_model"
      ],
      "metadata": {
        "id": "N4l_sQy5TUet",
        "colab": {
          "base_uri": "https://localhost:8080/",
          "height": 169
        },
        "outputId": "d02ab992-792f-4998-8421-b8280248175e"
      },
      "execution_count": null,
      "outputs": [
        {
          "output_type": "stream",
          "name": "stdout",
          "text": [
            "Index(['Complains', 'Frequency of use', 'Frequency of SMS',\n",
            "       'Distinct Called Numbers'],\n",
            "      dtype='object')\n"
          ]
        },
        {
          "output_type": "execute_result",
          "data": {
            "text/plain": [
              "RFE(estimator=LogisticRegression(C=1, max_iter=500, random_state=111))"
            ],
            "text/html": [
              "<style>#sk-container-id-1 {color: black;background-color: white;}#sk-container-id-1 pre{padding: 0;}#sk-container-id-1 div.sk-toggleable {background-color: white;}#sk-container-id-1 label.sk-toggleable__label {cursor: pointer;display: block;width: 100%;margin-bottom: 0;padding: 0.3em;box-sizing: border-box;text-align: center;}#sk-container-id-1 label.sk-toggleable__label-arrow:before {content: \"▸\";float: left;margin-right: 0.25em;color: #696969;}#sk-container-id-1 label.sk-toggleable__label-arrow:hover:before {color: black;}#sk-container-id-1 div.sk-estimator:hover label.sk-toggleable__label-arrow:before {color: black;}#sk-container-id-1 div.sk-toggleable__content {max-height: 0;max-width: 0;overflow: hidden;text-align: left;background-color: #f0f8ff;}#sk-container-id-1 div.sk-toggleable__content pre {margin: 0.2em;color: black;border-radius: 0.25em;background-color: #f0f8ff;}#sk-container-id-1 input.sk-toggleable__control:checked~div.sk-toggleable__content {max-height: 200px;max-width: 100%;overflow: auto;}#sk-container-id-1 input.sk-toggleable__control:checked~label.sk-toggleable__label-arrow:before {content: \"▾\";}#sk-container-id-1 div.sk-estimator input.sk-toggleable__control:checked~label.sk-toggleable__label {background-color: #d4ebff;}#sk-container-id-1 div.sk-label input.sk-toggleable__control:checked~label.sk-toggleable__label {background-color: #d4ebff;}#sk-container-id-1 input.sk-hidden--visually {border: 0;clip: rect(1px 1px 1px 1px);clip: rect(1px, 1px, 1px, 1px);height: 1px;margin: -1px;overflow: hidden;padding: 0;position: absolute;width: 1px;}#sk-container-id-1 div.sk-estimator {font-family: monospace;background-color: #f0f8ff;border: 1px dotted black;border-radius: 0.25em;box-sizing: border-box;margin-bottom: 0.5em;}#sk-container-id-1 div.sk-estimator:hover {background-color: #d4ebff;}#sk-container-id-1 div.sk-parallel-item::after {content: \"\";width: 100%;border-bottom: 1px solid gray;flex-grow: 1;}#sk-container-id-1 div.sk-label:hover label.sk-toggleable__label {background-color: #d4ebff;}#sk-container-id-1 div.sk-serial::before {content: \"\";position: absolute;border-left: 1px solid gray;box-sizing: border-box;top: 0;bottom: 0;left: 50%;z-index: 0;}#sk-container-id-1 div.sk-serial {display: flex;flex-direction: column;align-items: center;background-color: white;padding-right: 0.2em;padding-left: 0.2em;position: relative;}#sk-container-id-1 div.sk-item {position: relative;z-index: 1;}#sk-container-id-1 div.sk-parallel {display: flex;align-items: stretch;justify-content: center;background-color: white;position: relative;}#sk-container-id-1 div.sk-item::before, #sk-container-id-1 div.sk-parallel-item::before {content: \"\";position: absolute;border-left: 1px solid gray;box-sizing: border-box;top: 0;bottom: 0;left: 50%;z-index: -1;}#sk-container-id-1 div.sk-parallel-item {display: flex;flex-direction: column;z-index: 1;position: relative;background-color: white;}#sk-container-id-1 div.sk-parallel-item:first-child::after {align-self: flex-end;width: 50%;}#sk-container-id-1 div.sk-parallel-item:last-child::after {align-self: flex-start;width: 50%;}#sk-container-id-1 div.sk-parallel-item:only-child::after {width: 0;}#sk-container-id-1 div.sk-dashed-wrapped {border: 1px dashed gray;margin: 0 0.4em 0.5em 0.4em;box-sizing: border-box;padding-bottom: 0.4em;background-color: white;}#sk-container-id-1 div.sk-label label {font-family: monospace;font-weight: bold;display: inline-block;line-height: 1.2em;}#sk-container-id-1 div.sk-label-container {text-align: center;}#sk-container-id-1 div.sk-container {/* jupyter's `normalize.less` sets `[hidden] { display: none; }` but bootstrap.min.css set `[hidden] { display: none !important; }` so we also need the `!important` here to be able to override the default hidden behavior on the sphinx rendered scikit-learn.org. See: https://github.com/scikit-learn/scikit-learn/issues/21755 */display: inline-block !important;position: relative;}#sk-container-id-1 div.sk-text-repr-fallback {display: none;}</style><div id=\"sk-container-id-1\" class=\"sk-top-container\"><div class=\"sk-text-repr-fallback\"><pre>RFE(estimator=LogisticRegression(C=1, max_iter=500, random_state=111))</pre><b>In a Jupyter environment, please rerun this cell to show the HTML representation or trust the notebook. <br />On GitHub, the HTML representation is unable to render, please try loading this page with nbviewer.org.</b></div><div class=\"sk-container\" hidden><div class=\"sk-item sk-dashed-wrapped\"><div class=\"sk-label-container\"><div class=\"sk-label sk-toggleable\"><input class=\"sk-toggleable__control sk-hidden--visually\" id=\"sk-estimator-id-1\" type=\"checkbox\" ><label for=\"sk-estimator-id-1\" class=\"sk-toggleable__label sk-toggleable__label-arrow\">RFE</label><div class=\"sk-toggleable__content\"><pre>RFE(estimator=LogisticRegression(C=1, max_iter=500, random_state=111))</pre></div></div></div><div class=\"sk-parallel\"><div class=\"sk-parallel-item\"><div class=\"sk-item\"><div class=\"sk-label-container\"><div class=\"sk-label sk-toggleable\"><input class=\"sk-toggleable__control sk-hidden--visually\" id=\"sk-estimator-id-2\" type=\"checkbox\" ><label for=\"sk-estimator-id-2\" class=\"sk-toggleable__label sk-toggleable__label-arrow\">estimator: LogisticRegression</label><div class=\"sk-toggleable__content\"><pre>LogisticRegression(C=1, max_iter=500, random_state=111)</pre></div></div></div><div class=\"sk-serial\"><div class=\"sk-item\"><div class=\"sk-estimator sk-toggleable\"><input class=\"sk-toggleable__control sk-hidden--visually\" id=\"sk-estimator-id-3\" type=\"checkbox\" ><label for=\"sk-estimator-id-3\" class=\"sk-toggleable__label sk-toggleable__label-arrow\">LogisticRegression</label><div class=\"sk-toggleable__content\"><pre>LogisticRegression(C=1, max_iter=500, random_state=111)</pre></div></div></div></div></div></div></div></div></div></div>"
            ]
          },
          "metadata": {},
          "execution_count": 66
        }
      ]
    },
    {
      "cell_type": "markdown",
      "source": [
        "Il a utilisé 4 variables prédictrices au lieu des 9 initiales."
      ],
      "metadata": {
        "id": "4KVomU8cVkH_"
      }
    },
    {
      "cell_type": "code",
      "source": [
        "#Evaluation du modèle de regression logistique avec RFE\n",
        "\n",
        "model_evaluation(rfe_logreg_model,x_val,y_val)"
      ],
      "metadata": {
        "id": "5uQHBSl4TUvA",
        "colab": {
          "base_uri": "https://localhost:8080/"
        },
        "outputId": "ee1a2fe5-0057-40f5-b3d5-3f476c5ed955"
      },
      "execution_count": null,
      "outputs": [
        {
          "output_type": "stream",
          "name": "stdout",
          "text": [
            "              precision    recall  f1-score   support\n",
            "\n",
            "           0       0.96      0.80      0.88       531\n",
            "           1       0.44      0.84      0.58        99\n",
            "\n",
            "    accuracy                           0.81       630\n",
            "   macro avg       0.70      0.82      0.73       630\n",
            "weighted avg       0.88      0.81      0.83       630\n",
            "\n"
          ]
        }
      ]
    },
    {
      "cell_type": "markdown",
      "source": [
        "REF a réduit le nombre de predicteurs de 9 à 4 mais n'a pas amélioré la performance du modèle .Ce qui montre la puissance du moèle RFE"
      ],
      "metadata": {
        "id": "v2r5mdJzWfh1"
      }
    },
    {
      "cell_type": "markdown",
      "source": [
        "MODELE DE FORET ALEATOIRE"
      ],
      "metadata": {
        "id": "_cQIQSFf-xpP"
      }
    },
    {
      "cell_type": "markdown",
      "source": [
        "C'est un ensemble d'arbre de décision : les paramètres les plus important sont : le nombre d'arbres dans la foret , la profondeur maximum d'un arbred et décision.Ce sont ces deux paramètres que nouis allons régler."
      ],
      "metadata": {
        "id": "7Wc2ZgtwOcqY"
      }
    },
    {
      "cell_type": "code",
      "source": [
        "#Dictionnaires des hyperparamètres\n",
        "\n",
        "param_grid_rf = {'n_estimators':[10,50,100,500,1000],'max_depth':[3,5,10,20, None],\n",
        "              'max_depth':[3,5,10,20,None]}\n",
        "\n",
        "#Objet GridSearchCV\n",
        "\n",
        "grid_rf_class = GridSearchCV(estimator = RandomForestClassifier(random_state = seed),\n",
        "                            param_grid = param_grid_rf,\n",
        "                            scoring = 'f1',\n",
        "                            cv = 5)\n",
        "#Entrainement de l'algorithme\n",
        "\n",
        "rf_model = grid_rf_class.fit(train_features , train_labels)\n",
        "\n",
        "# Meilleurs scores et meilleurs hyperparamètres\n",
        "print(round(rf_model.best_score_, 3))\n",
        "print(rf_model.best_estimator_)"
      ],
      "metadata": {
        "id": "3PcGCO0H_IMs",
        "colab": {
          "base_uri": "https://localhost:8080/"
        },
        "outputId": "9136d0d7-27d3-4559-ab16-7c53c01b1f18"
      },
      "execution_count": null,
      "outputs": [
        {
          "output_type": "stream",
          "name": "stdout",
          "text": [
            "0.981\n",
            "RandomForestClassifier(n_estimators=500, random_state=111)\n"
          ]
        }
      ]
    },
    {
      "cell_type": "markdown",
      "source": [
        "Le meilleur score trouvé lors du processus d'ajustement est de 0.981 et le modèle avec 1000 arbres (n_estimators=1000) et une graine aléatoire de 111 (random_state=111) est celui qui a produit ce f1"
      ],
      "metadata": {
        "id": "oGcDBiTPUmDT"
      }
    },
    {
      "cell_type": "code",
      "source": [
        "# Evaluation du modèle de foret aléatoire\n",
        "\n",
        "model_evaluation(rf_model.best_estimator_,x_val,y_val)"
      ],
      "metadata": {
        "id": "G8NPM13bTqHH",
        "colab": {
          "base_uri": "https://localhost:8080/"
        },
        "outputId": "adee61f5-ef9d-415f-ecdf-2936ee36f37d"
      },
      "execution_count": null,
      "outputs": [
        {
          "output_type": "stream",
          "name": "stdout",
          "text": [
            "              precision    recall  f1-score   support\n",
            "\n",
            "           0       0.96      0.97      0.97       531\n",
            "           1       0.84      0.80      0.82        99\n",
            "\n",
            "    accuracy                           0.94       630\n",
            "   macro avg       0.90      0.88      0.89       630\n",
            "weighted avg       0.94      0.94      0.94       630\n",
            "\n"
          ]
        }
      ]
    },
    {
      "cell_type": "markdown",
      "source": [
        "Comparé aux valeurs de la regression logistique ,  modèle de foret aléatoire semble plus éfficace care a des f1 scores plus élevés ."
      ],
      "metadata": {
        "id": "pCusBgWKb3wc"
      }
    },
    {
      "cell_type": "code",
      "source": [
        "#Random Forest avec RFE\n",
        "\n",
        "rfe_forest_model = model_with_rfe(rf_model.best_estimator_)\n",
        "rfe_forest_model"
      ],
      "metadata": {
        "id": "hCoDg_1KYzUw",
        "colab": {
          "base_uri": "https://localhost:8080/"
        },
        "outputId": "0fb0087b-7600-4d10-ec48-de7710762f57"
      },
      "execution_count": null,
      "outputs": [
        {
          "output_type": "stream",
          "name": "stdout",
          "text": [
            "Index(['Status', 'Seconds of Use', 'Frequency of use', 'Customer Value'], dtype='object')\n"
          ]
        },
        {
          "output_type": "execute_result",
          "data": {
            "text/plain": [
              "RFE(estimator=RandomForestClassifier(n_estimators=500, random_state=111))"
            ],
            "text/html": [
              "<style>#sk-container-id-2 {color: black;background-color: white;}#sk-container-id-2 pre{padding: 0;}#sk-container-id-2 div.sk-toggleable {background-color: white;}#sk-container-id-2 label.sk-toggleable__label {cursor: pointer;display: block;width: 100%;margin-bottom: 0;padding: 0.3em;box-sizing: border-box;text-align: center;}#sk-container-id-2 label.sk-toggleable__label-arrow:before {content: \"▸\";float: left;margin-right: 0.25em;color: #696969;}#sk-container-id-2 label.sk-toggleable__label-arrow:hover:before {color: black;}#sk-container-id-2 div.sk-estimator:hover label.sk-toggleable__label-arrow:before {color: black;}#sk-container-id-2 div.sk-toggleable__content {max-height: 0;max-width: 0;overflow: hidden;text-align: left;background-color: #f0f8ff;}#sk-container-id-2 div.sk-toggleable__content pre {margin: 0.2em;color: black;border-radius: 0.25em;background-color: #f0f8ff;}#sk-container-id-2 input.sk-toggleable__control:checked~div.sk-toggleable__content {max-height: 200px;max-width: 100%;overflow: auto;}#sk-container-id-2 input.sk-toggleable__control:checked~label.sk-toggleable__label-arrow:before {content: \"▾\";}#sk-container-id-2 div.sk-estimator input.sk-toggleable__control:checked~label.sk-toggleable__label {background-color: #d4ebff;}#sk-container-id-2 div.sk-label input.sk-toggleable__control:checked~label.sk-toggleable__label {background-color: #d4ebff;}#sk-container-id-2 input.sk-hidden--visually {border: 0;clip: rect(1px 1px 1px 1px);clip: rect(1px, 1px, 1px, 1px);height: 1px;margin: -1px;overflow: hidden;padding: 0;position: absolute;width: 1px;}#sk-container-id-2 div.sk-estimator {font-family: monospace;background-color: #f0f8ff;border: 1px dotted black;border-radius: 0.25em;box-sizing: border-box;margin-bottom: 0.5em;}#sk-container-id-2 div.sk-estimator:hover {background-color: #d4ebff;}#sk-container-id-2 div.sk-parallel-item::after {content: \"\";width: 100%;border-bottom: 1px solid gray;flex-grow: 1;}#sk-container-id-2 div.sk-label:hover label.sk-toggleable__label {background-color: #d4ebff;}#sk-container-id-2 div.sk-serial::before {content: \"\";position: absolute;border-left: 1px solid gray;box-sizing: border-box;top: 0;bottom: 0;left: 50%;z-index: 0;}#sk-container-id-2 div.sk-serial {display: flex;flex-direction: column;align-items: center;background-color: white;padding-right: 0.2em;padding-left: 0.2em;position: relative;}#sk-container-id-2 div.sk-item {position: relative;z-index: 1;}#sk-container-id-2 div.sk-parallel {display: flex;align-items: stretch;justify-content: center;background-color: white;position: relative;}#sk-container-id-2 div.sk-item::before, #sk-container-id-2 div.sk-parallel-item::before {content: \"\";position: absolute;border-left: 1px solid gray;box-sizing: border-box;top: 0;bottom: 0;left: 50%;z-index: -1;}#sk-container-id-2 div.sk-parallel-item {display: flex;flex-direction: column;z-index: 1;position: relative;background-color: white;}#sk-container-id-2 div.sk-parallel-item:first-child::after {align-self: flex-end;width: 50%;}#sk-container-id-2 div.sk-parallel-item:last-child::after {align-self: flex-start;width: 50%;}#sk-container-id-2 div.sk-parallel-item:only-child::after {width: 0;}#sk-container-id-2 div.sk-dashed-wrapped {border: 1px dashed gray;margin: 0 0.4em 0.5em 0.4em;box-sizing: border-box;padding-bottom: 0.4em;background-color: white;}#sk-container-id-2 div.sk-label label {font-family: monospace;font-weight: bold;display: inline-block;line-height: 1.2em;}#sk-container-id-2 div.sk-label-container {text-align: center;}#sk-container-id-2 div.sk-container {/* jupyter's `normalize.less` sets `[hidden] { display: none; }` but bootstrap.min.css set `[hidden] { display: none !important; }` so we also need the `!important` here to be able to override the default hidden behavior on the sphinx rendered scikit-learn.org. See: https://github.com/scikit-learn/scikit-learn/issues/21755 */display: inline-block !important;position: relative;}#sk-container-id-2 div.sk-text-repr-fallback {display: none;}</style><div id=\"sk-container-id-2\" class=\"sk-top-container\"><div class=\"sk-text-repr-fallback\"><pre>RFE(estimator=RandomForestClassifier(n_estimators=500, random_state=111))</pre><b>In a Jupyter environment, please rerun this cell to show the HTML representation or trust the notebook. <br />On GitHub, the HTML representation is unable to render, please try loading this page with nbviewer.org.</b></div><div class=\"sk-container\" hidden><div class=\"sk-item sk-dashed-wrapped\"><div class=\"sk-label-container\"><div class=\"sk-label sk-toggleable\"><input class=\"sk-toggleable__control sk-hidden--visually\" id=\"sk-estimator-id-4\" type=\"checkbox\" ><label for=\"sk-estimator-id-4\" class=\"sk-toggleable__label sk-toggleable__label-arrow\">RFE</label><div class=\"sk-toggleable__content\"><pre>RFE(estimator=RandomForestClassifier(n_estimators=500, random_state=111))</pre></div></div></div><div class=\"sk-parallel\"><div class=\"sk-parallel-item\"><div class=\"sk-item\"><div class=\"sk-label-container\"><div class=\"sk-label sk-toggleable\"><input class=\"sk-toggleable__control sk-hidden--visually\" id=\"sk-estimator-id-5\" type=\"checkbox\" ><label for=\"sk-estimator-id-5\" class=\"sk-toggleable__label sk-toggleable__label-arrow\">estimator: RandomForestClassifier</label><div class=\"sk-toggleable__content\"><pre>RandomForestClassifier(n_estimators=500, random_state=111)</pre></div></div></div><div class=\"sk-serial\"><div class=\"sk-item\"><div class=\"sk-estimator sk-toggleable\"><input class=\"sk-toggleable__control sk-hidden--visually\" id=\"sk-estimator-id-6\" type=\"checkbox\" ><label for=\"sk-estimator-id-6\" class=\"sk-toggleable__label sk-toggleable__label-arrow\">RandomForestClassifier</label><div class=\"sk-toggleable__content\"><pre>RandomForestClassifier(n_estimators=500, random_state=111)</pre></div></div></div></div></div></div></div></div></div></div>"
            ]
          },
          "metadata": {},
          "execution_count": 70
        }
      ]
    },
    {
      "cell_type": "markdown",
      "source": [
        "Le RFE de foret aléatoir affiche uniquement les variables considérés :  (4)'Status', 'Seconds of Use', 'Customer Value', 'Frequency of use' .Mais les hyperparamètres n'ont pas changés."
      ],
      "metadata": {
        "id": "DkN6BZLTgATq"
      }
    },
    {
      "cell_type": "code",
      "source": [
        "#Evaluation de modèle de foret aléatoire avec RFE :\n",
        "model_evaluation(rfe_forest_model,x_val,y_val)"
      ],
      "metadata": {
        "id": "OVcS76x3gfRu",
        "colab": {
          "base_uri": "https://localhost:8080/"
        },
        "outputId": "d6b7d962-002b-4093-9ea3-ee725c0431bd"
      },
      "execution_count": null,
      "outputs": [
        {
          "output_type": "stream",
          "name": "stdout",
          "text": [
            "              precision    recall  f1-score   support\n",
            "\n",
            "           0       0.94      0.92      0.93       531\n",
            "           1       0.62      0.69      0.65        99\n",
            "\n",
            "    accuracy                           0.89       630\n",
            "   macro avg       0.78      0.80      0.79       630\n",
            "weighted avg       0.89      0.89      0.89       630\n",
            "\n"
          ]
        }
      ]
    },
    {
      "cell_type": "markdown",
      "source": [
        "max_depth=20: Cela signifie que les arbres de la forêt aléatoire auront une profondeur maximale de 20 niveaux. La profondeur d'un arbre correspond au nombre de niveaux dans l'arborescence de décision. Des arbres plus profonds peuvent capturer des relations plus complexes dans les données d'entraînement, mais cela peut également augmenter le risque de surajustement (overfitting)."
      ],
      "metadata": {
        "id": "D7CcwtmyhDmo"
      }
    },
    {
      "cell_type": "markdown",
      "source": [
        "CONCLUSION : Au vu de ces résultats nous retiendrons le modèle de foret aléatoire sans RFE.Donc on peut maintenant appliquer ce modèle sur les données de test."
      ],
      "metadata": {
        "id": "i4xkuT40jxxX"
      }
    },
    {
      "cell_type": "code",
      "source": [
        "#Evaluation du model de foret aléatoire sur nos données de tests\n",
        "\n",
        "model_evaluation(rf_model.best_estimator_,x_test,y_test)"
      ],
      "metadata": {
        "id": "QsvOCSEjlBz8",
        "colab": {
          "base_uri": "https://localhost:8080/"
        },
        "outputId": "bdc36d53-b7e2-4917-b916-188b104ab0b9"
      },
      "execution_count": null,
      "outputs": [
        {
          "output_type": "stream",
          "name": "stdout",
          "text": [
            "              precision    recall  f1-score   support\n",
            "\n",
            "           0       0.96      0.97      0.96       531\n",
            "           1       0.81      0.80      0.81        99\n",
            "\n",
            "    accuracy                           0.94       630\n",
            "   macro avg       0.89      0.88      0.89       630\n",
            "weighted avg       0.94      0.94      0.94       630\n",
            "\n"
          ]
        }
      ]
    },
    {
      "cell_type": "markdown",
      "source": [
        "On remarque un résultat semsiblement égal à celui des données de validations mais en moins bon.Mais l'accurancy reste le meme."
      ],
      "metadata": {
        "id": "B3q4E1kToN2t"
      }
    },
    {
      "cell_type": "markdown",
      "source": [
        "CONCLUSION DU PROJET : NOUS AVONS POUR CE PROJET MIS EN CONCURRENCE DEUX CELEBRES MODELES DE MACHINE LEARNING ( la regression logistique et le calssificateur de foret aléatoire) ET CELUI QUE NOUS AVONS RETENU POUR L'EVALUATION DE NOS DONNEES DE TESTS EST LE CLASSIFICATEUR DE FORETS ALEATOIRE CAR IL PRESENTE UNE MEILLEUR PERFORMANCE."
      ],
      "metadata": {
        "id": "9R9ZEbBBpDDD"
      }
    }
  ]
}